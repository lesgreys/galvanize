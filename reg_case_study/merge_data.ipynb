{
 "metadata": {
  "language_info": {
   "codemirror_mode": {
    "name": "ipython",
    "version": 3
   },
   "file_extension": ".py",
   "mimetype": "text/x-python",
   "name": "python",
   "nbconvert_exporter": "python",
   "pygments_lexer": "ipython3",
   "version": 3
  },
  "orig_nbformat": 2,
  "kernelspec": {
   "name": "python_defaultSpec_1596213321327",
   "display_name": "Python 3.7.7 64-bit ('base': conda)"
  }
 },
 "nbformat": 4,
 "nbformat_minor": 2,
 "cells": [
  {
   "cell_type": "code",
   "execution_count": 40,
   "metadata": {},
   "outputs": [],
   "source": [
    "%reload_ext autoreload\n",
    "%autoreload 2\n",
    "%matplotlib inline\n",
    "\n",
    "import numpy as np\n",
    "import pandas as pd\n",
    "import matplotlib.pyplot as plt\n",
    "import matplotlib._color_data as mcd\n",
    "import seaborn as sns\n",
    "import statsmodels.formula.api as smf\n",
    "import statsmodels.api as sm"
   ]
  },
  {
   "cell_type": "code",
   "execution_count": 2,
   "metadata": {},
   "outputs": [],
   "source": [
    "#load Amfar opioid and HIV data, add county code\n",
    "opiod_df = pd.read_table('data/amfAR/countydata.tsv',header=0)\n",
    "opiod_df['county_code'] = opiod_df.STATEFP*1000 + opiod_df.COUNTYFP # build a county code column\n",
    "opiod_df['county_code'] = opiod_df.county_code.astype(int)"
   ]
  },
  {
   "cell_type": "code",
   "execution_count": 3,
   "metadata": {},
   "outputs": [
    {
     "output_type": "execute_result",
     "data": {
      "text/plain": "   STATEFP  COUNTYFP  YEAR INDICATOR  VALUE          COUNTY    STATE  \\\n0        1         1  2017  bup_phys    2.0  Autauga County  Alabama   \n1        1         3  2017  bup_phys   13.0  Baldwin County  Alabama   \n2        1         5  2017  bup_phys    0.0  Barbour County  Alabama   \n3        1         7  2017  bup_phys    0.0     Bibb County  Alabama   \n4        1         9  2017  bup_phys    1.0   Blount County  Alabama   \n\n  STATEABBREVIATION  county_code  \n0                AL         1001  \n1                AL         1003  \n2                AL         1005  \n3                AL         1007  \n4                AL         1009  ",
      "text/html": "<div>\n<style scoped>\n    .dataframe tbody tr th:only-of-type {\n        vertical-align: middle;\n    }\n\n    .dataframe tbody tr th {\n        vertical-align: top;\n    }\n\n    .dataframe thead th {\n        text-align: right;\n    }\n</style>\n<table border=\"1\" class=\"dataframe\">\n  <thead>\n    <tr style=\"text-align: right;\">\n      <th></th>\n      <th>STATEFP</th>\n      <th>COUNTYFP</th>\n      <th>YEAR</th>\n      <th>INDICATOR</th>\n      <th>VALUE</th>\n      <th>COUNTY</th>\n      <th>STATE</th>\n      <th>STATEABBREVIATION</th>\n      <th>county_code</th>\n    </tr>\n  </thead>\n  <tbody>\n    <tr>\n      <th>0</th>\n      <td>1</td>\n      <td>1</td>\n      <td>2017</td>\n      <td>bup_phys</td>\n      <td>2.0</td>\n      <td>Autauga County</td>\n      <td>Alabama</td>\n      <td>AL</td>\n      <td>1001</td>\n    </tr>\n    <tr>\n      <th>1</th>\n      <td>1</td>\n      <td>3</td>\n      <td>2017</td>\n      <td>bup_phys</td>\n      <td>13.0</td>\n      <td>Baldwin County</td>\n      <td>Alabama</td>\n      <td>AL</td>\n      <td>1003</td>\n    </tr>\n    <tr>\n      <th>2</th>\n      <td>1</td>\n      <td>5</td>\n      <td>2017</td>\n      <td>bup_phys</td>\n      <td>0.0</td>\n      <td>Barbour County</td>\n      <td>Alabama</td>\n      <td>AL</td>\n      <td>1005</td>\n    </tr>\n    <tr>\n      <th>3</th>\n      <td>1</td>\n      <td>7</td>\n      <td>2017</td>\n      <td>bup_phys</td>\n      <td>0.0</td>\n      <td>Bibb County</td>\n      <td>Alabama</td>\n      <td>AL</td>\n      <td>1007</td>\n    </tr>\n    <tr>\n      <th>4</th>\n      <td>1</td>\n      <td>9</td>\n      <td>2017</td>\n      <td>bup_phys</td>\n      <td>1.0</td>\n      <td>Blount County</td>\n      <td>Alabama</td>\n      <td>AL</td>\n      <td>1009</td>\n    </tr>\n  </tbody>\n</table>\n</div>"
     },
     "metadata": {},
     "execution_count": 3
    }
   ],
   "source": [
    "opiod_df.head()"
   ]
  },
  {
   "cell_type": "code",
   "execution_count": 4,
   "metadata": {},
   "outputs": [],
   "source": [
    "#make changes to the amfar dataframe\n",
    "#convert from long to wide format\n",
    "index_lst = ['county_code', 'COUNTY', 'STATEABBREVIATION', 'YEAR']\n",
    "col_lst = ['INDICATOR']\n",
    "opiod_df_wide = opiod_df.pivot_table(values='VALUE', index=index_lst, columns=col_lst).reset_index()"
   ]
  },
  {
   "cell_type": "code",
   "execution_count": 5,
   "metadata": {},
   "outputs": [
    {
     "output_type": "execute_result",
     "data": {
      "text/plain": "INDICATOR  county_code          COUNTY STATEABBREVIATION  YEAR  AMAT_fac  \\\n0                 1001  Autauga County                AL  1999       NaN   \n1                 1001  Autauga County                AL  2000       NaN   \n2                 1001  Autauga County                AL  2001       NaN   \n3                 1001  Autauga County                AL  2002       NaN   \n4                 1001  Autauga County                AL  2003       NaN   \n\nINDICATOR  CDC_consult  HIVdiagnoses  HIVincidence  HIVprevalence  MH_fac  \\\n0                  NaN           NaN           NaN            NaN     NaN   \n1                  NaN           NaN           NaN            NaN     NaN   \n2                  NaN           NaN           NaN            NaN     NaN   \n3                  NaN           NaN           NaN            NaN     NaN   \n4                  NaN           NaN           NaN            NaN     NaN   \n\nINDICATOR  ...  drugdeathrate_est  drugdeaths  drugdep  mme_percap  \\\n0          ...                2.1         NaN      NaN         NaN   \n1          ...                4.1         NaN      NaN         NaN   \n2          ...                4.1         NaN      NaN         NaN   \n3          ...                4.1         NaN      NaN         NaN   \n4          ...                4.1         NaN      NaN         NaN   \n\nINDICATOR  nonmedpain  num_SSPs  partD30dayrxrate  pctunins  pctunmetneed  \\\n0                 NaN       NaN               NaN       NaN           NaN   \n1                 NaN       NaN               NaN       NaN           NaN   \n2                 NaN       NaN               NaN       NaN           NaN   \n3                 NaN       NaN               NaN       NaN           NaN   \n4                 NaN       NaN               NaN       NaN           NaN   \n\nINDICATOR  vulnerable_rank  \n0                      NaN  \n1                      NaN  \n2                      NaN  \n3                      NaN  \n4                      NaN  \n\n[5 rows x 32 columns]",
      "text/html": "<div>\n<style scoped>\n    .dataframe tbody tr th:only-of-type {\n        vertical-align: middle;\n    }\n\n    .dataframe tbody tr th {\n        vertical-align: top;\n    }\n\n    .dataframe thead th {\n        text-align: right;\n    }\n</style>\n<table border=\"1\" class=\"dataframe\">\n  <thead>\n    <tr style=\"text-align: right;\">\n      <th>INDICATOR</th>\n      <th>county_code</th>\n      <th>COUNTY</th>\n      <th>STATEABBREVIATION</th>\n      <th>YEAR</th>\n      <th>AMAT_fac</th>\n      <th>CDC_consult</th>\n      <th>HIVdiagnoses</th>\n      <th>HIVincidence</th>\n      <th>HIVprevalence</th>\n      <th>MH_fac</th>\n      <th>...</th>\n      <th>drugdeathrate_est</th>\n      <th>drugdeaths</th>\n      <th>drugdep</th>\n      <th>mme_percap</th>\n      <th>nonmedpain</th>\n      <th>num_SSPs</th>\n      <th>partD30dayrxrate</th>\n      <th>pctunins</th>\n      <th>pctunmetneed</th>\n      <th>vulnerable_rank</th>\n    </tr>\n  </thead>\n  <tbody>\n    <tr>\n      <th>0</th>\n      <td>1001</td>\n      <td>Autauga County</td>\n      <td>AL</td>\n      <td>1999</td>\n      <td>NaN</td>\n      <td>NaN</td>\n      <td>NaN</td>\n      <td>NaN</td>\n      <td>NaN</td>\n      <td>NaN</td>\n      <td>...</td>\n      <td>2.1</td>\n      <td>NaN</td>\n      <td>NaN</td>\n      <td>NaN</td>\n      <td>NaN</td>\n      <td>NaN</td>\n      <td>NaN</td>\n      <td>NaN</td>\n      <td>NaN</td>\n      <td>NaN</td>\n    </tr>\n    <tr>\n      <th>1</th>\n      <td>1001</td>\n      <td>Autauga County</td>\n      <td>AL</td>\n      <td>2000</td>\n      <td>NaN</td>\n      <td>NaN</td>\n      <td>NaN</td>\n      <td>NaN</td>\n      <td>NaN</td>\n      <td>NaN</td>\n      <td>...</td>\n      <td>4.1</td>\n      <td>NaN</td>\n      <td>NaN</td>\n      <td>NaN</td>\n      <td>NaN</td>\n      <td>NaN</td>\n      <td>NaN</td>\n      <td>NaN</td>\n      <td>NaN</td>\n      <td>NaN</td>\n    </tr>\n    <tr>\n      <th>2</th>\n      <td>1001</td>\n      <td>Autauga County</td>\n      <td>AL</td>\n      <td>2001</td>\n      <td>NaN</td>\n      <td>NaN</td>\n      <td>NaN</td>\n      <td>NaN</td>\n      <td>NaN</td>\n      <td>NaN</td>\n      <td>...</td>\n      <td>4.1</td>\n      <td>NaN</td>\n      <td>NaN</td>\n      <td>NaN</td>\n      <td>NaN</td>\n      <td>NaN</td>\n      <td>NaN</td>\n      <td>NaN</td>\n      <td>NaN</td>\n      <td>NaN</td>\n    </tr>\n    <tr>\n      <th>3</th>\n      <td>1001</td>\n      <td>Autauga County</td>\n      <td>AL</td>\n      <td>2002</td>\n      <td>NaN</td>\n      <td>NaN</td>\n      <td>NaN</td>\n      <td>NaN</td>\n      <td>NaN</td>\n      <td>NaN</td>\n      <td>...</td>\n      <td>4.1</td>\n      <td>NaN</td>\n      <td>NaN</td>\n      <td>NaN</td>\n      <td>NaN</td>\n      <td>NaN</td>\n      <td>NaN</td>\n      <td>NaN</td>\n      <td>NaN</td>\n      <td>NaN</td>\n    </tr>\n    <tr>\n      <th>4</th>\n      <td>1001</td>\n      <td>Autauga County</td>\n      <td>AL</td>\n      <td>2003</td>\n      <td>NaN</td>\n      <td>NaN</td>\n      <td>NaN</td>\n      <td>NaN</td>\n      <td>NaN</td>\n      <td>NaN</td>\n      <td>...</td>\n      <td>4.1</td>\n      <td>NaN</td>\n      <td>NaN</td>\n      <td>NaN</td>\n      <td>NaN</td>\n      <td>NaN</td>\n      <td>NaN</td>\n      <td>NaN</td>\n      <td>NaN</td>\n      <td>NaN</td>\n    </tr>\n  </tbody>\n</table>\n<p>5 rows × 32 columns</p>\n</div>"
     },
     "metadata": {},
     "execution_count": 5
    }
   ],
   "source": [
    "opiod_df_wide.head()"
   ]
  },
  {
   "cell_type": "code",
   "execution_count": 6,
   "metadata": {},
   "outputs": [],
   "source": [
    "# Focus on just the HIV related data, from 2008 onward\n",
    "opiod_df_wide = opiod_df_wide[opiod_df_wide['YEAR'] >= 2008] # subset for years that have hiv data\n",
    "cols_to_drop = ['CDC_consult', 'vulnerable_rank']\n",
    "#, 'num_SSPs', 'bup_phys', 'drugdep', 'pctunmetneed', 'nonmedpain']\n",
    "opiod_df_wide.drop(cols_to_drop, axis=1, inplace=True) # drop unnecessary columns"
   ]
  },
  {
   "cell_type": "code",
   "execution_count": 7,
   "metadata": {},
   "outputs": [
    {
     "output_type": "execute_result",
     "data": {
      "text/plain": "INDICATOR  county_code          COUNTY STATEABBREVIATION  YEAR  AMAT_fac  \\\n9                 1001  Autauga County                AL  2008       0.0   \n10                1001  Autauga County                AL  2009       0.0   \n11                1001  Autauga County                AL  2010       0.0   \n12                1001  Autauga County                AL  2011       0.0   \n13                1001  Autauga County                AL  2012       0.0   \n\nINDICATOR  HIVdiagnoses  HIVincidence  HIVprevalence  MH_fac  Med_AMAT_fac  \\\n9                   8.0          19.8            NaN     NaN           0.0   \n10                  7.0          17.1            NaN     NaN           0.0   \n11                  NaN           NaN            NaN     NaN           0.0   \n12                  7.0          15.5            NaN     NaN           0.0   \n13                  7.0          15.5            NaN     NaN           0.0   \n\nINDICATOR  ...  drugdeathrate  drugdeathrate_est  drugdeaths  drugdep  \\\n9          ...            NaN                6.1         NaN      NaN   \n10         ...            NaN                6.1         NaN      NaN   \n11         ...            NaN                8.1         NaN      NaN   \n12         ...            NaN                8.1         NaN      NaN   \n13         ...            NaN                8.1         NaN      NaN   \n\nINDICATOR  mme_percap  nonmedpain  num_SSPs  partD30dayrxrate  pctunins  \\\n9                 NaN         NaN       NaN               NaN       NaN   \n10                NaN         NaN       NaN               NaN       NaN   \n11             1050.8         NaN       NaN               NaN       NaN   \n12                NaN         NaN       NaN               NaN       NaN   \n13                NaN         NaN       NaN               NaN       NaN   \n\nINDICATOR  pctunmetneed  \n9                   NaN  \n10                  NaN  \n11                  NaN  \n12                  NaN  \n13                  NaN  \n\n[5 rows x 30 columns]",
      "text/html": "<div>\n<style scoped>\n    .dataframe tbody tr th:only-of-type {\n        vertical-align: middle;\n    }\n\n    .dataframe tbody tr th {\n        vertical-align: top;\n    }\n\n    .dataframe thead th {\n        text-align: right;\n    }\n</style>\n<table border=\"1\" class=\"dataframe\">\n  <thead>\n    <tr style=\"text-align: right;\">\n      <th>INDICATOR</th>\n      <th>county_code</th>\n      <th>COUNTY</th>\n      <th>STATEABBREVIATION</th>\n      <th>YEAR</th>\n      <th>AMAT_fac</th>\n      <th>HIVdiagnoses</th>\n      <th>HIVincidence</th>\n      <th>HIVprevalence</th>\n      <th>MH_fac</th>\n      <th>Med_AMAT_fac</th>\n      <th>...</th>\n      <th>drugdeathrate</th>\n      <th>drugdeathrate_est</th>\n      <th>drugdeaths</th>\n      <th>drugdep</th>\n      <th>mme_percap</th>\n      <th>nonmedpain</th>\n      <th>num_SSPs</th>\n      <th>partD30dayrxrate</th>\n      <th>pctunins</th>\n      <th>pctunmetneed</th>\n    </tr>\n  </thead>\n  <tbody>\n    <tr>\n      <th>9</th>\n      <td>1001</td>\n      <td>Autauga County</td>\n      <td>AL</td>\n      <td>2008</td>\n      <td>0.0</td>\n      <td>8.0</td>\n      <td>19.8</td>\n      <td>NaN</td>\n      <td>NaN</td>\n      <td>0.0</td>\n      <td>...</td>\n      <td>NaN</td>\n      <td>6.1</td>\n      <td>NaN</td>\n      <td>NaN</td>\n      <td>NaN</td>\n      <td>NaN</td>\n      <td>NaN</td>\n      <td>NaN</td>\n      <td>NaN</td>\n      <td>NaN</td>\n    </tr>\n    <tr>\n      <th>10</th>\n      <td>1001</td>\n      <td>Autauga County</td>\n      <td>AL</td>\n      <td>2009</td>\n      <td>0.0</td>\n      <td>7.0</td>\n      <td>17.1</td>\n      <td>NaN</td>\n      <td>NaN</td>\n      <td>0.0</td>\n      <td>...</td>\n      <td>NaN</td>\n      <td>6.1</td>\n      <td>NaN</td>\n      <td>NaN</td>\n      <td>NaN</td>\n      <td>NaN</td>\n      <td>NaN</td>\n      <td>NaN</td>\n      <td>NaN</td>\n      <td>NaN</td>\n    </tr>\n    <tr>\n      <th>11</th>\n      <td>1001</td>\n      <td>Autauga County</td>\n      <td>AL</td>\n      <td>2010</td>\n      <td>0.0</td>\n      <td>NaN</td>\n      <td>NaN</td>\n      <td>NaN</td>\n      <td>NaN</td>\n      <td>0.0</td>\n      <td>...</td>\n      <td>NaN</td>\n      <td>8.1</td>\n      <td>NaN</td>\n      <td>NaN</td>\n      <td>1050.8</td>\n      <td>NaN</td>\n      <td>NaN</td>\n      <td>NaN</td>\n      <td>NaN</td>\n      <td>NaN</td>\n    </tr>\n    <tr>\n      <th>12</th>\n      <td>1001</td>\n      <td>Autauga County</td>\n      <td>AL</td>\n      <td>2011</td>\n      <td>0.0</td>\n      <td>7.0</td>\n      <td>15.5</td>\n      <td>NaN</td>\n      <td>NaN</td>\n      <td>0.0</td>\n      <td>...</td>\n      <td>NaN</td>\n      <td>8.1</td>\n      <td>NaN</td>\n      <td>NaN</td>\n      <td>NaN</td>\n      <td>NaN</td>\n      <td>NaN</td>\n      <td>NaN</td>\n      <td>NaN</td>\n      <td>NaN</td>\n    </tr>\n    <tr>\n      <th>13</th>\n      <td>1001</td>\n      <td>Autauga County</td>\n      <td>AL</td>\n      <td>2012</td>\n      <td>0.0</td>\n      <td>7.0</td>\n      <td>15.5</td>\n      <td>NaN</td>\n      <td>NaN</td>\n      <td>0.0</td>\n      <td>...</td>\n      <td>NaN</td>\n      <td>8.1</td>\n      <td>NaN</td>\n      <td>NaN</td>\n      <td>NaN</td>\n      <td>NaN</td>\n      <td>NaN</td>\n      <td>NaN</td>\n      <td>NaN</td>\n      <td>NaN</td>\n    </tr>\n  </tbody>\n</table>\n<p>5 rows × 30 columns</p>\n</div>"
     },
     "metadata": {},
     "execution_count": 7
    }
   ],
   "source": [
    "opiod_df_wide.head()"
   ]
  },
  {
   "cell_type": "code",
   "execution_count": 8,
   "metadata": {},
   "outputs": [],
   "source": [
    "fill_nan_cols = ['HIVdiagnoses', 'HIVincidence', 'HIVprevalence',\n",
    "                 'PLHIV', 'drugdeathrate', 'drugdeaths']\n",
    "opiod_df_wide[fill_nan_cols] = opiod_df_wide[fill_nan_cols].fillna(0) #fill NaNs for suppressed data with zeroes"
   ]
  },
  {
   "cell_type": "code",
   "execution_count": 9,
   "metadata": {},
   "outputs": [
    {
     "output_type": "execute_result",
     "data": {
      "text/plain": "INDICATOR  county_code          COUNTY STATEABBREVIATION  YEAR  AMAT_fac  \\\n9                 1001  Autauga County                AL  2008       0.0   \n10                1001  Autauga County                AL  2009       0.0   \n11                1001  Autauga County                AL  2010       0.0   \n12                1001  Autauga County                AL  2011       0.0   \n13                1001  Autauga County                AL  2012       0.0   \n\nINDICATOR  HIVdiagnoses  HIVincidence  HIVprevalence  MH_fac  Med_AMAT_fac  \\\n9                   8.0          19.8            0.0     NaN           0.0   \n10                  7.0          17.1            0.0     NaN           0.0   \n11                  0.0           0.0            0.0     NaN           0.0   \n12                  7.0          15.5            0.0     NaN           0.0   \n13                  7.0          15.5            0.0     NaN           0.0   \n\nINDICATOR  ...  drugdeathrate  drugdeathrate_est  drugdeaths  drugdep  \\\n9          ...            0.0                6.1         0.0      NaN   \n10         ...            0.0                6.1         0.0      NaN   \n11         ...            0.0                8.1         0.0      NaN   \n12         ...            0.0                8.1         0.0      NaN   \n13         ...            0.0                8.1         0.0      NaN   \n\nINDICATOR  mme_percap  nonmedpain  num_SSPs  partD30dayrxrate  pctunins  \\\n9                 NaN         NaN       NaN               NaN       NaN   \n10                NaN         NaN       NaN               NaN       NaN   \n11             1050.8         NaN       NaN               NaN       NaN   \n12                NaN         NaN       NaN               NaN       NaN   \n13                NaN         NaN       NaN               NaN       NaN   \n\nINDICATOR  pctunmetneed  \n9                   NaN  \n10                  NaN  \n11                  NaN  \n12                  NaN  \n13                  NaN  \n\n[5 rows x 30 columns]",
      "text/html": "<div>\n<style scoped>\n    .dataframe tbody tr th:only-of-type {\n        vertical-align: middle;\n    }\n\n    .dataframe tbody tr th {\n        vertical-align: top;\n    }\n\n    .dataframe thead th {\n        text-align: right;\n    }\n</style>\n<table border=\"1\" class=\"dataframe\">\n  <thead>\n    <tr style=\"text-align: right;\">\n      <th>INDICATOR</th>\n      <th>county_code</th>\n      <th>COUNTY</th>\n      <th>STATEABBREVIATION</th>\n      <th>YEAR</th>\n      <th>AMAT_fac</th>\n      <th>HIVdiagnoses</th>\n      <th>HIVincidence</th>\n      <th>HIVprevalence</th>\n      <th>MH_fac</th>\n      <th>Med_AMAT_fac</th>\n      <th>...</th>\n      <th>drugdeathrate</th>\n      <th>drugdeathrate_est</th>\n      <th>drugdeaths</th>\n      <th>drugdep</th>\n      <th>mme_percap</th>\n      <th>nonmedpain</th>\n      <th>num_SSPs</th>\n      <th>partD30dayrxrate</th>\n      <th>pctunins</th>\n      <th>pctunmetneed</th>\n    </tr>\n  </thead>\n  <tbody>\n    <tr>\n      <th>9</th>\n      <td>1001</td>\n      <td>Autauga County</td>\n      <td>AL</td>\n      <td>2008</td>\n      <td>0.0</td>\n      <td>8.0</td>\n      <td>19.8</td>\n      <td>0.0</td>\n      <td>NaN</td>\n      <td>0.0</td>\n      <td>...</td>\n      <td>0.0</td>\n      <td>6.1</td>\n      <td>0.0</td>\n      <td>NaN</td>\n      <td>NaN</td>\n      <td>NaN</td>\n      <td>NaN</td>\n      <td>NaN</td>\n      <td>NaN</td>\n      <td>NaN</td>\n    </tr>\n    <tr>\n      <th>10</th>\n      <td>1001</td>\n      <td>Autauga County</td>\n      <td>AL</td>\n      <td>2009</td>\n      <td>0.0</td>\n      <td>7.0</td>\n      <td>17.1</td>\n      <td>0.0</td>\n      <td>NaN</td>\n      <td>0.0</td>\n      <td>...</td>\n      <td>0.0</td>\n      <td>6.1</td>\n      <td>0.0</td>\n      <td>NaN</td>\n      <td>NaN</td>\n      <td>NaN</td>\n      <td>NaN</td>\n      <td>NaN</td>\n      <td>NaN</td>\n      <td>NaN</td>\n    </tr>\n    <tr>\n      <th>11</th>\n      <td>1001</td>\n      <td>Autauga County</td>\n      <td>AL</td>\n      <td>2010</td>\n      <td>0.0</td>\n      <td>0.0</td>\n      <td>0.0</td>\n      <td>0.0</td>\n      <td>NaN</td>\n      <td>0.0</td>\n      <td>...</td>\n      <td>0.0</td>\n      <td>8.1</td>\n      <td>0.0</td>\n      <td>NaN</td>\n      <td>1050.8</td>\n      <td>NaN</td>\n      <td>NaN</td>\n      <td>NaN</td>\n      <td>NaN</td>\n      <td>NaN</td>\n    </tr>\n    <tr>\n      <th>12</th>\n      <td>1001</td>\n      <td>Autauga County</td>\n      <td>AL</td>\n      <td>2011</td>\n      <td>0.0</td>\n      <td>7.0</td>\n      <td>15.5</td>\n      <td>0.0</td>\n      <td>NaN</td>\n      <td>0.0</td>\n      <td>...</td>\n      <td>0.0</td>\n      <td>8.1</td>\n      <td>0.0</td>\n      <td>NaN</td>\n      <td>NaN</td>\n      <td>NaN</td>\n      <td>NaN</td>\n      <td>NaN</td>\n      <td>NaN</td>\n      <td>NaN</td>\n    </tr>\n    <tr>\n      <th>13</th>\n      <td>1001</td>\n      <td>Autauga County</td>\n      <td>AL</td>\n      <td>2012</td>\n      <td>0.0</td>\n      <td>7.0</td>\n      <td>15.5</td>\n      <td>0.0</td>\n      <td>NaN</td>\n      <td>0.0</td>\n      <td>...</td>\n      <td>0.0</td>\n      <td>8.1</td>\n      <td>0.0</td>\n      <td>NaN</td>\n      <td>NaN</td>\n      <td>NaN</td>\n      <td>NaN</td>\n      <td>NaN</td>\n      <td>NaN</td>\n      <td>NaN</td>\n    </tr>\n  </tbody>\n</table>\n<p>5 rows × 30 columns</p>\n</div>"
     },
     "metadata": {},
     "execution_count": 9
    }
   ],
   "source": [
    "opiod_df_wide.head()"
   ]
  },
  {
   "cell_type": "code",
   "execution_count": 10,
   "metadata": {},
   "outputs": [],
   "source": [
    "# Subset data to 2015\n",
    "opiod_df_15 = opiod_df_wide[opiod_df_wide['YEAR'] == 2015]"
   ]
  },
  {
   "cell_type": "code",
   "execution_count": 11,
   "metadata": {},
   "outputs": [
    {
     "output_type": "execute_result",
     "data": {
      "text/plain": "INDICATOR  county_code          COUNTY STATEABBREVIATION  YEAR  AMAT_fac  \\\n16                1001  Autauga County                AL  2015       0.0   \n35                1003  Baldwin County                AL  2015       0.0   \n54                1005  Barbour County                AL  2015       0.0   \n73                1007     Bibb County                AL  2015       0.0   \n92                1009   Blount County                AL  2015       0.0   \n\nINDICATOR  HIVdiagnoses  HIVincidence  HIVprevalence  MH_fac  Med_AMAT_fac  \\\n16                  5.0          10.9          225.5     1.0           0.0   \n35                 15.0           8.7          163.9     4.0           0.0   \n54                  0.0           0.0          436.0     1.0           0.0   \n73                  0.0           0.0          191.9     0.0           0.0   \n92                  5.0          10.4           95.4     1.0           0.0   \n\nINDICATOR  ...  drugdeathrate  drugdeathrate_est  drugdeaths  drugdep  \\\n16         ...            0.0               10.1         0.0      NaN   \n35         ...           21.1               20.1        43.0      NaN   \n54         ...            0.0                6.1         0.0      NaN   \n73         ...            0.0               14.1         0.0      NaN   \n92         ...            0.0               16.1        11.0      NaN   \n\nINDICATOR  mme_percap  nonmedpain  num_SSPs  partD30dayrxrate  pctunins  \\\n16             1084.0         NaN       NaN              2.34      10.1   \n35             1148.5         NaN       NaN              2.56      13.0   \n54              577.6         NaN       NaN              1.46      15.5   \n73              563.0         NaN       NaN              0.39       9.7   \n92              459.0         NaN       NaN              1.22      11.6   \n\nINDICATOR  pctunmetneed  \n16                  NaN  \n35                  NaN  \n54                  NaN  \n73                  NaN  \n92                  NaN  \n\n[5 rows x 30 columns]",
      "text/html": "<div>\n<style scoped>\n    .dataframe tbody tr th:only-of-type {\n        vertical-align: middle;\n    }\n\n    .dataframe tbody tr th {\n        vertical-align: top;\n    }\n\n    .dataframe thead th {\n        text-align: right;\n    }\n</style>\n<table border=\"1\" class=\"dataframe\">\n  <thead>\n    <tr style=\"text-align: right;\">\n      <th>INDICATOR</th>\n      <th>county_code</th>\n      <th>COUNTY</th>\n      <th>STATEABBREVIATION</th>\n      <th>YEAR</th>\n      <th>AMAT_fac</th>\n      <th>HIVdiagnoses</th>\n      <th>HIVincidence</th>\n      <th>HIVprevalence</th>\n      <th>MH_fac</th>\n      <th>Med_AMAT_fac</th>\n      <th>...</th>\n      <th>drugdeathrate</th>\n      <th>drugdeathrate_est</th>\n      <th>drugdeaths</th>\n      <th>drugdep</th>\n      <th>mme_percap</th>\n      <th>nonmedpain</th>\n      <th>num_SSPs</th>\n      <th>partD30dayrxrate</th>\n      <th>pctunins</th>\n      <th>pctunmetneed</th>\n    </tr>\n  </thead>\n  <tbody>\n    <tr>\n      <th>16</th>\n      <td>1001</td>\n      <td>Autauga County</td>\n      <td>AL</td>\n      <td>2015</td>\n      <td>0.0</td>\n      <td>5.0</td>\n      <td>10.9</td>\n      <td>225.5</td>\n      <td>1.0</td>\n      <td>0.0</td>\n      <td>...</td>\n      <td>0.0</td>\n      <td>10.1</td>\n      <td>0.0</td>\n      <td>NaN</td>\n      <td>1084.0</td>\n      <td>NaN</td>\n      <td>NaN</td>\n      <td>2.34</td>\n      <td>10.1</td>\n      <td>NaN</td>\n    </tr>\n    <tr>\n      <th>35</th>\n      <td>1003</td>\n      <td>Baldwin County</td>\n      <td>AL</td>\n      <td>2015</td>\n      <td>0.0</td>\n      <td>15.0</td>\n      <td>8.7</td>\n      <td>163.9</td>\n      <td>4.0</td>\n      <td>0.0</td>\n      <td>...</td>\n      <td>21.1</td>\n      <td>20.1</td>\n      <td>43.0</td>\n      <td>NaN</td>\n      <td>1148.5</td>\n      <td>NaN</td>\n      <td>NaN</td>\n      <td>2.56</td>\n      <td>13.0</td>\n      <td>NaN</td>\n    </tr>\n    <tr>\n      <th>54</th>\n      <td>1005</td>\n      <td>Barbour County</td>\n      <td>AL</td>\n      <td>2015</td>\n      <td>0.0</td>\n      <td>0.0</td>\n      <td>0.0</td>\n      <td>436.0</td>\n      <td>1.0</td>\n      <td>0.0</td>\n      <td>...</td>\n      <td>0.0</td>\n      <td>6.1</td>\n      <td>0.0</td>\n      <td>NaN</td>\n      <td>577.6</td>\n      <td>NaN</td>\n      <td>NaN</td>\n      <td>1.46</td>\n      <td>15.5</td>\n      <td>NaN</td>\n    </tr>\n    <tr>\n      <th>73</th>\n      <td>1007</td>\n      <td>Bibb County</td>\n      <td>AL</td>\n      <td>2015</td>\n      <td>0.0</td>\n      <td>0.0</td>\n      <td>0.0</td>\n      <td>191.9</td>\n      <td>0.0</td>\n      <td>0.0</td>\n      <td>...</td>\n      <td>0.0</td>\n      <td>14.1</td>\n      <td>0.0</td>\n      <td>NaN</td>\n      <td>563.0</td>\n      <td>NaN</td>\n      <td>NaN</td>\n      <td>0.39</td>\n      <td>9.7</td>\n      <td>NaN</td>\n    </tr>\n    <tr>\n      <th>92</th>\n      <td>1009</td>\n      <td>Blount County</td>\n      <td>AL</td>\n      <td>2015</td>\n      <td>0.0</td>\n      <td>5.0</td>\n      <td>10.4</td>\n      <td>95.4</td>\n      <td>1.0</td>\n      <td>0.0</td>\n      <td>...</td>\n      <td>0.0</td>\n      <td>16.1</td>\n      <td>11.0</td>\n      <td>NaN</td>\n      <td>459.0</td>\n      <td>NaN</td>\n      <td>NaN</td>\n      <td>1.22</td>\n      <td>11.6</td>\n      <td>NaN</td>\n    </tr>\n  </tbody>\n</table>\n<p>5 rows × 30 columns</p>\n</div>"
     },
     "metadata": {},
     "execution_count": 11
    }
   ],
   "source": [
    "opiod_df_15.head()"
   ]
  },
  {
   "cell_type": "code",
   "execution_count": 12,
   "metadata": {},
   "outputs": [],
   "source": [
    "pd.options.mode.chained_assignment = None  # default='warn', get rid of annoying warning associated with dropping below\n",
    "# drop columns having no 2015 data, will be extraploated from following years later\n",
    "opiod_df_15.drop(['num_SSPs', 'bup_phys', 'drugdep', 'pctunmetneed', 'nonmedpain'], axis=1, inplace=True)"
   ]
  },
  {
   "cell_type": "code",
   "execution_count": 13,
   "metadata": {},
   "outputs": [
    {
     "output_type": "execute_result",
     "data": {
      "text/plain": "INDICATOR  county_code          COUNTY STATEABBREVIATION  YEAR  AMAT_fac  \\\n16                1001  Autauga County                AL  2015       0.0   \n35                1003  Baldwin County                AL  2015       0.0   \n54                1005  Barbour County                AL  2015       0.0   \n73                1007     Bibb County                AL  2015       0.0   \n92                1009   Blount County                AL  2015       0.0   \n\nINDICATOR  HIVdiagnoses  HIVincidence  HIVprevalence  MH_fac  Med_AMAT_fac  \\\n16                  5.0          10.9          225.5     1.0           0.0   \n35                 15.0           8.7          163.9     4.0           0.0   \n54                  0.0           0.0          436.0     1.0           0.0   \n73                  0.0           0.0          191.9     0.0           0.0   \n92                  5.0          10.4           95.4     1.0           0.0   \n\nINDICATOR  ...  Population  SA_fac  SMAT_fac  TMAT_fac  drugdeathrate  \\\n16         ...     55035.0     2.0       0.0       0.0            0.0   \n35         ...    203690.0     2.0       0.0       0.0           21.1   \n54         ...     26270.0     1.0       0.0       0.0            0.0   \n73         ...     22561.0     1.0       1.0       0.0            0.0   \n92         ...     57676.0     1.0       0.0       0.0            0.0   \n\nINDICATOR  drugdeathrate_est  drugdeaths  mme_percap  partD30dayrxrate  \\\n16                      10.1         0.0      1084.0              2.34   \n35                      20.1        43.0      1148.5              2.56   \n54                       6.1         0.0       577.6              1.46   \n73                      14.1         0.0       563.0              0.39   \n92                      16.1        11.0       459.0              1.22   \n\nINDICATOR  pctunins  \n16             10.1  \n35             13.0  \n54             15.5  \n73              9.7  \n92             11.6  \n\n[5 rows x 25 columns]",
      "text/html": "<div>\n<style scoped>\n    .dataframe tbody tr th:only-of-type {\n        vertical-align: middle;\n    }\n\n    .dataframe tbody tr th {\n        vertical-align: top;\n    }\n\n    .dataframe thead th {\n        text-align: right;\n    }\n</style>\n<table border=\"1\" class=\"dataframe\">\n  <thead>\n    <tr style=\"text-align: right;\">\n      <th>INDICATOR</th>\n      <th>county_code</th>\n      <th>COUNTY</th>\n      <th>STATEABBREVIATION</th>\n      <th>YEAR</th>\n      <th>AMAT_fac</th>\n      <th>HIVdiagnoses</th>\n      <th>HIVincidence</th>\n      <th>HIVprevalence</th>\n      <th>MH_fac</th>\n      <th>Med_AMAT_fac</th>\n      <th>...</th>\n      <th>Population</th>\n      <th>SA_fac</th>\n      <th>SMAT_fac</th>\n      <th>TMAT_fac</th>\n      <th>drugdeathrate</th>\n      <th>drugdeathrate_est</th>\n      <th>drugdeaths</th>\n      <th>mme_percap</th>\n      <th>partD30dayrxrate</th>\n      <th>pctunins</th>\n    </tr>\n  </thead>\n  <tbody>\n    <tr>\n      <th>16</th>\n      <td>1001</td>\n      <td>Autauga County</td>\n      <td>AL</td>\n      <td>2015</td>\n      <td>0.0</td>\n      <td>5.0</td>\n      <td>10.9</td>\n      <td>225.5</td>\n      <td>1.0</td>\n      <td>0.0</td>\n      <td>...</td>\n      <td>55035.0</td>\n      <td>2.0</td>\n      <td>0.0</td>\n      <td>0.0</td>\n      <td>0.0</td>\n      <td>10.1</td>\n      <td>0.0</td>\n      <td>1084.0</td>\n      <td>2.34</td>\n      <td>10.1</td>\n    </tr>\n    <tr>\n      <th>35</th>\n      <td>1003</td>\n      <td>Baldwin County</td>\n      <td>AL</td>\n      <td>2015</td>\n      <td>0.0</td>\n      <td>15.0</td>\n      <td>8.7</td>\n      <td>163.9</td>\n      <td>4.0</td>\n      <td>0.0</td>\n      <td>...</td>\n      <td>203690.0</td>\n      <td>2.0</td>\n      <td>0.0</td>\n      <td>0.0</td>\n      <td>21.1</td>\n      <td>20.1</td>\n      <td>43.0</td>\n      <td>1148.5</td>\n      <td>2.56</td>\n      <td>13.0</td>\n    </tr>\n    <tr>\n      <th>54</th>\n      <td>1005</td>\n      <td>Barbour County</td>\n      <td>AL</td>\n      <td>2015</td>\n      <td>0.0</td>\n      <td>0.0</td>\n      <td>0.0</td>\n      <td>436.0</td>\n      <td>1.0</td>\n      <td>0.0</td>\n      <td>...</td>\n      <td>26270.0</td>\n      <td>1.0</td>\n      <td>0.0</td>\n      <td>0.0</td>\n      <td>0.0</td>\n      <td>6.1</td>\n      <td>0.0</td>\n      <td>577.6</td>\n      <td>1.46</td>\n      <td>15.5</td>\n    </tr>\n    <tr>\n      <th>73</th>\n      <td>1007</td>\n      <td>Bibb County</td>\n      <td>AL</td>\n      <td>2015</td>\n      <td>0.0</td>\n      <td>0.0</td>\n      <td>0.0</td>\n      <td>191.9</td>\n      <td>0.0</td>\n      <td>0.0</td>\n      <td>...</td>\n      <td>22561.0</td>\n      <td>1.0</td>\n      <td>1.0</td>\n      <td>0.0</td>\n      <td>0.0</td>\n      <td>14.1</td>\n      <td>0.0</td>\n      <td>563.0</td>\n      <td>0.39</td>\n      <td>9.7</td>\n    </tr>\n    <tr>\n      <th>92</th>\n      <td>1009</td>\n      <td>Blount County</td>\n      <td>AL</td>\n      <td>2015</td>\n      <td>0.0</td>\n      <td>5.0</td>\n      <td>10.4</td>\n      <td>95.4</td>\n      <td>1.0</td>\n      <td>0.0</td>\n      <td>...</td>\n      <td>57676.0</td>\n      <td>1.0</td>\n      <td>0.0</td>\n      <td>0.0</td>\n      <td>0.0</td>\n      <td>16.1</td>\n      <td>11.0</td>\n      <td>459.0</td>\n      <td>1.22</td>\n      <td>11.6</td>\n    </tr>\n  </tbody>\n</table>\n<p>5 rows × 25 columns</p>\n</div>"
     },
     "metadata": {},
     "execution_count": 13
    }
   ],
   "source": [
    "opiod_df_15.head()"
   ]
  },
  {
   "cell_type": "code",
   "execution_count": 14,
   "metadata": {},
   "outputs": [],
   "source": [
    "# get esimates for num_SSPs, bug_phys, drug_dep, pctunmetneed, and nonmedpain from following years\n",
    "\n",
    "#subset opioid related data from one year only\n",
    "#number of needle exchange programs (num_SSPs)\n",
    "opiod_df_wide_17 = opiod_df_wide[opiod_df_wide['YEAR'] == 2017]\n",
    "df_num_SSP = opiod_df_wide_17[['num_SSPs', 'county_code']]\n",
    "\n",
    "#number of doctors licensed to rx Buprenorphine (bup_phys)\n",
    "df_bup_phys = opiod_df_wide_17[['bup_phys', 'county_code']]\n",
    "\n",
    "#percent with drug dependency (drug_dep)\n",
    "opiod_df_wide_16 = opiod_df_wide[opiod_df_wide['YEAR'] == 2016]\n",
    "df_drugdep = opiod_df_wide_16[['drugdep', 'county_code']]\n",
    "\n",
    "#percent unmet drug treatment need (pctunmetneed)\n",
    "df_pctunmetneed = opiod_df_wide_16[['pctunmetneed', 'county_code']]\n",
    "\n",
    "#percent taken pain meds for nonmedical use (nonmedpain)\n",
    "df_nonmedpain = opiod_df_wide_16[['nonmedpain', 'county_code']]"
   ]
  },
  {
   "cell_type": "code",
   "execution_count": 15,
   "metadata": {},
   "outputs": [],
   "source": [
    "# merge these values back into 2015 dataframe\n",
    "#merge opioid related data back to the 2015 dataframe\n",
    "opiod_df_15 = opiod_df_15.merge(df_num_SSP, on='county_code')\n",
    "opiod_df_15 = opiod_df_15.merge(df_bup_phys, on='county_code')\n",
    "opiod_df_15 = opiod_df_15.merge(df_drugdep, on='county_code')\n",
    "opiod_df_15 = opiod_df_15.merge(df_pctunmetneed, on='county_code')\n",
    "opiod_df_15 = opiod_df_15.merge(df_nonmedpain, on='county_code')"
   ]
  },
  {
   "cell_type": "code",
   "execution_count": 16,
   "metadata": {},
   "outputs": [
    {
     "output_type": "execute_result",
     "data": {
      "text/plain": "INDICATOR  county_code          COUNTY STATEABBREVIATION  YEAR  AMAT_fac  \\\n0                 1001  Autauga County                AL  2015       0.0   \n1                 1003  Baldwin County                AL  2015       0.0   \n2                 1005  Barbour County                AL  2015       0.0   \n3                 1007     Bibb County                AL  2015       0.0   \n4                 1009   Blount County                AL  2015       0.0   \n\nINDICATOR  HIVdiagnoses  HIVincidence  HIVprevalence  MH_fac  Med_AMAT_fac  \\\n0                   5.0          10.9          225.5     1.0           0.0   \n1                  15.0           8.7          163.9     4.0           0.0   \n2                   0.0           0.0          436.0     1.0           0.0   \n3                   0.0           0.0          191.9     0.0           0.0   \n4                   5.0          10.4           95.4     1.0           0.0   \n\nINDICATOR  ...  drugdeathrate_est  drugdeaths  mme_percap  partD30dayrxrate  \\\n0          ...               10.1         0.0      1084.0              2.34   \n1          ...               20.1        43.0      1148.5              2.56   \n2          ...                6.1         0.0       577.6              1.46   \n3          ...               14.1         0.0       563.0              0.39   \n4          ...               16.1        11.0       459.0              1.22   \n\nINDICATOR  pctunins  num_SSPs  bup_phys  drugdep  pctunmetneed  nonmedpain  \n0              10.1       0.0       2.0     2.56         95.70        5.12  \n1              13.0       0.0      13.0     2.54         91.34        5.27  \n2              15.5       0.0       0.0     2.54         91.34        5.27  \n3               9.7       0.0       0.0     2.58         91.86        5.62  \n4              11.6       0.0       1.0     2.58         91.86        5.62  \n\n[5 rows x 30 columns]",
      "text/html": "<div>\n<style scoped>\n    .dataframe tbody tr th:only-of-type {\n        vertical-align: middle;\n    }\n\n    .dataframe tbody tr th {\n        vertical-align: top;\n    }\n\n    .dataframe thead th {\n        text-align: right;\n    }\n</style>\n<table border=\"1\" class=\"dataframe\">\n  <thead>\n    <tr style=\"text-align: right;\">\n      <th>INDICATOR</th>\n      <th>county_code</th>\n      <th>COUNTY</th>\n      <th>STATEABBREVIATION</th>\n      <th>YEAR</th>\n      <th>AMAT_fac</th>\n      <th>HIVdiagnoses</th>\n      <th>HIVincidence</th>\n      <th>HIVprevalence</th>\n      <th>MH_fac</th>\n      <th>Med_AMAT_fac</th>\n      <th>...</th>\n      <th>drugdeathrate_est</th>\n      <th>drugdeaths</th>\n      <th>mme_percap</th>\n      <th>partD30dayrxrate</th>\n      <th>pctunins</th>\n      <th>num_SSPs</th>\n      <th>bup_phys</th>\n      <th>drugdep</th>\n      <th>pctunmetneed</th>\n      <th>nonmedpain</th>\n    </tr>\n  </thead>\n  <tbody>\n    <tr>\n      <th>0</th>\n      <td>1001</td>\n      <td>Autauga County</td>\n      <td>AL</td>\n      <td>2015</td>\n      <td>0.0</td>\n      <td>5.0</td>\n      <td>10.9</td>\n      <td>225.5</td>\n      <td>1.0</td>\n      <td>0.0</td>\n      <td>...</td>\n      <td>10.1</td>\n      <td>0.0</td>\n      <td>1084.0</td>\n      <td>2.34</td>\n      <td>10.1</td>\n      <td>0.0</td>\n      <td>2.0</td>\n      <td>2.56</td>\n      <td>95.70</td>\n      <td>5.12</td>\n    </tr>\n    <tr>\n      <th>1</th>\n      <td>1003</td>\n      <td>Baldwin County</td>\n      <td>AL</td>\n      <td>2015</td>\n      <td>0.0</td>\n      <td>15.0</td>\n      <td>8.7</td>\n      <td>163.9</td>\n      <td>4.0</td>\n      <td>0.0</td>\n      <td>...</td>\n      <td>20.1</td>\n      <td>43.0</td>\n      <td>1148.5</td>\n      <td>2.56</td>\n      <td>13.0</td>\n      <td>0.0</td>\n      <td>13.0</td>\n      <td>2.54</td>\n      <td>91.34</td>\n      <td>5.27</td>\n    </tr>\n    <tr>\n      <th>2</th>\n      <td>1005</td>\n      <td>Barbour County</td>\n      <td>AL</td>\n      <td>2015</td>\n      <td>0.0</td>\n      <td>0.0</td>\n      <td>0.0</td>\n      <td>436.0</td>\n      <td>1.0</td>\n      <td>0.0</td>\n      <td>...</td>\n      <td>6.1</td>\n      <td>0.0</td>\n      <td>577.6</td>\n      <td>1.46</td>\n      <td>15.5</td>\n      <td>0.0</td>\n      <td>0.0</td>\n      <td>2.54</td>\n      <td>91.34</td>\n      <td>5.27</td>\n    </tr>\n    <tr>\n      <th>3</th>\n      <td>1007</td>\n      <td>Bibb County</td>\n      <td>AL</td>\n      <td>2015</td>\n      <td>0.0</td>\n      <td>0.0</td>\n      <td>0.0</td>\n      <td>191.9</td>\n      <td>0.0</td>\n      <td>0.0</td>\n      <td>...</td>\n      <td>14.1</td>\n      <td>0.0</td>\n      <td>563.0</td>\n      <td>0.39</td>\n      <td>9.7</td>\n      <td>0.0</td>\n      <td>0.0</td>\n      <td>2.58</td>\n      <td>91.86</td>\n      <td>5.62</td>\n    </tr>\n    <tr>\n      <th>4</th>\n      <td>1009</td>\n      <td>Blount County</td>\n      <td>AL</td>\n      <td>2015</td>\n      <td>0.0</td>\n      <td>5.0</td>\n      <td>10.4</td>\n      <td>95.4</td>\n      <td>1.0</td>\n      <td>0.0</td>\n      <td>...</td>\n      <td>16.1</td>\n      <td>11.0</td>\n      <td>459.0</td>\n      <td>1.22</td>\n      <td>11.6</td>\n      <td>0.0</td>\n      <td>1.0</td>\n      <td>2.58</td>\n      <td>91.86</td>\n      <td>5.62</td>\n    </tr>\n  </tbody>\n</table>\n<p>5 rows × 30 columns</p>\n</div>"
     },
     "metadata": {},
     "execution_count": 16
    }
   ],
   "source": [
    "opiod_df_15.head()"
   ]
  },
  {
   "cell_type": "code",
   "execution_count": 17,
   "metadata": {},
   "outputs": [],
   "source": [
    "#load Men who have sex with men (MSM) estimate data\n",
    "msm_df = pd.read_csv(\"data/CAMP/US_MSM_Estimates_Data_2013.csv\")    #load the data\n",
    "msm_df['county_code'] = msm_df.STATEFP*1000 + msm_df.COUNTYFP  # build a county code column\n",
    "msm_df['county_code'] = msm_df.county_code.astype(int)\n",
    "msm_df['%msm12month'] = 100 * (msm_df.MSM12MTH / msm_df.ADULTMEN) # build a %MSM within last 12 months column\n",
    "msm_df['%msm5yr'] = 100 * (msm_df.MSM5YEAR / msm_df.ADULTMEN)     # build a %MSM within last 5years column"
   ]
  },
  {
   "cell_type": "code",
   "execution_count": 18,
   "metadata": {},
   "outputs": [
    {
     "output_type": "execute_result",
     "data": {
      "text/plain": "   REGCODE  DIVCODE  STATEFP  COUNTYFP  CSACODE  CBSACODE  METDCODE  METMICSA  \\\n0        3        6        1         1      NaN   33860.0       NaN       1.0   \n1        3        6        1         3    380.0   19300.0       NaN       1.0   \n2        3        6        1         5      NaN       NaN       NaN       NaN   \n3        3        6        1         7    142.0   13820.0       NaN       1.0   \n4        3        6        1         9    142.0   13820.0       NaN       1.0   \n\n   CENTOUTL  ADULTMEN  MSM12MTH  MSM5YEAR  county_code  %msm12month   %msm5yr  \n0       NaN     19410       333       514         1001     1.715611  2.648120  \n1       1.0     69724       925      1429         1003     1.326659  2.049509  \n2       NaN     11567        82       127         1005     0.708913  1.097951  \n3       2.0      9508       119       184         1007     1.251578  1.935212  \n4       2.0     21368       601       928         1009     2.812617  4.342943  ",
      "text/html": "<div>\n<style scoped>\n    .dataframe tbody tr th:only-of-type {\n        vertical-align: middle;\n    }\n\n    .dataframe tbody tr th {\n        vertical-align: top;\n    }\n\n    .dataframe thead th {\n        text-align: right;\n    }\n</style>\n<table border=\"1\" class=\"dataframe\">\n  <thead>\n    <tr style=\"text-align: right;\">\n      <th></th>\n      <th>REGCODE</th>\n      <th>DIVCODE</th>\n      <th>STATEFP</th>\n      <th>COUNTYFP</th>\n      <th>CSACODE</th>\n      <th>CBSACODE</th>\n      <th>METDCODE</th>\n      <th>METMICSA</th>\n      <th>CENTOUTL</th>\n      <th>ADULTMEN</th>\n      <th>MSM12MTH</th>\n      <th>MSM5YEAR</th>\n      <th>county_code</th>\n      <th>%msm12month</th>\n      <th>%msm5yr</th>\n    </tr>\n  </thead>\n  <tbody>\n    <tr>\n      <th>0</th>\n      <td>3</td>\n      <td>6</td>\n      <td>1</td>\n      <td>1</td>\n      <td>NaN</td>\n      <td>33860.0</td>\n      <td>NaN</td>\n      <td>1.0</td>\n      <td>NaN</td>\n      <td>19410</td>\n      <td>333</td>\n      <td>514</td>\n      <td>1001</td>\n      <td>1.715611</td>\n      <td>2.648120</td>\n    </tr>\n    <tr>\n      <th>1</th>\n      <td>3</td>\n      <td>6</td>\n      <td>1</td>\n      <td>3</td>\n      <td>380.0</td>\n      <td>19300.0</td>\n      <td>NaN</td>\n      <td>1.0</td>\n      <td>1.0</td>\n      <td>69724</td>\n      <td>925</td>\n      <td>1429</td>\n      <td>1003</td>\n      <td>1.326659</td>\n      <td>2.049509</td>\n    </tr>\n    <tr>\n      <th>2</th>\n      <td>3</td>\n      <td>6</td>\n      <td>1</td>\n      <td>5</td>\n      <td>NaN</td>\n      <td>NaN</td>\n      <td>NaN</td>\n      <td>NaN</td>\n      <td>NaN</td>\n      <td>11567</td>\n      <td>82</td>\n      <td>127</td>\n      <td>1005</td>\n      <td>0.708913</td>\n      <td>1.097951</td>\n    </tr>\n    <tr>\n      <th>3</th>\n      <td>3</td>\n      <td>6</td>\n      <td>1</td>\n      <td>7</td>\n      <td>142.0</td>\n      <td>13820.0</td>\n      <td>NaN</td>\n      <td>1.0</td>\n      <td>2.0</td>\n      <td>9508</td>\n      <td>119</td>\n      <td>184</td>\n      <td>1007</td>\n      <td>1.251578</td>\n      <td>1.935212</td>\n    </tr>\n    <tr>\n      <th>4</th>\n      <td>3</td>\n      <td>6</td>\n      <td>1</td>\n      <td>9</td>\n      <td>142.0</td>\n      <td>13820.0</td>\n      <td>NaN</td>\n      <td>1.0</td>\n      <td>2.0</td>\n      <td>21368</td>\n      <td>601</td>\n      <td>928</td>\n      <td>1009</td>\n      <td>2.812617</td>\n      <td>4.342943</td>\n    </tr>\n  </tbody>\n</table>\n</div>"
     },
     "metadata": {},
     "execution_count": 18
    }
   ],
   "source": [
    "msm_df.head()"
   ]
  },
  {
   "cell_type": "code",
   "execution_count": 19,
   "metadata": {},
   "outputs": [
    {
     "output_type": "execute_result",
     "data": {
      "text/plain": "   ADULTMEN  MSM12MTH  MSM5YEAR  county_code  %msm12month   %msm5yr\n0     19410       333       514         1001     1.715611  2.648120\n1     69724       925      1429         1003     1.326659  2.049509\n2     11567        82       127         1005     0.708913  1.097951\n3      9508       119       184         1007     1.251578  1.935212\n4     21368       601       928         1009     2.812617  4.342943",
      "text/html": "<div>\n<style scoped>\n    .dataframe tbody tr th:only-of-type {\n        vertical-align: middle;\n    }\n\n    .dataframe tbody tr th {\n        vertical-align: top;\n    }\n\n    .dataframe thead th {\n        text-align: right;\n    }\n</style>\n<table border=\"1\" class=\"dataframe\">\n  <thead>\n    <tr style=\"text-align: right;\">\n      <th></th>\n      <th>ADULTMEN</th>\n      <th>MSM12MTH</th>\n      <th>MSM5YEAR</th>\n      <th>county_code</th>\n      <th>%msm12month</th>\n      <th>%msm5yr</th>\n    </tr>\n  </thead>\n  <tbody>\n    <tr>\n      <th>0</th>\n      <td>19410</td>\n      <td>333</td>\n      <td>514</td>\n      <td>1001</td>\n      <td>1.715611</td>\n      <td>2.648120</td>\n    </tr>\n    <tr>\n      <th>1</th>\n      <td>69724</td>\n      <td>925</td>\n      <td>1429</td>\n      <td>1003</td>\n      <td>1.326659</td>\n      <td>2.049509</td>\n    </tr>\n    <tr>\n      <th>2</th>\n      <td>11567</td>\n      <td>82</td>\n      <td>127</td>\n      <td>1005</td>\n      <td>0.708913</td>\n      <td>1.097951</td>\n    </tr>\n    <tr>\n      <th>3</th>\n      <td>9508</td>\n      <td>119</td>\n      <td>184</td>\n      <td>1007</td>\n      <td>1.251578</td>\n      <td>1.935212</td>\n    </tr>\n    <tr>\n      <th>4</th>\n      <td>21368</td>\n      <td>601</td>\n      <td>928</td>\n      <td>1009</td>\n      <td>2.812617</td>\n      <td>4.342943</td>\n    </tr>\n  </tbody>\n</table>\n</div>"
     },
     "metadata": {},
     "execution_count": 19
    }
   ],
   "source": [
    "cols_to_drop = ['REGCODE', 'DIVCODE', 'STATEFP', 'COUNTYFP', 'CSACODE', \n",
    "                'CBSACODE','METDCODE', 'METMICSA', 'CENTOUTL']\n",
    "msm_df.drop(cols_to_drop, axis=1, inplace=True) #drop all unneeded columns\n",
    "msm_df.head()"
   ]
  },
  {
   "cell_type": "code",
   "execution_count": 20,
   "metadata": {},
   "outputs": [
    {
     "output_type": "execute_result",
     "data": {
      "text/plain": "   county_code  unemployment_rate\n0         1001                8.5\n1         1003                8.6\n2         1005               14.2\n3         1007               10.9\n4         1009                9.3",
      "text/html": "<div>\n<style scoped>\n    .dataframe tbody tr th:only-of-type {\n        vertical-align: middle;\n    }\n\n    .dataframe tbody tr th {\n        vertical-align: top;\n    }\n\n    .dataframe thead th {\n        text-align: right;\n    }\n</style>\n<table border=\"1\" class=\"dataframe\">\n  <thead>\n    <tr style=\"text-align: right;\">\n      <th></th>\n      <th>county_code</th>\n      <th>unemployment_rate</th>\n    </tr>\n  </thead>\n  <tbody>\n    <tr>\n      <th>0</th>\n      <td>1001</td>\n      <td>8.5</td>\n    </tr>\n    <tr>\n      <th>1</th>\n      <td>1003</td>\n      <td>8.6</td>\n    </tr>\n    <tr>\n      <th>2</th>\n      <td>1005</td>\n      <td>14.2</td>\n    </tr>\n    <tr>\n      <th>3</th>\n      <td>1007</td>\n      <td>10.9</td>\n    </tr>\n    <tr>\n      <th>4</th>\n      <td>1009</td>\n      <td>9.3</td>\n    </tr>\n  </tbody>\n</table>\n</div>"
     },
     "metadata": {},
     "execution_count": 20
    }
   ],
   "source": [
    "#unemplyment data\n",
    "df_employment = pd.read_csv(\"data/ACS_14_5YR_employment/ACS_14_5YR_S2301_with_ann.csv\", \n",
    "                            encoding = \"ISO-8859-1\", skiprows=1)\n",
    "df_employment = df_employment[['Id2', 'Unemployment rate; Estimate; Population 16 years and over']]\n",
    "df_employment.columns = ['county_code', 'unemployment_rate']\n",
    "df_employment.head()"
   ]
  },
  {
   "cell_type": "code",
   "execution_count": 21,
   "metadata": {},
   "outputs": [
    {
     "output_type": "execute_result",
     "data": {
      "text/plain": "   county_code  poverty_rate\n0         1001          12.8\n1         1003          13.8\n2         1005          24.1\n3         1007          17.0\n4         1009          17.3",
      "text/html": "<div>\n<style scoped>\n    .dataframe tbody tr th:only-of-type {\n        vertical-align: middle;\n    }\n\n    .dataframe tbody tr th {\n        vertical-align: top;\n    }\n\n    .dataframe thead th {\n        text-align: right;\n    }\n</style>\n<table border=\"1\" class=\"dataframe\">\n  <thead>\n    <tr style=\"text-align: right;\">\n      <th></th>\n      <th>county_code</th>\n      <th>poverty_rate</th>\n    </tr>\n  </thead>\n  <tbody>\n    <tr>\n      <th>0</th>\n      <td>1001</td>\n      <td>12.8</td>\n    </tr>\n    <tr>\n      <th>1</th>\n      <td>1003</td>\n      <td>13.8</td>\n    </tr>\n    <tr>\n      <th>2</th>\n      <td>1005</td>\n      <td>24.1</td>\n    </tr>\n    <tr>\n      <th>3</th>\n      <td>1007</td>\n      <td>17.0</td>\n    </tr>\n    <tr>\n      <th>4</th>\n      <td>1009</td>\n      <td>17.3</td>\n    </tr>\n  </tbody>\n</table>\n</div>"
     },
     "metadata": {},
     "execution_count": 21
    }
   ],
   "source": [
    "#poverty data\n",
    "df_poverty = pd.read_csv(\"data/ACS_14_5YR_poverty/ACS_14_5YR_S1701_with_ann.csv\", \n",
    "                         encoding = \"ISO-8859-1\", skiprows=1)\n",
    "df_poverty = df_poverty[['Id2', 'Percent below poverty level; Estimate; Population for whom poverty status is determined']]\n",
    "df_poverty.columns = ['county_code', 'poverty_rate']\n",
    "df_poverty.head()"
   ]
  },
  {
   "cell_type": "code",
   "execution_count": 22,
   "metadata": {},
   "outputs": [
    {
     "output_type": "execute_result",
     "data": {
      "text/plain": "   county_code  household_income\n0         1001             20304\n1         1003             73058\n2         1005              9145\n3         1007              7078\n4         1009             20934",
      "text/html": "<div>\n<style scoped>\n    .dataframe tbody tr th:only-of-type {\n        vertical-align: middle;\n    }\n\n    .dataframe tbody tr th {\n        vertical-align: top;\n    }\n\n    .dataframe thead th {\n        text-align: right;\n    }\n</style>\n<table border=\"1\" class=\"dataframe\">\n  <thead>\n    <tr style=\"text-align: right;\">\n      <th></th>\n      <th>county_code</th>\n      <th>household_income</th>\n    </tr>\n  </thead>\n  <tbody>\n    <tr>\n      <th>0</th>\n      <td>1001</td>\n      <td>20304</td>\n    </tr>\n    <tr>\n      <th>1</th>\n      <td>1003</td>\n      <td>73058</td>\n    </tr>\n    <tr>\n      <th>2</th>\n      <td>1005</td>\n      <td>9145</td>\n    </tr>\n    <tr>\n      <th>3</th>\n      <td>1007</td>\n      <td>7078</td>\n    </tr>\n    <tr>\n      <th>4</th>\n      <td>1009</td>\n      <td>20934</td>\n    </tr>\n  </tbody>\n</table>\n</div>"
     },
     "metadata": {},
     "execution_count": 22
    }
   ],
   "source": [
    "#income data\n",
    "df_income = pd.read_csv(\"data/ACS_14_5YR_income/ACS_14_5YR_S1901_with_ann.csv\", \n",
    "                        encoding = \"ISO-8859-1\", skiprows=1)\n",
    "df_income = df_income[['Id2', 'Households; Estimate; Total']]\n",
    "df_income.columns = ['county_code', 'household_income']\n",
    "df_income.head()"
   ]
  },
  {
   "cell_type": "code",
   "execution_count": 62,
   "metadata": {},
   "outputs": [],
   "source": [
    "#merge asfAR hiv/opioid data with CAMP MSM data\n",
    "df_main = opiod_df_15.merge(msm_df, on='county_code')\n",
    "\n",
    "#merge in ACS data\n",
    "df_main = df_main.merge(df_employment, on='county_code')\n",
    "df_main = df_main.merge(df_poverty, on='county_code')\n",
    "df_main = df_main.merge(df_income, on='county_code')"
   ]
  },
  {
   "cell_type": "code",
   "execution_count": 63,
   "metadata": {
    "tags": []
   },
   "outputs": [
    {
     "output_type": "stream",
     "name": "stdout",
     "text": "<class 'pandas.core.frame.DataFrame'>\nInt64Index: 3140 entries, 0 to 3139\nData columns (total 38 columns):\n #   Column             Non-Null Count  Dtype  \n---  ------             --------------  -----  \n 0   county_code        3140 non-null   int64  \n 1   COUNTY             3140 non-null   object \n 2   STATEABBREVIATION  3140 non-null   object \n 3   YEAR               3140 non-null   int64  \n 4   AMAT_fac           3140 non-null   float64\n 5   HIVdiagnoses       3140 non-null   float64\n 6   HIVincidence       3140 non-null   float64\n 7   HIVprevalence      3140 non-null   float64\n 8   MH_fac             3140 non-null   float64\n 9   Med_AMAT_fac       3140 non-null   float64\n 10  Med_MH_fac         3140 non-null   float64\n 11  Med_SA_fac         3140 non-null   float64\n 12  Med_SMAT_fac       3140 non-null   float64\n 13  Med_TMAT_fac       3140 non-null   float64\n 14  PLHIV              3140 non-null   float64\n 15  Population         3140 non-null   float64\n 16  SA_fac             3140 non-null   float64\n 17  SMAT_fac           3140 non-null   float64\n 18  TMAT_fac           3140 non-null   float64\n 19  drugdeathrate      3140 non-null   float64\n 20  drugdeathrate_est  3140 non-null   float64\n 21  drugdeaths         3140 non-null   float64\n 22  mme_percap         2963 non-null   float64\n 23  partD30dayrxrate   3046 non-null   float64\n 24  pctunins           3140 non-null   float64\n 25  num_SSPs           3140 non-null   float64\n 26  bup_phys           3140 non-null   float64\n 27  drugdep            3139 non-null   float64\n 28  pctunmetneed       3139 non-null   float64\n 29  nonmedpain         3139 non-null   float64\n 30  ADULTMEN           3140 non-null   int64  \n 31  MSM12MTH           3140 non-null   int64  \n 32  MSM5YEAR           3140 non-null   int64  \n 33  %msm12month        3140 non-null   float64\n 34  %msm5yr            3140 non-null   float64\n 35  unemployment_rate  3140 non-null   float64\n 36  poverty_rate       3140 non-null   float64\n 37  household_income   3140 non-null   int64  \ndtypes: float64(30), int64(6), object(2)\nmemory usage: 956.7+ KB\n"
    }
   ],
   "source": [
    "df_main.info()"
   ]
  },
  {
   "cell_type": "code",
   "execution_count": 64,
   "metadata": {},
   "outputs": [
    {
     "output_type": "execute_result",
     "data": {
      "text/plain": "(3140, 38)"
     },
     "metadata": {},
     "execution_count": 64
    }
   ],
   "source": [
    "df_main.shape"
   ]
  },
  {
   "cell_type": "code",
   "execution_count": 92,
   "metadata": {
    "tags": []
   },
   "outputs": [
    {
     "output_type": "stream",
     "name": "stdout",
     "text": "<class 'pandas.core.frame.DataFrame'>\nInt64Index: 2937 entries, 0 to 3139\nData columns (total 38 columns):\n #   Column             Non-Null Count  Dtype  \n---  ------             --------------  -----  \n 0   county_code        2937 non-null   int64  \n 1   COUNTY             2937 non-null   object \n 2   STATEABBREVIATION  2937 non-null   object \n 3   YEAR               2937 non-null   int64  \n 4   AMAT_fac           2937 non-null   float64\n 5   HIVdiagnoses       2937 non-null   float64\n 6   HIVincidence       2937 non-null   float64\n 7   HIVprevalence      2937 non-null   float64\n 8   MH_fac             2937 non-null   float64\n 9   Med_AMAT_fac       2937 non-null   float64\n 10  Med_MH_fac         2937 non-null   float64\n 11  Med_SA_fac         2937 non-null   float64\n 12  Med_SMAT_fac       2937 non-null   float64\n 13  Med_TMAT_fac       2937 non-null   float64\n 14  PLHIV              2937 non-null   float64\n 15  Population         2937 non-null   float64\n 16  SA_fac             2937 non-null   float64\n 17  SMAT_fac           2937 non-null   float64\n 18  TMAT_fac           2937 non-null   float64\n 19  drugdeathrate      2937 non-null   float64\n 20  drugdeathrate_est  2937 non-null   float64\n 21  drugdeaths         2937 non-null   float64\n 22  mme_percap         2937 non-null   float64\n 23  partD30dayrxrate   2937 non-null   float64\n 24  pctunins           2937 non-null   float64\n 25  num_SSPs           2937 non-null   float64\n 26  bup_phys           2937 non-null   float64\n 27  drugdep            2937 non-null   float64\n 28  pctunmetneed       2937 non-null   float64\n 29  nonmedpain         2937 non-null   float64\n 30  ADULTMEN           2937 non-null   int64  \n 31  MSM12MTH           2937 non-null   int64  \n 32  MSM5YEAR           2937 non-null   int64  \n 33  %msm12month        2937 non-null   float64\n 34  %msm5yr            2937 non-null   float64\n 35  unemployment_rate  2937 non-null   float64\n 36  poverty_rate       2937 non-null   float64\n 37  household_income   2937 non-null   int64  \ndtypes: float64(30), int64(6), object(2)\nmemory usage: 894.9+ KB\n"
    }
   ],
   "source": [
    "df2 = df_main.dropna(axis=0, how='any')\n",
    "df2.info()"
   ]
  },
  {
   "cell_type": "code",
   "execution_count": 93,
   "metadata": {},
   "outputs": [],
   "source": [
    "\n",
    "county_index = df2[['HIVincidence', 'COUNTY','STATEABBREVIATION', 'YEAR']]\n",
    "y = df2['HIVincidence']\n",
    "X = df2.drop(['HIVincidence', 'COUNTY','STATEABBREVIATION', 'YEAR', 'mme_percap', 'partD30dayrxrate','drugdep', 'pctunmetneed', 'nonmedpain'], axis=1)"
   ]
  },
  {
   "cell_type": "code",
   "execution_count": 94,
   "metadata": {},
   "outputs": [],
   "source": [
    "X = sm.add_constant(X)"
   ]
  },
  {
   "cell_type": "code",
   "execution_count": 71,
   "metadata": {},
   "outputs": [
    {
     "output_type": "execute_result",
     "data": {
      "text/plain": "0       10.9\n1        8.7\n2        0.0\n3        0.0\n4       10.4\n        ... \n3135     0.0\n3136     0.0\n3137     0.0\n3138     0.0\n3139     0.0\nName: HIVincidence, Length: 3140, dtype: float64"
     },
     "metadata": {},
     "execution_count": 71
    }
   ],
   "source": [
    "y"
   ]
  },
  {
   "cell_type": "code",
   "execution_count": 96,
   "metadata": {},
   "outputs": [
    {
     "output_type": "execute_result",
     "data": {
      "text/plain": "<class 'statsmodels.iolib.summary.Summary'>\n\"\"\"\n                            OLS Regression Results                            \n==============================================================================\nDep. Variable:           HIVincidence   R-squared:                       0.276\nModel:                            OLS   Adj. R-squared:                  0.269\nMethod:                 Least Squares   F-statistic:                     38.25\nDate:                Fri, 31 Jul 2020   Prob (F-statistic):          6.31e-180\nTime:                        13:16:25   Log-Likelihood:                -12031.\nNo. Observations:                2937   AIC:                         2.412e+04\nDf Residuals:                    2907   BIC:                         2.430e+04\nDf Model:                          29                                         \nCovariance Type:            nonrobust                                         \n=====================================================================================\n                        coef    std err          t      P>|t|      [0.025      0.975]\n-------------------------------------------------------------------------------------\nconst                -1.9202      1.316     -1.460      0.144      -4.500       0.659\ncounty_code         7.48e-07   1.86e-05      0.040      0.968   -3.56e-05    3.71e-05\nAMAT_fac             -4.0652      1.828     -2.224      0.026      -7.649      -0.481\nHIVdiagnoses          0.3416      0.019     17.564      0.000       0.303       0.380\nHIVprevalence         0.0369      0.002     19.073      0.000       0.033       0.041\nMH_fac                1.1760      0.370      3.174      0.002       0.450       1.902\nMed_AMAT_fac          4.4758      2.067      2.165      0.030       0.422       8.529\nMed_MH_fac           -1.0637      0.403     -2.641      0.008      -1.853      -0.274\nMed_SA_fac           -0.3160      0.231     -1.365      0.172      -0.770       0.138\nMed_SMAT_fac          1.6133      0.711      2.270      0.023       0.220       3.007\nMed_TMAT_fac         -1.1374      1.016     -1.119      0.263      -3.130       0.855\nPLHIV                -0.0112      0.001    -15.009      0.000      -0.013      -0.010\nPopulation         1.484e-05   2.44e-05      0.609      0.542   -3.29e-05    6.26e-05\nSA_fac                0.0965      0.132      0.731      0.465      -0.162       0.355\nSMAT_fac             -0.6908      0.588     -1.174      0.240      -1.844       0.463\nTMAT_fac              0.9385      0.803      1.169      0.242      -0.636       2.513\ndrugdeathrate         0.0265      0.035      0.758      0.448      -0.042       0.095\ndrugdeathrate_est     0.0590      0.047      1.264      0.206      -0.033       0.151\ndrugdeaths           -0.0580      0.017     -3.320      0.001      -0.092      -0.024\npctunins             -0.0213      0.066     -0.321      0.748      -0.152       0.109\nnum_SSPs              3.5498      0.822      4.320      0.000       1.939       5.161\nbup_phys              0.0806      0.033      2.479      0.013       0.017       0.144\nADULTMEN             -0.0001   7.24e-05     -1.692      0.091      -0.000    1.95e-05\nMSM12MTH              1.3507      0.978      1.381      0.167      -0.567       3.268\nMSM5YEAR             -0.8744      0.633     -1.382      0.167      -2.115       0.366\n%msm12month          -1.6060     38.180     -0.042      0.966     -76.468      73.256\n%msm5yr               1.8516     24.704      0.075      0.940     -46.588      50.291\nunemployment_rate     0.0569      0.106      0.536      0.592      -0.151       0.265\npoverty_rate         -0.1244      0.064     -1.946      0.052      -0.250       0.001\nhousehold_income   5.275e-05   4.21e-05      1.253      0.210   -2.98e-05       0.000\n==============================================================================\nOmnibus:                     8268.951   Durbin-Watson:                   1.965\nProb(Omnibus):                  0.000   Jarque-Bera (JB):        350536795.939\nSkew:                          35.899   Prob(JB):                         0.00\nKurtosis:                    1693.944   Cond. No.                     6.68e+07\n==============================================================================\n\nWarnings:\n[1] Standard Errors assume that the covariance matrix of the errors is correctly specified.\n[2] The condition number is large, 6.68e+07. This might indicate that there are\nstrong multicollinearity or other numerical problems.\n\"\"\"",
      "text/html": "<table class=\"simpletable\">\n<caption>OLS Regression Results</caption>\n<tr>\n  <th>Dep. Variable:</th>      <td>HIVincidence</td>   <th>  R-squared:         </th> <td>   0.276</td> \n</tr>\n<tr>\n  <th>Model:</th>                   <td>OLS</td>       <th>  Adj. R-squared:    </th> <td>   0.269</td> \n</tr>\n<tr>\n  <th>Method:</th>             <td>Least Squares</td>  <th>  F-statistic:       </th> <td>   38.25</td> \n</tr>\n<tr>\n  <th>Date:</th>             <td>Fri, 31 Jul 2020</td> <th>  Prob (F-statistic):</th> <td>6.31e-180</td>\n</tr>\n<tr>\n  <th>Time:</th>                 <td>13:16:25</td>     <th>  Log-Likelihood:    </th> <td> -12031.</td> \n</tr>\n<tr>\n  <th>No. Observations:</th>      <td>  2937</td>      <th>  AIC:               </th> <td>2.412e+04</td>\n</tr>\n<tr>\n  <th>Df Residuals:</th>          <td>  2907</td>      <th>  BIC:               </th> <td>2.430e+04</td>\n</tr>\n<tr>\n  <th>Df Model:</th>              <td>    29</td>      <th>                     </th>     <td> </td>    \n</tr>\n<tr>\n  <th>Covariance Type:</th>      <td>nonrobust</td>    <th>                     </th>     <td> </td>    \n</tr>\n</table>\n<table class=\"simpletable\">\n<tr>\n          <td></td>             <th>coef</th>     <th>std err</th>      <th>t</th>      <th>P>|t|</th>  <th>[0.025</th>    <th>0.975]</th>  \n</tr>\n<tr>\n  <th>const</th>             <td>   -1.9202</td> <td>    1.316</td> <td>   -1.460</td> <td> 0.144</td> <td>   -4.500</td> <td>    0.659</td>\n</tr>\n<tr>\n  <th>county_code</th>       <td>  7.48e-07</td> <td> 1.86e-05</td> <td>    0.040</td> <td> 0.968</td> <td>-3.56e-05</td> <td> 3.71e-05</td>\n</tr>\n<tr>\n  <th>AMAT_fac</th>          <td>   -4.0652</td> <td>    1.828</td> <td>   -2.224</td> <td> 0.026</td> <td>   -7.649</td> <td>   -0.481</td>\n</tr>\n<tr>\n  <th>HIVdiagnoses</th>      <td>    0.3416</td> <td>    0.019</td> <td>   17.564</td> <td> 0.000</td> <td>    0.303</td> <td>    0.380</td>\n</tr>\n<tr>\n  <th>HIVprevalence</th>     <td>    0.0369</td> <td>    0.002</td> <td>   19.073</td> <td> 0.000</td> <td>    0.033</td> <td>    0.041</td>\n</tr>\n<tr>\n  <th>MH_fac</th>            <td>    1.1760</td> <td>    0.370</td> <td>    3.174</td> <td> 0.002</td> <td>    0.450</td> <td>    1.902</td>\n</tr>\n<tr>\n  <th>Med_AMAT_fac</th>      <td>    4.4758</td> <td>    2.067</td> <td>    2.165</td> <td> 0.030</td> <td>    0.422</td> <td>    8.529</td>\n</tr>\n<tr>\n  <th>Med_MH_fac</th>        <td>   -1.0637</td> <td>    0.403</td> <td>   -2.641</td> <td> 0.008</td> <td>   -1.853</td> <td>   -0.274</td>\n</tr>\n<tr>\n  <th>Med_SA_fac</th>        <td>   -0.3160</td> <td>    0.231</td> <td>   -1.365</td> <td> 0.172</td> <td>   -0.770</td> <td>    0.138</td>\n</tr>\n<tr>\n  <th>Med_SMAT_fac</th>      <td>    1.6133</td> <td>    0.711</td> <td>    2.270</td> <td> 0.023</td> <td>    0.220</td> <td>    3.007</td>\n</tr>\n<tr>\n  <th>Med_TMAT_fac</th>      <td>   -1.1374</td> <td>    1.016</td> <td>   -1.119</td> <td> 0.263</td> <td>   -3.130</td> <td>    0.855</td>\n</tr>\n<tr>\n  <th>PLHIV</th>             <td>   -0.0112</td> <td>    0.001</td> <td>  -15.009</td> <td> 0.000</td> <td>   -0.013</td> <td>   -0.010</td>\n</tr>\n<tr>\n  <th>Population</th>        <td> 1.484e-05</td> <td> 2.44e-05</td> <td>    0.609</td> <td> 0.542</td> <td>-3.29e-05</td> <td> 6.26e-05</td>\n</tr>\n<tr>\n  <th>SA_fac</th>            <td>    0.0965</td> <td>    0.132</td> <td>    0.731</td> <td> 0.465</td> <td>   -0.162</td> <td>    0.355</td>\n</tr>\n<tr>\n  <th>SMAT_fac</th>          <td>   -0.6908</td> <td>    0.588</td> <td>   -1.174</td> <td> 0.240</td> <td>   -1.844</td> <td>    0.463</td>\n</tr>\n<tr>\n  <th>TMAT_fac</th>          <td>    0.9385</td> <td>    0.803</td> <td>    1.169</td> <td> 0.242</td> <td>   -0.636</td> <td>    2.513</td>\n</tr>\n<tr>\n  <th>drugdeathrate</th>     <td>    0.0265</td> <td>    0.035</td> <td>    0.758</td> <td> 0.448</td> <td>   -0.042</td> <td>    0.095</td>\n</tr>\n<tr>\n  <th>drugdeathrate_est</th> <td>    0.0590</td> <td>    0.047</td> <td>    1.264</td> <td> 0.206</td> <td>   -0.033</td> <td>    0.151</td>\n</tr>\n<tr>\n  <th>drugdeaths</th>        <td>   -0.0580</td> <td>    0.017</td> <td>   -3.320</td> <td> 0.001</td> <td>   -0.092</td> <td>   -0.024</td>\n</tr>\n<tr>\n  <th>pctunins</th>          <td>   -0.0213</td> <td>    0.066</td> <td>   -0.321</td> <td> 0.748</td> <td>   -0.152</td> <td>    0.109</td>\n</tr>\n<tr>\n  <th>num_SSPs</th>          <td>    3.5498</td> <td>    0.822</td> <td>    4.320</td> <td> 0.000</td> <td>    1.939</td> <td>    5.161</td>\n</tr>\n<tr>\n  <th>bup_phys</th>          <td>    0.0806</td> <td>    0.033</td> <td>    2.479</td> <td> 0.013</td> <td>    0.017</td> <td>    0.144</td>\n</tr>\n<tr>\n  <th>ADULTMEN</th>          <td>   -0.0001</td> <td> 7.24e-05</td> <td>   -1.692</td> <td> 0.091</td> <td>   -0.000</td> <td> 1.95e-05</td>\n</tr>\n<tr>\n  <th>MSM12MTH</th>          <td>    1.3507</td> <td>    0.978</td> <td>    1.381</td> <td> 0.167</td> <td>   -0.567</td> <td>    3.268</td>\n</tr>\n<tr>\n  <th>MSM5YEAR</th>          <td>   -0.8744</td> <td>    0.633</td> <td>   -1.382</td> <td> 0.167</td> <td>   -2.115</td> <td>    0.366</td>\n</tr>\n<tr>\n  <th>%msm12month</th>       <td>   -1.6060</td> <td>   38.180</td> <td>   -0.042</td> <td> 0.966</td> <td>  -76.468</td> <td>   73.256</td>\n</tr>\n<tr>\n  <th>%msm5yr</th>           <td>    1.8516</td> <td>   24.704</td> <td>    0.075</td> <td> 0.940</td> <td>  -46.588</td> <td>   50.291</td>\n</tr>\n<tr>\n  <th>unemployment_rate</th> <td>    0.0569</td> <td>    0.106</td> <td>    0.536</td> <td> 0.592</td> <td>   -0.151</td> <td>    0.265</td>\n</tr>\n<tr>\n  <th>poverty_rate</th>      <td>   -0.1244</td> <td>    0.064</td> <td>   -1.946</td> <td> 0.052</td> <td>   -0.250</td> <td>    0.001</td>\n</tr>\n<tr>\n  <th>household_income</th>  <td> 5.275e-05</td> <td> 4.21e-05</td> <td>    1.253</td> <td> 0.210</td> <td>-2.98e-05</td> <td>    0.000</td>\n</tr>\n</table>\n<table class=\"simpletable\">\n<tr>\n  <th>Omnibus:</th>       <td>8268.951</td> <th>  Durbin-Watson:     </th>   <td>   1.965</td>   \n</tr>\n<tr>\n  <th>Prob(Omnibus):</th>  <td> 0.000</td>  <th>  Jarque-Bera (JB):  </th> <td>350536795.939</td>\n</tr>\n<tr>\n  <th>Skew:</th>           <td>35.899</td>  <th>  Prob(JB):          </th>   <td>    0.00</td>   \n</tr>\n<tr>\n  <th>Kurtosis:</th>      <td>1693.944</td> <th>  Cond. No.          </th>   <td>6.68e+07</td>   \n</tr>\n</table><br/><br/>Warnings:<br/>[1] Standard Errors assume that the covariance matrix of the errors is correctly specified.<br/>[2] The condition number is large, 6.68e+07. This might indicate that there are<br/>strong multicollinearity or other numerical problems."
     },
     "metadata": {},
     "execution_count": 96
    }
   ],
   "source": [
    "reg  = sm.OLS(y, X)\n",
    "reg = reg.fit()\n",
    "reg.summary()"
   ]
  },
  {
   "cell_type": "code",
   "execution_count": 102,
   "metadata": {},
   "outputs": [],
   "source": [
    "feature_lst = [x for x in X.columns]"
   ]
  },
  {
   "cell_type": "code",
   "execution_count": 107,
   "metadata": {},
   "outputs": [],
   "source": [
    "df2 = sm.add_constant(X)\n",
    "feat_drop1 = ['const',\n",
    " 'AMAT_fac',\n",
    " 'HIVdiagnoses',\n",
    " 'HIVprevalence',\n",
    " 'MH_fac',\n",
    " 'Med_AMAT_fac',\n",
    " 'Med_MH_fac',\n",
    " 'Med_SA_fac',\n",
    " 'Med_SMAT_fac',\n",
    " 'Med_TMAT_fac',\n",
    " 'PLHIV',\n",
    " 'SA_fac',\n",
    " 'SMAT_fac',\n",
    " 'TMAT_fac',\n",
    " 'drugdeathrate',\n",
    " 'drugdeathrate_est',\n",
    " 'drugdeaths',\n",
    " 'num_SSPs',\n",
    " 'bup_phys',\n",
    " 'ADULTMEN',\n",
    " 'MSM12MTH',\n",
    " 'MSM5YEAR',\n",
    " 'unemployment_rate',\n",
    " 'poverty_rate',\n",
    " 'household_income']"
   ]
  },
  {
   "cell_type": "code",
   "execution_count": 108,
   "metadata": {},
   "outputs": [],
   "source": [
    "X2 = df2[feat_drop1]"
   ]
  },
  {
   "cell_type": "code",
   "execution_count": 110,
   "metadata": {},
   "outputs": [
    {
     "output_type": "execute_result",
     "data": {
      "text/plain": "<class 'statsmodels.iolib.summary.Summary'>\n\"\"\"\n                            OLS Regression Results                            \n==============================================================================\nDep. Variable:           HIVincidence   R-squared:                       0.273\nModel:                            OLS   Adj. R-squared:                  0.267\nMethod:                 Least Squares   F-statistic:                     45.51\nDate:                Fri, 31 Jul 2020   Prob (F-statistic):          3.93e-181\nTime:                        13:24:01   Log-Likelihood:                -12038.\nNo. Observations:                2937   AIC:                         2.413e+04\nDf Residuals:                    2912   BIC:                         2.428e+04\nDf Model:                          24                                         \nCovariance Type:            nonrobust                                         \n=====================================================================================\n                        coef    std err          t      P>|t|      [0.025      0.975]\n-------------------------------------------------------------------------------------\nconst                -0.1324      0.964     -0.137      0.891      -2.024       1.759\nAMAT_fac             -4.3802      1.819     -2.408      0.016      -7.946      -0.814\nHIVdiagnoses          0.3395      0.019     17.444      0.000       0.301       0.378\nHIVprevalence         0.0386      0.002     20.623      0.000       0.035       0.042\nMH_fac                1.0644      0.367      2.904      0.004       0.346       1.783\nMed_AMAT_fac          4.8063      2.060      2.333      0.020       0.767       8.846\nMed_MH_fac           -0.9716      0.401     -2.421      0.016      -1.758      -0.185\nMed_SA_fac           -0.2480      0.227     -1.093      0.274      -0.693       0.197\nMed_SMAT_fac          1.4107      0.699      2.019      0.044       0.041       2.781\nMed_TMAT_fac         -1.0220      1.014     -1.008      0.314      -3.010       0.966\nPLHIV                -0.0112      0.001    -15.172      0.000      -0.013      -0.010\nSA_fac                0.0449      0.124      0.361      0.718      -0.199       0.289\nSMAT_fac             -0.5434      0.580     -0.937      0.349      -1.680       0.593\nTMAT_fac              0.8926      0.803      1.112      0.266      -0.681       2.467\ndrugdeathrate         0.0384      0.035      1.110      0.267      -0.029       0.106\ndrugdeathrate_est     0.0570      0.046      1.232      0.218      -0.034       0.148\ndrugdeaths           -0.0545      0.017     -3.125      0.002      -0.089      -0.020\nnum_SSPs              3.6778      0.817      4.501      0.000       2.076       5.280\nbup_phys              0.0743      0.031      2.378      0.017       0.013       0.136\nADULTMEN             -0.0001   3.63e-05     -2.816      0.005      -0.000    -3.1e-05\nMSM12MTH              1.2382      0.777      1.593      0.111      -0.286       2.763\nMSM5YEAR             -0.8014      0.503     -1.594      0.111      -1.788       0.185\nunemployment_rate     0.0686      0.105      0.656      0.512      -0.136       0.273\npoverty_rate         -0.1748      0.057     -3.067      0.002      -0.287      -0.063\nhousehold_income   7.346e-05   4.03e-05      1.824      0.068   -5.53e-06       0.000\n==============================================================================\nOmnibus:                     8276.181   Durbin-Watson:                   1.964\nProb(Omnibus):                  0.000   Jarque-Bera (JB):        352793955.545\nSkew:                          35.983   Prob(JB):                         0.00\nKurtosis:                    1699.382   Cond. No.                     1.75e+06\n==============================================================================\n\nWarnings:\n[1] Standard Errors assume that the covariance matrix of the errors is correctly specified.\n[2] The condition number is large, 1.75e+06. This might indicate that there are\nstrong multicollinearity or other numerical problems.\n\"\"\"",
      "text/html": "<table class=\"simpletable\">\n<caption>OLS Regression Results</caption>\n<tr>\n  <th>Dep. Variable:</th>      <td>HIVincidence</td>   <th>  R-squared:         </th> <td>   0.273</td> \n</tr>\n<tr>\n  <th>Model:</th>                   <td>OLS</td>       <th>  Adj. R-squared:    </th> <td>   0.267</td> \n</tr>\n<tr>\n  <th>Method:</th>             <td>Least Squares</td>  <th>  F-statistic:       </th> <td>   45.51</td> \n</tr>\n<tr>\n  <th>Date:</th>             <td>Fri, 31 Jul 2020</td> <th>  Prob (F-statistic):</th> <td>3.93e-181</td>\n</tr>\n<tr>\n  <th>Time:</th>                 <td>13:24:01</td>     <th>  Log-Likelihood:    </th> <td> -12038.</td> \n</tr>\n<tr>\n  <th>No. Observations:</th>      <td>  2937</td>      <th>  AIC:               </th> <td>2.413e+04</td>\n</tr>\n<tr>\n  <th>Df Residuals:</th>          <td>  2912</td>      <th>  BIC:               </th> <td>2.428e+04</td>\n</tr>\n<tr>\n  <th>Df Model:</th>              <td>    24</td>      <th>                     </th>     <td> </td>    \n</tr>\n<tr>\n  <th>Covariance Type:</th>      <td>nonrobust</td>    <th>                     </th>     <td> </td>    \n</tr>\n</table>\n<table class=\"simpletable\">\n<tr>\n          <td></td>             <th>coef</th>     <th>std err</th>      <th>t</th>      <th>P>|t|</th>  <th>[0.025</th>    <th>0.975]</th>  \n</tr>\n<tr>\n  <th>const</th>             <td>   -0.1324</td> <td>    0.964</td> <td>   -0.137</td> <td> 0.891</td> <td>   -2.024</td> <td>    1.759</td>\n</tr>\n<tr>\n  <th>AMAT_fac</th>          <td>   -4.3802</td> <td>    1.819</td> <td>   -2.408</td> <td> 0.016</td> <td>   -7.946</td> <td>   -0.814</td>\n</tr>\n<tr>\n  <th>HIVdiagnoses</th>      <td>    0.3395</td> <td>    0.019</td> <td>   17.444</td> <td> 0.000</td> <td>    0.301</td> <td>    0.378</td>\n</tr>\n<tr>\n  <th>HIVprevalence</th>     <td>    0.0386</td> <td>    0.002</td> <td>   20.623</td> <td> 0.000</td> <td>    0.035</td> <td>    0.042</td>\n</tr>\n<tr>\n  <th>MH_fac</th>            <td>    1.0644</td> <td>    0.367</td> <td>    2.904</td> <td> 0.004</td> <td>    0.346</td> <td>    1.783</td>\n</tr>\n<tr>\n  <th>Med_AMAT_fac</th>      <td>    4.8063</td> <td>    2.060</td> <td>    2.333</td> <td> 0.020</td> <td>    0.767</td> <td>    8.846</td>\n</tr>\n<tr>\n  <th>Med_MH_fac</th>        <td>   -0.9716</td> <td>    0.401</td> <td>   -2.421</td> <td> 0.016</td> <td>   -1.758</td> <td>   -0.185</td>\n</tr>\n<tr>\n  <th>Med_SA_fac</th>        <td>   -0.2480</td> <td>    0.227</td> <td>   -1.093</td> <td> 0.274</td> <td>   -0.693</td> <td>    0.197</td>\n</tr>\n<tr>\n  <th>Med_SMAT_fac</th>      <td>    1.4107</td> <td>    0.699</td> <td>    2.019</td> <td> 0.044</td> <td>    0.041</td> <td>    2.781</td>\n</tr>\n<tr>\n  <th>Med_TMAT_fac</th>      <td>   -1.0220</td> <td>    1.014</td> <td>   -1.008</td> <td> 0.314</td> <td>   -3.010</td> <td>    0.966</td>\n</tr>\n<tr>\n  <th>PLHIV</th>             <td>   -0.0112</td> <td>    0.001</td> <td>  -15.172</td> <td> 0.000</td> <td>   -0.013</td> <td>   -0.010</td>\n</tr>\n<tr>\n  <th>SA_fac</th>            <td>    0.0449</td> <td>    0.124</td> <td>    0.361</td> <td> 0.718</td> <td>   -0.199</td> <td>    0.289</td>\n</tr>\n<tr>\n  <th>SMAT_fac</th>          <td>   -0.5434</td> <td>    0.580</td> <td>   -0.937</td> <td> 0.349</td> <td>   -1.680</td> <td>    0.593</td>\n</tr>\n<tr>\n  <th>TMAT_fac</th>          <td>    0.8926</td> <td>    0.803</td> <td>    1.112</td> <td> 0.266</td> <td>   -0.681</td> <td>    2.467</td>\n</tr>\n<tr>\n  <th>drugdeathrate</th>     <td>    0.0384</td> <td>    0.035</td> <td>    1.110</td> <td> 0.267</td> <td>   -0.029</td> <td>    0.106</td>\n</tr>\n<tr>\n  <th>drugdeathrate_est</th> <td>    0.0570</td> <td>    0.046</td> <td>    1.232</td> <td> 0.218</td> <td>   -0.034</td> <td>    0.148</td>\n</tr>\n<tr>\n  <th>drugdeaths</th>        <td>   -0.0545</td> <td>    0.017</td> <td>   -3.125</td> <td> 0.002</td> <td>   -0.089</td> <td>   -0.020</td>\n</tr>\n<tr>\n  <th>num_SSPs</th>          <td>    3.6778</td> <td>    0.817</td> <td>    4.501</td> <td> 0.000</td> <td>    2.076</td> <td>    5.280</td>\n</tr>\n<tr>\n  <th>bup_phys</th>          <td>    0.0743</td> <td>    0.031</td> <td>    2.378</td> <td> 0.017</td> <td>    0.013</td> <td>    0.136</td>\n</tr>\n<tr>\n  <th>ADULTMEN</th>          <td>   -0.0001</td> <td> 3.63e-05</td> <td>   -2.816</td> <td> 0.005</td> <td>   -0.000</td> <td> -3.1e-05</td>\n</tr>\n<tr>\n  <th>MSM12MTH</th>          <td>    1.2382</td> <td>    0.777</td> <td>    1.593</td> <td> 0.111</td> <td>   -0.286</td> <td>    2.763</td>\n</tr>\n<tr>\n  <th>MSM5YEAR</th>          <td>   -0.8014</td> <td>    0.503</td> <td>   -1.594</td> <td> 0.111</td> <td>   -1.788</td> <td>    0.185</td>\n</tr>\n<tr>\n  <th>unemployment_rate</th> <td>    0.0686</td> <td>    0.105</td> <td>    0.656</td> <td> 0.512</td> <td>   -0.136</td> <td>    0.273</td>\n</tr>\n<tr>\n  <th>poverty_rate</th>      <td>   -0.1748</td> <td>    0.057</td> <td>   -3.067</td> <td> 0.002</td> <td>   -0.287</td> <td>   -0.063</td>\n</tr>\n<tr>\n  <th>household_income</th>  <td> 7.346e-05</td> <td> 4.03e-05</td> <td>    1.824</td> <td> 0.068</td> <td>-5.53e-06</td> <td>    0.000</td>\n</tr>\n</table>\n<table class=\"simpletable\">\n<tr>\n  <th>Omnibus:</th>       <td>8276.181</td> <th>  Durbin-Watson:     </th>   <td>   1.964</td>   \n</tr>\n<tr>\n  <th>Prob(Omnibus):</th>  <td> 0.000</td>  <th>  Jarque-Bera (JB):  </th> <td>352793955.545</td>\n</tr>\n<tr>\n  <th>Skew:</th>           <td>35.983</td>  <th>  Prob(JB):          </th>   <td>    0.00</td>   \n</tr>\n<tr>\n  <th>Kurtosis:</th>      <td>1699.382</td> <th>  Cond. No.          </th>   <td>1.75e+06</td>   \n</tr>\n</table><br/><br/>Warnings:<br/>[1] Standard Errors assume that the covariance matrix of the errors is correctly specified.<br/>[2] The condition number is large, 1.75e+06. This might indicate that there are<br/>strong multicollinearity or other numerical problems."
     },
     "metadata": {},
     "execution_count": 110
    }
   ],
   "source": [
    "reg  = sm.OLS(y, X2)\n",
    "reg = reg.fit()\n",
    "reg.summary()"
   ]
  },
  {
   "cell_type": "code",
   "execution_count": 138,
   "metadata": {},
   "outputs": [],
   "source": [
    "'''\n",
    "'MH_fac',\n",
    "'Med_AMAT_fac',\n",
    "'Med_MH_fac',\n",
    "'Med_SA_fac',\n",
    "'Med_SMAT_fac',\n",
    "'Med_TMAT_fac',\n",
    "'SMAT_fac',\n",
    "'TMAT_fac',\n",
    "'AMAT_fac',\n",
    " 'bup_phys',\n",
    " 'ADULTMEN',\n",
    " 'MSM12MTH',\n",
    " 'MSM5YEAR',\n",
    "'''\n",
    "\n",
    "\n",
    "feat_drop2 = ['const',\n",
    " 'Population',\n",
    " 'HIVdiagnoses',\n",
    " 'HIVprevalence',\n",
    " 'bup_phys',\n",
    " 'PLHIV',\n",
    " 'num_SSPs',\n",
    " 'poverty_rate']\n",
    "X3 = df2[feat_drop2]"
   ]
  },
  {
   "cell_type": "code",
   "execution_count": 139,
   "metadata": {},
   "outputs": [
    {
     "output_type": "execute_result",
     "data": {
      "text/plain": "<class 'statsmodels.iolib.summary.Summary'>\n\"\"\"\n                            OLS Regression Results                            \n==============================================================================\nDep. Variable:           HIVincidence   R-squared:                       0.260\nModel:                            OLS   Adj. R-squared:                  0.258\nMethod:                 Least Squares   F-statistic:                     146.8\nDate:                Fri, 31 Jul 2020   Prob (F-statistic):          4.93e-186\nTime:                        14:42:21   Log-Likelihood:                -12064.\nNo. Observations:                2937   AIC:                         2.414e+04\nDf Residuals:                    2929   BIC:                         2.419e+04\nDf Model:                           7                                         \nCovariance Type:            nonrobust                                         \n=================================================================================\n                    coef    std err          t      P>|t|      [0.025      0.975]\n---------------------------------------------------------------------------------\nconst             1.0979      0.804      1.366      0.172      -0.478       2.674\nPopulation    -1.708e-05   2.43e-06     -7.040      0.000   -2.18e-05   -1.23e-05\nHIVdiagnoses      0.2834      0.017     16.588      0.000       0.250       0.317\nHIVprevalence     0.0389      0.002     22.677      0.000       0.036       0.042\nbup_phys          0.0947      0.023      4.115      0.000       0.050       0.140\nPLHIV            -0.0098      0.001    -15.797      0.000      -0.011      -0.009\nnum_SSPs          3.7913      0.791      4.796      0.000       2.241       5.341\npoverty_rate     -0.1459      0.046     -3.187      0.001      -0.236      -0.056\n==============================================================================\nOmnibus:                     8319.343   Durbin-Watson:                   1.968\nProb(Omnibus):                  0.000   Jarque-Bera (JB):        365540593.486\nSkew:                          36.486   Prob(JB):                         0.00\nKurtosis:                    1729.768   Cond. No.                     1.06e+06\n==============================================================================\n\nWarnings:\n[1] Standard Errors assume that the covariance matrix of the errors is correctly specified.\n[2] The condition number is large, 1.06e+06. This might indicate that there are\nstrong multicollinearity or other numerical problems.\n\"\"\"",
      "text/html": "<table class=\"simpletable\">\n<caption>OLS Regression Results</caption>\n<tr>\n  <th>Dep. Variable:</th>      <td>HIVincidence</td>   <th>  R-squared:         </th> <td>   0.260</td> \n</tr>\n<tr>\n  <th>Model:</th>                   <td>OLS</td>       <th>  Adj. R-squared:    </th> <td>   0.258</td> \n</tr>\n<tr>\n  <th>Method:</th>             <td>Least Squares</td>  <th>  F-statistic:       </th> <td>   146.8</td> \n</tr>\n<tr>\n  <th>Date:</th>             <td>Fri, 31 Jul 2020</td> <th>  Prob (F-statistic):</th> <td>4.93e-186</td>\n</tr>\n<tr>\n  <th>Time:</th>                 <td>14:42:21</td>     <th>  Log-Likelihood:    </th> <td> -12064.</td> \n</tr>\n<tr>\n  <th>No. Observations:</th>      <td>  2937</td>      <th>  AIC:               </th> <td>2.414e+04</td>\n</tr>\n<tr>\n  <th>Df Residuals:</th>          <td>  2929</td>      <th>  BIC:               </th> <td>2.419e+04</td>\n</tr>\n<tr>\n  <th>Df Model:</th>              <td>     7</td>      <th>                     </th>     <td> </td>    \n</tr>\n<tr>\n  <th>Covariance Type:</th>      <td>nonrobust</td>    <th>                     </th>     <td> </td>    \n</tr>\n</table>\n<table class=\"simpletable\">\n<tr>\n        <td></td>           <th>coef</th>     <th>std err</th>      <th>t</th>      <th>P>|t|</th>  <th>[0.025</th>    <th>0.975]</th>  \n</tr>\n<tr>\n  <th>const</th>         <td>    1.0979</td> <td>    0.804</td> <td>    1.366</td> <td> 0.172</td> <td>   -0.478</td> <td>    2.674</td>\n</tr>\n<tr>\n  <th>Population</th>    <td>-1.708e-05</td> <td> 2.43e-06</td> <td>   -7.040</td> <td> 0.000</td> <td>-2.18e-05</td> <td>-1.23e-05</td>\n</tr>\n<tr>\n  <th>HIVdiagnoses</th>  <td>    0.2834</td> <td>    0.017</td> <td>   16.588</td> <td> 0.000</td> <td>    0.250</td> <td>    0.317</td>\n</tr>\n<tr>\n  <th>HIVprevalence</th> <td>    0.0389</td> <td>    0.002</td> <td>   22.677</td> <td> 0.000</td> <td>    0.036</td> <td>    0.042</td>\n</tr>\n<tr>\n  <th>bup_phys</th>      <td>    0.0947</td> <td>    0.023</td> <td>    4.115</td> <td> 0.000</td> <td>    0.050</td> <td>    0.140</td>\n</tr>\n<tr>\n  <th>PLHIV</th>         <td>   -0.0098</td> <td>    0.001</td> <td>  -15.797</td> <td> 0.000</td> <td>   -0.011</td> <td>   -0.009</td>\n</tr>\n<tr>\n  <th>num_SSPs</th>      <td>    3.7913</td> <td>    0.791</td> <td>    4.796</td> <td> 0.000</td> <td>    2.241</td> <td>    5.341</td>\n</tr>\n<tr>\n  <th>poverty_rate</th>  <td>   -0.1459</td> <td>    0.046</td> <td>   -3.187</td> <td> 0.001</td> <td>   -0.236</td> <td>   -0.056</td>\n</tr>\n</table>\n<table class=\"simpletable\">\n<tr>\n  <th>Omnibus:</th>       <td>8319.343</td> <th>  Durbin-Watson:     </th>   <td>   1.968</td>   \n</tr>\n<tr>\n  <th>Prob(Omnibus):</th>  <td> 0.000</td>  <th>  Jarque-Bera (JB):  </th> <td>365540593.486</td>\n</tr>\n<tr>\n  <th>Skew:</th>           <td>36.486</td>  <th>  Prob(JB):          </th>   <td>    0.00</td>   \n</tr>\n<tr>\n  <th>Kurtosis:</th>      <td>1729.768</td> <th>  Cond. No.          </th>   <td>1.06e+06</td>   \n</tr>\n</table><br/><br/>Warnings:<br/>[1] Standard Errors assume that the covariance matrix of the errors is correctly specified.<br/>[2] The condition number is large, 1.06e+06. This might indicate that there are<br/>strong multicollinearity or other numerical problems."
     },
     "metadata": {},
     "execution_count": 139
    }
   ],
   "source": [
    "reg  = sm.OLS(y, X3)\n",
    "reg = reg.fit()\n",
    "reg.summary()"
   ]
  },
  {
   "cell_type": "code",
   "execution_count": null,
   "metadata": {},
   "outputs": [],
   "source": []
  }
 ]
}