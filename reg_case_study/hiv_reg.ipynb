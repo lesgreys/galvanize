{
 "metadata": {
  "language_info": {
   "codemirror_mode": {
    "name": "ipython",
    "version": 3
   },
   "file_extension": ".py",
   "mimetype": "text/x-python",
   "name": "python",
   "nbconvert_exporter": "python",
   "pygments_lexer": "ipython3",
   "version": "3.7.7-final"
  },
  "orig_nbformat": 2,
  "kernelspec": {
   "name": "python37664bitanaconda3virtualenv9b7bc183029240479f6be3eb0b77fa3c",
   "display_name": "Python 3.7.6 64-bit ('anaconda3': virtualenv)"
  }
 },
 "nbformat": 4,
 "nbformat_minor": 2,
 "cells": [
  {
   "cell_type": "code",
   "execution_count": 1,
   "metadata": {},
   "outputs": [],
   "source": [
    "%reload_ext autoreload\n",
    "%autoreload 2\n",
    "%matplotlib inline\n",
    "\n",
    "import numpy as np\n",
    "import pandas as pd\n",
    "import matplotlib.pyplot as plt\n",
    "import matplotlib._color_data as mcd\n",
    "import seaborn as sns\n",
    "import statsmodels.formula.api as smf\n",
    "import statsmodels.api as sm"
   ]
  },
  {
   "cell_type": "code",
   "execution_count": 10,
   "metadata": {},
   "outputs": [],
   "source": [
    "msm_df = pd.read_csv('data/CAMP/US_MSM_Estimates_Data_2013.csv')\n",
    "pov_df = pd.read_csv('data/ACS_14_5YR_poverty/ACS_14_5YR_S1701_with_ann.csv', encoding = \"ISO-8859-1\", skiprows=1)\n",
    "inc_df = pd.read_csv('data/ACS_14_5YR_income/ACS_14_5YR_S1901_with_ann.csv', encoding = \"ISO-8859-1\", skiprows=1)"
   ]
  },
  {
   "cell_type": "code",
   "execution_count": 12,
   "metadata": {
    "tags": []
   },
   "outputs": [
    {
     "output_type": "stream",
     "name": "stdout",
     "text": "<class 'pandas.core.frame.DataFrame'>\nRangeIndex: 3143 entries, 0 to 3142\nData columns (total 12 columns):\n #   Column    Non-Null Count  Dtype  \n---  ------    --------------  -----  \n 0   REGCODE   3143 non-null   int64  \n 1   DIVCODE   3143 non-null   int64  \n 2   STATEFP   3143 non-null   int64  \n 3   COUNTYFP  3143 non-null   int64  \n 4   CSACODE   1150 non-null   float64\n 5   CBSACODE  1808 non-null   float64\n 6   METDCODE  113 non-null    float64\n 7   METMICSA  1808 non-null   float64\n 8   CENTOUTL  1807 non-null   float64\n 9   ADULTMEN  3143 non-null   int64  \n 10  MSM12MTH  3143 non-null   int64  \n 11  MSM5YEAR  3143 non-null   int64  \ndtypes: float64(5), int64(7)\nmemory usage: 294.8 KB\n"
    }
   ],
   "source": [
    "msm_df.info()"
   ]
  },
  {
   "cell_type": "code",
   "execution_count": 13,
   "metadata": {},
   "outputs": [
    {
     "output_type": "execute_result",
     "data": {
      "text/plain": "   REGCODE  DIVCODE  STATEFP  COUNTYFP  CSACODE  CBSACODE  METDCODE  METMICSA  \\\n0        3        6        1         1      NaN   33860.0       NaN       1.0   \n1        3        6        1         3    380.0   19300.0       NaN       1.0   \n2        3        6        1         5      NaN       NaN       NaN       NaN   \n3        3        6        1         7    142.0   13820.0       NaN       1.0   \n4        3        6        1         9    142.0   13820.0       NaN       1.0   \n\n   CENTOUTL  ADULTMEN  MSM12MTH  MSM5YEAR  \n0       NaN     19410       333       514  \n1       1.0     69724       925      1429  \n2       NaN     11567        82       127  \n3       2.0      9508       119       184  \n4       2.0     21368       601       928  ",
      "text/html": "<div>\n<style scoped>\n    .dataframe tbody tr th:only-of-type {\n        vertical-align: middle;\n    }\n\n    .dataframe tbody tr th {\n        vertical-align: top;\n    }\n\n    .dataframe thead th {\n        text-align: right;\n    }\n</style>\n<table border=\"1\" class=\"dataframe\">\n  <thead>\n    <tr style=\"text-align: right;\">\n      <th></th>\n      <th>REGCODE</th>\n      <th>DIVCODE</th>\n      <th>STATEFP</th>\n      <th>COUNTYFP</th>\n      <th>CSACODE</th>\n      <th>CBSACODE</th>\n      <th>METDCODE</th>\n      <th>METMICSA</th>\n      <th>CENTOUTL</th>\n      <th>ADULTMEN</th>\n      <th>MSM12MTH</th>\n      <th>MSM5YEAR</th>\n    </tr>\n  </thead>\n  <tbody>\n    <tr>\n      <th>0</th>\n      <td>3</td>\n      <td>6</td>\n      <td>1</td>\n      <td>1</td>\n      <td>NaN</td>\n      <td>33860.0</td>\n      <td>NaN</td>\n      <td>1.0</td>\n      <td>NaN</td>\n      <td>19410</td>\n      <td>333</td>\n      <td>514</td>\n    </tr>\n    <tr>\n      <th>1</th>\n      <td>3</td>\n      <td>6</td>\n      <td>1</td>\n      <td>3</td>\n      <td>380.0</td>\n      <td>19300.0</td>\n      <td>NaN</td>\n      <td>1.0</td>\n      <td>1.0</td>\n      <td>69724</td>\n      <td>925</td>\n      <td>1429</td>\n    </tr>\n    <tr>\n      <th>2</th>\n      <td>3</td>\n      <td>6</td>\n      <td>1</td>\n      <td>5</td>\n      <td>NaN</td>\n      <td>NaN</td>\n      <td>NaN</td>\n      <td>NaN</td>\n      <td>NaN</td>\n      <td>11567</td>\n      <td>82</td>\n      <td>127</td>\n    </tr>\n    <tr>\n      <th>3</th>\n      <td>3</td>\n      <td>6</td>\n      <td>1</td>\n      <td>7</td>\n      <td>142.0</td>\n      <td>13820.0</td>\n      <td>NaN</td>\n      <td>1.0</td>\n      <td>2.0</td>\n      <td>9508</td>\n      <td>119</td>\n      <td>184</td>\n    </tr>\n    <tr>\n      <th>4</th>\n      <td>3</td>\n      <td>6</td>\n      <td>1</td>\n      <td>9</td>\n      <td>142.0</td>\n      <td>13820.0</td>\n      <td>NaN</td>\n      <td>1.0</td>\n      <td>2.0</td>\n      <td>21368</td>\n      <td>601</td>\n      <td>928</td>\n    </tr>\n  </tbody>\n</table>\n</div>"
     },
     "metadata": {},
     "execution_count": 13
    }
   ],
   "source": [
    "msm_df.head()"
   ]
  },
  {
   "cell_type": "code",
   "execution_count": null,
   "metadata": {},
   "outputs": [],
   "source": []
  }
 ]
}