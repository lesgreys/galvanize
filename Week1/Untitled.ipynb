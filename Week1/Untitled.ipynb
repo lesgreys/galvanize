{
 "cells": [
  {
   "cell_type": "code",
   "execution_count": 28,
   "metadata": {},
   "outputs": [
    {
     "ename": "SyntaxError",
     "evalue": "invalid syntax (<ipython-input-28-a1cb232f14cc>, line 10)",
     "output_type": "error",
     "traceback": [
      "\u001b[0;36m  File \u001b[0;32m\"<ipython-input-28-a1cb232f14cc>\"\u001b[0;36m, line \u001b[0;32m10\u001b[0m\n\u001b[0;31m    z.append(t) for t in x[len(y):]\u001b[0m\n\u001b[0m                  ^\u001b[0m\n\u001b[0;31mSyntaxError\u001b[0m\u001b[0;31m:\u001b[0m invalid syntax\n"
     ]
    }
   ],
   "source": [
    "x = [1,2,3,4,6,5,8,9]\n",
    "y = [3,2,1]\n",
    "z = []\n",
    "\n",
    "for i, j in zip(x[:len(y)], y):\n",
    "    z.append(i+j)\n",
    "# for k in x[len(y):]:\n",
    "#     z.append(k)\n",
    "\n",
    "z.append(t) for t in x[len(y):]\n",
    "z"
   ]
  },
  {
   "cell_type": "code",
   "execution_count": null,
   "metadata": {},
   "outputs": [],
   "source": []
  },
  {
   "cell_type": "code",
   "execution_count": null,
   "metadata": {},
   "outputs": [],
   "source": []
  }
 ],
 "metadata": {
  "kernelspec": {
   "display_name": "Python 3",
   "language": "python",
   "name": "python3"
  },
  "language_info": {
   "codemirror_mode": {
    "name": "ipython",
    "version": 3
   },
   "file_extension": ".py",
   "mimetype": "text/x-python",
   "name": "python",
   "nbconvert_exporter": "python",
   "pygments_lexer": "ipython3",
   "version": "3.7.6"
  }
 },
 "nbformat": 4,
 "nbformat_minor": 4
}
