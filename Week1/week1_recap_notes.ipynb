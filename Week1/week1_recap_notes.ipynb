{
 "cells": [
  {
   "cell_type": "markdown",
   "metadata": {},
   "source": [
    "## Week 1 Recap:\n",
    "------"
   ]
  },
  {
   "cell_type": "markdown",
   "metadata": {},
   "source": [
    "Day 1: UNIX & Git\n",
    "---"
   ]
  },
  {
   "cell_type": "markdown",
   "metadata": {},
   "source": [
    "## UNIX\n",
    "----------\n",
    "**directory managament & contents**\n",
    "-----\n",
    "\n",
    "**ls** list contents within active directory, you can list items within other directories if specific path after ls, will not move you there just look into directory and list contents. \n",
    "\n",
    "**cd** moves you to directory specfied, can move back and forth. can use absolute and relative path. \n",
    "\n",
    "**man** help menu, can be used alone to specify all help commands available or used prior to a command to see docstring for specific command. \n",
    "\n",
    "**pwd** alias for me is **p**, will print working directory. \n",
    "\n",
    "**clear** alias for me is **c**, will clear terminal screen. \n",
    "\n",
    "**echo** print to screen text written within quotatios, essentially a script to print. You can also use **> or >>** when you want to **write to** a file. *i.e. echo 'write this to' > this_file.ext*. *> is overwrites the entire file, >> appends to existing file*. \n",
    "\n",
    "**mkdir** make a directory within active directoy.\n",
    "\n",
    "**touch** make a file within active directory.\n",
    "\n",
    "**rm** delete directory or file, can be used as **rm -rf** to delete entire directory with subfolders and/or files, not recoverable. \n",
    "\n",
    "**mv** move or rename file/directory. \n",
    "\n",
    "**cp** copy file/directory\n",
    "\n",
    "**chaining commands:** <br> \n",
    "* **&**: run in background; command &\n",
    "* **& &**: run command 2 after command 1 finishes successfully\n",
    "* **|**: use output of command 1 as the input to command 2\n",
    "* **| |**: run command 2 if command 1 does not finish successfully\n",
    "* **command (> or >>) file**: send output of command to file. > overwrites file, >> appends to end of file. "
   ]
  },
  {
   "cell_type": "markdown",
   "metadata": {},
   "source": [
    "**file ownership & permission**\n",
    "------\n",
    "**ls -l** list ownership and permission for contents. **rwx** = read, write, execute. shown in following order; owner, group, everyone else. **-** = permission denied\n",
    "\n",
    "**chwon** change owner\n",
    "\n",
    "**sudo** superuser do, can accidentally delete or modfiy important files. \n",
    "\n",
    "**chgrp** change group\n",
    "\n",
    "**chmod** change file mode; \n",
    "* read = 4\n",
    "* write = 2\n",
    "* execute = 1\n",
    "* read & write = 6\n",
    "* read, write, execute = 7\n",
    "* 0 = no access"
   ]
  },
  {
   "cell_type": "markdown",
   "metadata": {},
   "source": [
    "**reading and viewing contents within a file**\n",
    "--------\n",
    "\n",
    "**command** 'filename'\n",
    "\n",
    "* **cat** print contents of file name. <br>\n",
    "* **head** first 10 lines of file to screen <br>\n",
    "* **tail** last 10 lines of file to screen <br>\n",
    "* **more** print file one screen at a time <br>\n",
    "* **less** same as more but more options\n",
    "\n",
    "you can print command to a file by using > or >> \n",
    "\n",
    "**useful commands to look deeper into**\n",
    "* sed\n",
    "* grep\n",
    "* awk\n",
    "* perl"
   ]
  },
  {
   "cell_type": "markdown",
   "metadata": {},
   "source": [
    "**environment variables & commands**\n",
    "------\n",
    "\n",
    "**env** shows the following for my machine. <br>\n",
    "\n",
    "TERM_PROGRAM=Apple_Terminal<br>\n",
    "TERM=xterm-256color<br>\n",
    "SHELL=/bin/bash<br>\n",
    "CLICOLOR=1<br>\n",
    "TMPDIR=/var/folders/zy/1hg233yj15sbd17mmr_923qc0000gn/T/<br>\n",
    "TERM_PROGRAM_VERSION=433<br>\n",
    "TERM_SESSION_ID=DELETED<br>\n",
    "USER=lesropro<br>\n",
    "SSH_AUTH_SOCK=/private/tmp/com.apple.launchd.TN4FDwTVIS/Listeners <br>\n",
    "LSCOLORS=ExFxBxDxCxegedabagacad <br>\n",
    "PATH=/usr/local/bin:/usr/bin:/bin:/usr/sbin:/sbin <br>\n",
    "LaunchInstanceID=DELETED <br>\n",
    "BLOCKSIZE=3k <br>\n",
    "PWD=/Users/lesropro/galvanize/galvanize/Week1 <br>\n",
    "LANG=en_US.UTF-8 <br>\n",
    "XPC_FLAGS=0x0 <br>\n",
    "PS1=\\e[0;31m[| __________________ \\W @ \\h (\\u)$ \\e[m \\n| > <br>\n",
    "PS2=| > <br>\n",
    "XPC_SERVICE_NAME=0 <br>\n",
    "HOME=/Users/lesropro <br>\n",
    "SHLVL=1 <br>\n",
    "LOGNAME=lesropro<br>\n",
    "SECURITYSESSIONID=DELETED <br>\n",
    "_=/usr/bin/env <br>\n",
    "\n",
    "\n",
    "**export** used to set variables shown above <br>\n",
    "**$** used to recall values\n",
    "\n",
    "If you don't set the variables above within the bashprofile or bashrc file they will only last for the duration of the terminal session. "
   ]
  },
  {
   "cell_type": "markdown",
   "metadata": {},
   "source": [
    "**final thoughts from slides**\n",
    "----\n",
    "* always use auto complete with tab\n",
    "* ctrl-r: does reverse search of recent commands \n",
    "* history | grep command to review recent commands\n",
    "* ! history number to repeat a command by number; you have to run history and see what command number you want to run\n",
    "\n",
    "**REVIEW UNIX ASSIGNEMENT ON TEXT PARSING**\n",
    "\n",
    "url: https://github.com/GalvanizeDataScience/unix/blob/Denver/assignment.md"
   ]
  },
  {
   "cell_type": "markdown",
   "metadata": {},
   "source": [
    "## Git Daily Workflow\n",
    "---\n",
    "\n",
    "**Most important things to remember about usnig Git is the daily workflow routine**\n",
    "\n",
    "An example of the afternoon git workflow for the DSI class.\n",
    "#### Afternoon\n",
    "##### Before Starting Work (Both Partners Do This)\n",
    "1. Fork galvanize repo for the day\n",
    "    * in browser\n",
    "2. Clone repo onto local machine\n",
    "    * git clone <repo url>\n",
    "3. Make sure to move into repo\n",
    "    * cd <folder name>\n",
    "5. Add each other's remotes to your local repo\n",
    "    * git remote add <alias> <your partners repo url>\n",
    "        - The alias is a reference name so you will not have to write out the whole url every time\n",
    "    * We reccomend pair as an easy remote name.\n",
    "    * If you have two partners, your partners initials would also work.\n",
    "Note:  When working on repos that are not part of the GalvanizeDataScience repos you will need to add permissions in the settings tab for users to have access.\n",
    "[See Here for that](https://help.github.com/en/github/setting-up-and-managing-your-github-user-account/inviting-collaborators-to-a-personal-repository)\n",
    "\n",
    "#### First Driver\n",
    "*Assumes you did all steps in Before Starting Work*\n",
    "1. Do work, follow ABC (Always Be Committing)\n",
    "    * git status (check for your modifications)\n",
    "    * git add <file you changed> (repeat for all files)\n",
    "    * git commit -m \"<commit message>\"\n",
    "2. Push initial work to **your** remote repo\n",
    "    * git push <your remote> <your local branch name>\n",
    "        * Your branch name will be master unless you have created a new branch\n",
    "        * The name for **your** remote will be origin by default. <br>\n",
    "    \n",
    "#### Second Driver <br>\n",
    "\n",
    "    *Assumes you did all steps in Before Starting Work*\n",
    "1. Pull your **partner's** work onto your local machine\n",
    "    * git pull <partners remote alias> <partners branch name>\n",
    "        * Merges your partner's changes onto your currently checked out branch.\n",
    "        * Your branch name will be master unless you have created a new branch\n",
    "2. Do work, follow ABC (Always Be Committing)\n",
    "    * git status (check for your modifications)\n",
    "    * git add <file you changed> (repeat for all files)\n",
    "    * git commit -m \"<commit message>\"\n",
    "3. Push the new changes/commits to **your** remote repo\n",
    "    * git push <your remote> <your local branch name>\n",
    "        * Your branch name will be master unless you have created a new branch<br>\n",
    "    \n",
    "***Repeat Second Driver Steps to infinity (or 'til you go home)***"
   ]
  },
  {
   "cell_type": "markdown",
   "metadata": {},
   "source": [
    "Day 2: Intro Python & OOP\n",
    "---"
   ]
  },
  {
   "cell_type": "markdown",
   "metadata": {},
   "source": [
    "## Python Intro\n",
    "-----\n",
    "*REVISIT THESE AND ENTER DATA STRUCTURES & SPEED UP TIPS*\n",
    "\n",
    "* only import what you need"
   ]
  },
  {
   "cell_type": "markdown",
   "metadata": {},
   "source": [
    "## Object Oriented Programming\n",
    "------"
   ]
  },
  {
   "cell_type": "markdown",
   "metadata": {},
   "source": [
    "Here I'll recap some basic definitions but overall this will just need to be practiced over and over again before I feel comfortable enough with the concepts. \n",
    "\n",
    "recommended review/reference for magic methods: <br>\n",
    "url: https://github.com/RafeKettler/magicmethods"
   ]
  },
  {
   "cell_type": "markdown",
   "metadata": {},
   "source": [
    "OOP is entirely based on modeling the world around us as **objects**.\n",
    "\n",
    "\n",
    "\n",
    "\"In Python, **objects** are data structures that contain **data**, known as **attributes**; and **procedures**, known as **methods**.\"\n",
    "\n",
    "**class** describes the blueprint of an object <br>\n",
    "**attributes** describes individual characteristics of the class <br>\n",
    "**methods** runs when called, and does something with attributes. <br>\n",
    "\n",
    "a good way to gauge which to use when creating class or methods, noun use a class or attribute, if it's a verb use a method/function. \n",
    "\n",
    "![Magic Method Table](imgs/magicmethod.png)\n",
    "\n",
    "### Advantages of OOP\n",
    "**inheritance** can inherit attributes and methods from already existing classes, simplifies and streamlines coding. \n",
    "\n",
    "**encapsulation** hiding the inner workings of the methods and functions. i.e. abstraction. only need to learn what to do not how to do it. Like walking or running, you only need to know to do it not how your muscles, nerves, etc work to be able to run or walk.\n",
    "\n",
    "**polymorphism** ability for different classes to interact with each other but still carry out it's own individual characteristics. \n"
   ]
  },
  {
   "cell_type": "markdown",
   "metadata": {},
   "source": [
    "## Day 3: Numpy & Linear Algebra\n",
    "_______"
   ]
  },
  {
   "cell_type": "markdown",
   "metadata": {},
   "source": [
    "### Numpy"
   ]
  },
  {
   "cell_type": "code",
   "execution_count": 45,
   "metadata": {},
   "outputs": [],
   "source": [
    "#import library for numpy & linear algebra\n",
    "import numpy as np\n",
    "import pandas as pd\n",
    "from scipy import stats\n",
    "\n",
    "import matplotlib.pyplot as plt\n",
    "plt.style.use('fivethirtyeight')\n",
    "%matplotlib inline"
   ]
  },
  {
   "cell_type": "markdown",
   "metadata": {},
   "source": [
    "[Lecture URL](https://github.com/GalvanizeDataScience/lectures/blob/Austin/numpy/juliana/numpy-lesson.ipynb)"
   ]
  },
  {
   "cell_type": "markdown",
   "metadata": {},
   "source": [
    "#### Biggest reasons to use numpy\n",
    "* memory efficiency\n",
    "* computational efficiency\n",
    "* functionality -- built in linear alg functions"
   ]
  },
  {
   "cell_type": "code",
   "execution_count": 24,
   "metadata": {},
   "outputs": [
    {
     "data": {
      "text/plain": [
       "6"
      ]
     },
     "execution_count": 24,
     "metadata": {},
     "output_type": "execute_result"
    }
   ],
   "source": [
    "#called ndarray which is nth dimension array\n",
    "x = np.array([[0,1,2],[3,4,5]]) #create an array manually\n",
    "x[0:2, 0:2] #slice an array exclusive start:stop:step, [row, column]\n",
    "np.flip(x) #reverse order of ndim array\n",
    "x.size"
   ]
  },
  {
   "cell_type": "code",
   "execution_count": 32,
   "metadata": {},
   "outputs": [
    {
     "data": {
      "text/plain": [
       "array([[   0,    1,    2],\n",
       "       [   3, 1000,    5]])"
      ]
     },
     "execution_count": 32,
     "metadata": {},
     "output_type": "execute_result"
    }
   ],
   "source": [
    "#reshaping arrays\n",
    "x.shape #checks shape of array\n",
    "x.reshape((3,2)) #reshapes array but is only viewable form of reshape\n",
    "\n",
    "#if you want to create a new reshape in memory must make copy\n",
    "\n",
    "y = x.reshape((6,1)).copy()\n",
    "y\n",
    "\n",
    "#reassign values within array\n",
    "\n",
    "x[1,1] = 1000\n",
    "x"
   ]
  },
  {
   "cell_type": "code",
   "execution_count": 57,
   "metadata": {},
   "outputs": [],
   "source": [
    "#creating numpy arrays with specified shape size(n_rows,n_cols)\n",
    "\n",
    "np.zeros((5,5)) #creates array with all zeros.\n",
    "np.ones((1,2)) #creates array with all ones.\n",
    "np.empty((2,2)) #creates array with null values\n",
    "np.full((2,2),4) #creates array with constant value passed in, 4\n",
    "np.linspace(0,1, num=11) #creates array with range value, num of spaces, exclusive\n",
    "np.arange(0,10,1) #creates 1d array within given range and start,stop,step\n",
    "\n",
    "#when to use linspace vs. arange, linspace when specificying exact number\n",
    "#of spaces between a range, arange when you know range and want evenly spaced\n",
    "\n",
    "np.random.uniform(0,10,10).round(2)\n",
    "#create a random array with uniform distribution property and apply\n",
    "#round method to output. (low_value, high_value, size)\n",
    "\n",
    "np.random.normal(0,1,10).round(2)\n",
    "#create a random array with a normal distribution property and round\n",
    "#(loc = mean, scale = stdv, size)\n",
    "\n",
    "np.random.random(10) #create random array between 0-1, passed in size\n",
    "\n",
    "#see all np.random possibilities see documentation:\n",
    "url=('https://docs.scipy.org/doc/numpy-1.14.0/reference/routines.random.html')\n"
   ]
  },
  {
   "cell_type": "code",
   "execution_count": 63,
   "metadata": {},
   "outputs": [
    {
     "data": {
      "text/plain": [
       "array([[False, False, False],\n",
       "       [False, False, False]])"
      ]
     },
     "execution_count": 63,
     "metadata": {},
     "output_type": "execute_result"
    }
   ],
   "source": [
    "#broadcasting is the ability for numpy to move throught the whole array\n",
    "#like a for loop. can be done with a scalar or equal shape array\n",
    "\n",
    "# broadcast with operators\n",
    "x # *, -, +, %, /\n",
    "\n",
    "#broadcast with bool\n",
    "x #<, >, =\n",
    "\n",
    "#use comabinations\n",
    "(x < 0) #& = and, | = or (x > 0)"
   ]
  },
  {
   "cell_type": "code",
   "execution_count": 69,
   "metadata": {},
   "outputs": [
    {
     "data": {
      "text/plain": [
       "array([[   0,    7,   12],\n",
       "       [  24, 7000,   30]])"
      ]
     },
     "execution_count": 69,
     "metadata": {},
     "output_type": "execute_result"
    }
   ],
   "source": [
    "#broadcast with another array, must have same shape or equal columns. \n",
    "b = np.array([8,7,6])\n",
    "x * b #will broadcast column-wise because array b is row:1, col:3"
   ]
  },
  {
   "cell_type": "markdown",
   "metadata": {},
   "source": [
    "Broadcasting is possible if, for every dimension, either\n",
    "* both arrays have the same length,\n",
    "* one has a length of 1 and the other length is the same, or\n",
    "* one is missing and the number width is the same length."
   ]
  },
  {
   "cell_type": "code",
   "execution_count": 72,
   "metadata": {},
   "outputs": [
    {
     "data": {
      "text/plain": [
       "array([[ 8,  7,  6],\n",
       "       [16, 14, 12],\n",
       "       [24, 21, 18]])"
      ]
     },
     "execution_count": 72,
     "metadata": {},
     "output_type": "execute_result"
    }
   ],
   "source": [
    "a = ([[1],[2],[3]])\n",
    "a * b #in this broadcasting a new array is created with new size"
   ]
  },
  {
   "cell_type": "code",
   "execution_count": 73,
   "metadata": {},
   "outputs": [],
   "source": [
    "#indexing are all practically the same as list indexing"
   ]
  },
  {
   "cell_type": "code",
   "execution_count": 75,
   "metadata": {},
   "outputs": [
    {
     "data": {
      "text/plain": [
       "array(['red', 'red', 'blue', 'blue', 'red', 'red', 'blue', 'blue'],\n",
       "      dtype='<U4')"
      ]
     },
     "execution_count": 75,
     "metadata": {},
     "output_type": "execute_result"
    }
   ],
   "source": [
    "#advanced indexing\n",
    "colors = np.array(['red', 'blue']) #create array indx 0,1\n",
    "idx = np.array([0, 0, 1, 1, 0, 0, 1, 1]) #create array with indx to call\n",
    "colors[idx] #call the array with index value desired"
   ]
  },
  {
   "cell_type": "code",
   "execution_count": 79,
   "metadata": {},
   "outputs": [
    {
     "data": {
      "text/plain": [
       "array([[999,   1,   2,   3],\n",
       "       [  4, 999,   6,   7],\n",
       "       [  8,   9, 999,  11],\n",
       "       [ 12,  13,  14, 999]])"
      ]
     },
     "execution_count": 79,
     "metadata": {},
     "output_type": "execute_result"
    }
   ],
   "source": [
    "#can also index with arrays for row, cols\n",
    "x = np.arange(16).reshape((4, 4))\n",
    "x[[0, 1, 2, 3], [0, 1, 2, 3]] = 999\n",
    "x"
   ]
  },
  {
   "cell_type": "code",
   "execution_count": 87,
   "metadata": {},
   "outputs": [
    {
     "data": {
      "text/plain": [
       "array([[[  4, 999,   6,   7],\n",
       "        [  4, 999,   6,   7],\n",
       "        [999,   1,   2,   3],\n",
       "        [  4, 999,   6,   7]],\n",
       "\n",
       "       [[999,   1,   2,   3],\n",
       "        [  4, 999,   6,   7],\n",
       "        [999,   1,   2,   3],\n",
       "        [  4, 999,   6,   7]],\n",
       "\n",
       "       [[999,   1,   2,   3],\n",
       "        [  4, 999,   6,   7],\n",
       "        [  4, 999,   6,   7],\n",
       "        [  4, 999,   6,   7]],\n",
       "\n",
       "       [[999,   1,   2,   3],\n",
       "        [  4, 999,   6,   7],\n",
       "        [999,   1,   2,   3],\n",
       "        [  4, 999,   6,   7]]])"
      ]
     },
     "execution_count": 87,
     "metadata": {},
     "output_type": "execute_result"
    }
   ],
   "source": [
    "#boolean indexing\n",
    "x % 2 == 0 #returns the whole array with T/F value\n",
    "x[x % 2 == 0] #returns the values that are True\n",
    "x[x % 2] #???? what is happening here ??? why does it spit out 4 new 4x4 shape arrays"
   ]
  },
  {
   "cell_type": "code",
   "execution_count": 89,
   "metadata": {},
   "outputs": [
    {
     "data": {
      "text/plain": [
       "array([[[4, 5],\n",
       "        [1, 2]],\n",
       "\n",
       "       [[1, 2],\n",
       "        [4, 5]]])"
      ]
     },
     "execution_count": 89,
     "metadata": {},
     "output_type": "execute_result"
    }
   ],
   "source": [
    "a = np.array([[1,2],[4,5]])\n",
    "a[a%2]"
   ]
  },
  {
   "cell_type": "code",
   "execution_count": 96,
   "metadata": {},
   "outputs": [
    {
     "name": "stdout",
     "output_type": "stream",
     "text": [
      "[[6 5 0 9 2 1 7 0 1 6]\n",
      " [8 4 8 8 8 5 0 9 0 4]\n",
      " [3 8 2 2 7 4 1 8 7 5]\n",
      " [4 7 6 9 1 9 2 1 1 2]\n",
      " [2 7 3 5 8 4 7 2 7 5]\n",
      " [8 6 4 7 8 6 1 8 6 6]]\n"
     ]
    },
    {
     "data": {
      "text/plain": [
       "array([[6, 5, 0, 9, 2, 1, 7, 0, 1, 6],\n",
       "       [8, 4, 8, 8, 8, 5, 0, 9, 0, 4],\n",
       "       [8, 6, 4, 7, 8, 6, 1, 8, 6, 6]])"
      ]
     },
     "execution_count": 96,
     "metadata": {},
     "output_type": "execute_result"
    }
   ],
   "source": [
    "#combining bool indx with broadcasting\n",
    "x = np.random.randint(0, 10, size=(6, 10))\n",
    "#create array with random int between low, high, size(shape).\n",
    "print(x)\n",
    "x[0,:] > 5 #row 0 and check column-wise # > 5\n",
    "x[:, x[0,:] > 5] #return all rows where row check column-wise # > 5\n",
    "x[x[:,0] > 5, :] #return all columns where column check row-wise # > 5"
   ]
  },
  {
   "cell_type": "code",
   "execution_count": 137,
   "metadata": {},
   "outputs": [
    {
     "data": {
      "text/plain": [
       "0.5944807685248221"
      ]
     },
     "execution_count": 137,
     "metadata": {},
     "output_type": "execute_result"
    }
   ],
   "source": [
    "#numpy math functions with arrays\n",
    "x = np.linspace(0.1,1, 11)\n",
    "np.exp(x) #eulers number 2.7182... applies e^x across array passed in\n",
    "np.log(x) #inverse of e^x, natural log (ln), uses e as base.\n",
    "np.log10(x) #uses 10 base for log calculation.\n",
    "\n",
    "#revisit below\n",
    "np.sin(2*np.pi*x) #trig sine angle in radians 2/pi = 360 degrees\n",
    "np.cos()\n",
    "np.sqrt() #takes sqrt of all values within array\n",
    "np.sum() #sums all whole array, column-wise, or row-wise.\n",
    "np.mean() #finds mean of whole array, column-wise, or row-wise\n",
    "np.min() #finds min of whole array, column-wise, or row-wise\n",
    "np.max() #finds max of whole array, column-wise, or row-wise\n",
    "np.argmin() #finds where min occurs column-wise or row-wise\n",
    "np.argmax() #finds where max occurs column-wise or row-wise"
   ]
  },
  {
   "cell_type": "markdown",
   "metadata": {},
   "source": [
    "**notes:** The irrational number e is also known as Euler’s number. It is approximately 2.718281, and is the base of the natural logarithm, ln (this means that, if x = \\ln y = \\log_e y, then e^x = y. For real input, exp(x) is always positive.\n",
    "\n",
    "For complex arguments, x = a + ib, we can write e^x = e^a e^{ib}. The first term, e^a, is already known (it is the real argument, described above). The second term, e^{ib}, is \\cos b + i \\sin b, a function with magnitude 1 and a periodic phase."
   ]
  },
  {
   "cell_type": "code",
   "execution_count": 139,
   "metadata": {},
   "outputs": [
    {
     "ename": "SyntaxError",
     "evalue": "invalid syntax (<ipython-input-139-48f09d94dacf>, line 4)",
     "output_type": "error",
     "traceback": [
      "\u001b[0;36m  File \u001b[0;32m\"<ipython-input-139-48f09d94dacf>\"\u001b[0;36m, line \u001b[0;32m4\u001b[0m\n\u001b[0;31m    =====================\u001b[0m\n\u001b[0m     ^\u001b[0m\n\u001b[0;31mSyntaxError\u001b[0m\u001b[0;31m:\u001b[0m invalid syntax\n"
     ]
    }
   ],
   "source": [
    "#rotation table from lin alg notes: revisit\n",
    "\n",
    "x | degrees | acos(x)\n",
    "=====================\n",
    "-1|180|np.pi\n",
    "====="
   ]
  },
  {
   "cell_type": "code",
   "execution_count": 140,
   "metadata": {},
   "outputs": [
    {
     "data": {
      "image/png": "[encoded data removed]",
      "text/plain": [
       "<Figure size 1080x576 with 1 Axes>"
      ]
     },
     "metadata": {
      "needs_background": "light"
     },
     "output_type": "display_data"
    }
   ],
   "source": [
    "#great & easy example of graphing with fillin & dashed line\n",
    "height = np.linspace(120, 200, 1000)\n",
    "std =  7.2  # in cm\n",
    "mean = 161.8 # in centimenters\n",
    "norm_constant = 1/(std * np.sqrt(2*np.pi))\n",
    "prob_density = norm_constant * np.exp( - 0.5 * ((height - mean)/std)**2 )\n",
    "fig, ax = plt.subplots(figsize=(15, 8))\n",
    "#plt.xticks(range(0, 16))\n",
    "ax.text(x=170, y=0.05, s='My Height (5ft6in)', alpha=1.0, color='#000000', fontsize=16, weight='bold')\n",
    "ax.plot(height, prob_density, color='grey')\n",
    "ax.fill_between(height, prob_density, color='lightseagreen', alpha=.5)\n",
    "ax.axvline(x=167.64, color='r', linestyle='dashed', linewidth=2)\n",
    "ax.set_title('Distribution of Height of Women in US', fontsize=20)\n",
    "ax.set_xlabel('Height (cm)', fontsize=15)\n",
    "ax.set_ylabel('Probability Density', fontsize=15);"
   ]
  },
  {
   "cell_type": "code",
   "execution_count": 141,
   "metadata": {},
   "outputs": [
    {
     "data": {
      "text/plain": [
       "(-100, 100)"
      ]
     },
     "execution_count": 141,
     "metadata": {},
     "output_type": "execute_result"
    },
    {
     "data": {
      "image/png": "[encoded data removed]",
      "text/plain": [
       "<Figure size 432x288 with 1 Axes>"
      ]
     },
     "metadata": {
      "needs_background": "light"
     },
     "output_type": "display_data"
    }
   ],
   "source": [
    "#easy to understand application of argmin or max\n",
    "#also shows a good example of using lambda function\n",
    "f = lambda x: x**4 + 2*x**3 - 12*x**2 - 2*x + 6\n",
    "x = np.linspace(-5, 4, num=250)\n",
    "\n",
    "fig, ax = plt.subplots()\n",
    "ax.plot(x, f(x))\n",
    "ax.set_ylim(-100, 100)"
   ]
  },
  {
   "cell_type": "code",
   "execution_count": 142,
   "metadata": {},
   "outputs": [
    {
     "data": {
      "text/plain": [
       "(-100, 100)"
      ]
     },
     "execution_count": 142,
     "metadata": {},
     "output_type": "execute_result"
    },
    {
     "data": {
      "image/png": "[encoded data removed]",
      "text/plain": [
       "<Figure size 432x288 with 1 Axes>"
      ]
     },
     "metadata": {
      "needs_background": "light"
     },
     "output_type": "display_data"
    }
   ],
   "source": [
    "xmn, mn = x[np.argmin(f(x))], np.min(f(x))\n",
    "\n",
    "fig, ax = plt.subplots()\n",
    "ax.plot(x, f(x))\n",
    "ax.scatter(xmn, mn, s=100)\n",
    "ax.set_ylim(-100, 100)"
   ]
  },
  {
   "cell_type": "markdown",
   "metadata": {},
   "source": [
    "## Linear Algebra"
   ]
  },
  {
   "cell_type": "code",
   "execution_count": null,
   "metadata": {},
   "outputs": [],
   "source": []
  },
  {
   "cell_type": "code",
   "execution_count": null,
   "metadata": {},
   "outputs": [],
   "source": []
  },
  {
   "cell_type": "code",
   "execution_count": null,
   "metadata": {},
   "outputs": [],
   "source": []
  },
  {
   "cell_type": "code",
   "execution_count": null,
   "metadata": {},
   "outputs": [],
   "source": []
  },
  {
   "cell_type": "code",
   "execution_count": null,
   "metadata": {},
   "outputs": [],
   "source": []
  },
  {
   "cell_type": "code",
   "execution_count": null,
   "metadata": {},
   "outputs": [],
   "source": []
  },
  {
   "cell_type": "markdown",
   "metadata": {},
   "source": [
    "## Day 4: Pandas & Matplotlib\n",
    "_______"
   ]
  },
  {
   "cell_type": "code",
   "execution_count": 143,
   "metadata": {},
   "outputs": [],
   "source": []
  },
  {
   "cell_type": "code",
   "execution_count": 144,
   "metadata": {},
   "outputs": [
    {
     "data": {
      "text/plain": [
       "-14"
      ]
     },
     "execution_count": 144,
     "metadata": {},
     "output_type": "execute_result"
    }
   ],
   "source": [
    "f(2)"
   ]
  },
  {
   "cell_type": "code",
   "execution_count": null,
   "metadata": {},
   "outputs": [],
   "source": []
  }
 ],
 "metadata": {
  "kernelspec": {
   "display_name": "Python 3",
   "language": "python",
   "name": "python3"
  },
  "language_info": {
   "codemirror_mode": {
    "name": "ipython",
    "version": 3
   },
   "file_extension": ".py",
   "mimetype": "text/x-python",
   "name": "python",
   "nbconvert_exporter": "python",
   "pygments_lexer": "ipython3",
   "version": "3.7.6"
  }
 },
 "nbformat": 4,
 "nbformat_minor": 4
}
