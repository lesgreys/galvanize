{
 "cells": [
  {
   "cell_type": "code",
   "execution_count": 408,
   "metadata": {},
   "outputs": [],
   "source": [
    "import numpy as np\n",
    "import pandas as pd\n",
    "from scipy.stats import norm\n",
    "from itertools import product\n",
    "import random\n",
    "import matplotlib.pyplot as plt\n",
    "import random\n",
    "\n",
    "%matplotlib inline"
   ]
  },
  {
   "cell_type": "code",
   "execution_count": 57,
   "metadata": {},
   "outputs": [],
   "source": [
    "class Die(object):\n",
    "    def __init__(self, sides):\n",
    "        self.sides = sides\n",
    "        \n",
    "        \n",
    "    def roll(self):\n",
    "        self.values = random.randint(1,self.sides)\n",
    "        return self.values"
   ]
  },
  {
   "cell_type": "code",
   "execution_count": null,
   "metadata": {},
   "outputs": [],
   "source": []
  },
  {
   "cell_type": "code",
   "execution_count": 23,
   "metadata": {},
   "outputs": [
    {
     "data": {
      "text/plain": [
       "array([[1],\n",
       "       [2],\n",
       "       [1],\n",
       "       [4],\n",
       "       [5],\n",
       "       [6],\n",
       "       [8]])"
      ]
     },
     "execution_count": 23,
     "metadata": {},
     "output_type": "execute_result"
    }
   ],
   "source": [
    "def col_vec(nums):\n",
    "    return np.array([nums]).T\n",
    "\n",
    "col_vec([1,2,1,4,5,6,8])"
   ]
  },
  {
   "cell_type": "code",
   "execution_count": 22,
   "metadata": {},
   "outputs": [
    {
     "data": {
      "text/plain": [
       "array([[1],\n",
       "       [2],\n",
       "       [1],\n",
       "       [4],\n",
       "       [5],\n",
       "       [6],\n",
       "       [8]])"
      ]
     },
     "execution_count": 22,
     "metadata": {},
     "output_type": "execute_result"
    }
   ],
   "source": [
    "\n",
    "def col_vec2(nums):\n",
    "    return np.c_[nums]\n",
    "\n",
    "col_vec2([1,2,1,4,5,6,8])"
   ]
  },
  {
   "cell_type": "markdown",
   "metadata": {},
   "source": []
  },
  {
   "cell_type": "code",
   "execution_count": 104,
   "metadata": {},
   "outputs": [
    {
     "data": {
      "text/plain": [
       "array([[0.19125373, 0.93031786, 0.77438534],\n",
       "       [0.81055821, 0.89320916, 0.55915053],\n",
       "       [0.64198177, 0.72341193, 0.9684382 ],\n",
       "       [0.98575769, 0.07080521, 0.09701346]])"
      ]
     },
     "execution_count": 104,
     "metadata": {},
     "output_type": "execute_result"
    }
   ],
   "source": [
    "def rand_array(rows, cols):\n",
    "    return np.random.rand(rows,cols)\n",
    "rand_array(4,3)"
   ]
  },
  {
   "cell_type": "code",
   "execution_count": 105,
   "metadata": {},
   "outputs": [
    {
     "data": {
      "text/plain": [
       "array([[0.27037826, 0.44165845, 0.35689572],\n",
       "       [0.65988901, 0.96696287, 0.4060143 ],\n",
       "       [0.84164144, 0.45208898, 0.87811172],\n",
       "       [0.10014271, 0.21505484, 0.02508455]])"
      ]
     },
     "execution_count": 105,
     "metadata": {},
     "output_type": "execute_result"
    }
   ],
   "source": [
    "np.random.rand(4,3)"
   ]
  },
  {
   "cell_type": "code",
   "execution_count": 110,
   "metadata": {},
   "outputs": [
    {
     "data": {
      "text/plain": [
       "array(['blue', 'red', 'blue', 'red', 'blue', 'red', 'blue', 'red'],\n",
       "      dtype='<U4')"
      ]
     },
     "execution_count": 110,
     "metadata": {},
     "output_type": "execute_result"
    }
   ],
   "source": [
    "def replace_words(lst):\n",
    "    x = np.array(lst)\n",
    "    return np.where(x == 0, 'red','blue')\n",
    "replace_words(np.array([1,0,1,0,1,0,1,0]))"
   ]
  },
  {
   "cell_type": "code",
   "execution_count": 119,
   "metadata": {},
   "outputs": [
    {
     "data": {
      "text/plain": [
       "(11, 4)"
      ]
     },
     "execution_count": 119,
     "metadata": {},
     "output_type": "execute_result"
    }
   ],
   "source": [
    "#4 solution\n",
    "\n",
    "x = np.array([0,    1,    2,     3,    4,     5])\n",
    "b = np.array([True, True, False, True, False, False])\n",
    "\n",
    "x[b == 0].sum(), x[b != 0].sum()"
   ]
  },
  {
   "cell_type": "code",
   "execution_count": 140,
   "metadata": {},
   "outputs": [
    {
     "data": {
      "text/plain": [
       "array([10, 20,  3, 40,  5, 60])"
      ]
     },
     "execution_count": 140,
     "metadata": {},
     "output_type": "execute_result"
    }
   ],
   "source": [
    "#5 solution\n",
    "x = np.array([1,    2,    3,     4,    5,     6])\n",
    "y = np.array([10,   20,   30,    40,   50,    60])\n",
    "b = np.array([True, True, False, True, False, True])\n",
    "\n",
    "z = np.where(b == 0, x, y)\n",
    "z"
   ]
  },
  {
   "cell_type": "code",
   "execution_count": 365,
   "metadata": {},
   "outputs": [
    {
     "data": {
      "text/plain": [
       "40"
      ]
     },
     "execution_count": 365,
     "metadata": {},
     "output_type": "execute_result"
    }
   ],
   "source": [
    "#6 solution\n",
    "x = np.array([0, 1, 0, 1, 0, 1])\n",
    "y = np.array([0, 1, 2, 3, 4, 5])\n",
    "def sum_of_square_differences(x,y):\n",
    "    return np.sum(np.square(x-y))\n",
    "sum_of_square_differences(x,y)"
   ]
  },
  {
   "cell_type": "code",
   "execution_count": 380,
   "metadata": {},
   "outputs": [
    {
     "data": {
      "text/plain": [
       "'You entered columns which is incorrect'"
      ]
     },
     "execution_count": 380,
     "metadata": {},
     "output_type": "execute_result"
    }
   ],
   "source": [
    "#7 solution\n",
    "X = np.array([[0, 1], [2, 1]])\n",
    "\n",
    "# np.mean(X, axis=1)\n",
    "\n",
    "def row_or_column_mean(aray, label):\n",
    "    if label == 'row':\n",
    "        return np.mean(aray, axis=1)\n",
    "    if label == 'column':\n",
    "        return np.mean(aray, axis=0)\n",
    "    else:\n",
    "        return f'You entered {label} which is incorrect'\n",
    "row_or_column_mean(X,'columns')"
   ]
  },
  {
   "cell_type": "code",
   "execution_count": 182,
   "metadata": {},
   "outputs": [],
   "source": [
    "#8 solution\n",
    "\n",
    "def square_matr_dia(i,j,n):\n",
    "    pass\n",
    "\n",
    "# x = np.zeros((5,5), dtype=int)\n",
    "\n",
    "# x"
   ]
  },
  {
   "cell_type": "code",
   "execution_count": 215,
   "metadata": {},
   "outputs": [],
   "source": [
    "def square_array(n):\n",
    "    x = np.zeros((n,n),dtype=int)\n",
    "    x[1:] = 1\n",
    "    x[:,1:] = 1\n",
    "    \n",
    "    return x"
   ]
  },
  {
   "cell_type": "code",
   "execution_count": 216,
   "metadata": {},
   "outputs": [
    {
     "data": {
      "text/plain": [
       "array([[0, 0, 0],\n",
       "       [0, 1, 1],\n",
       "       [0, 1, 1]])"
      ]
     },
     "execution_count": 216,
     "metadata": {},
     "output_type": "execute_result"
    }
   ],
   "source": [
    "square_array(3)"
   ]
  },
  {
   "cell_type": "code",
   "execution_count": 219,
   "metadata": {},
   "outputs": [
    {
     "data": {
      "text/plain": [
       "array([[0, 1, 0, 1],\n",
       "       [1, 0, 1, 0],\n",
       "       [0, 1, 0, 1],\n",
       "       [1, 0, 1, 0]])"
      ]
     },
     "execution_count": 219,
     "metadata": {},
     "output_type": "execute_result"
    }
   ],
   "source": [
    "def checkerboard(n):\n",
    "    x = np.zeros((n,n),dtype=int)\n",
    "    x[1::2,::2] = 1\n",
    "    x[::2,1::2] = 1\n",
    "    \n",
    "    return x\n",
    "\n",
    "checkerboard(4)"
   ]
  },
  {
   "cell_type": "code",
   "execution_count": 381,
   "metadata": {},
   "outputs": [
    {
     "data": {
      "text/plain": [
       "array([[1, 1, 1, 1, 1, 1, 1, 1, 1, 1],\n",
       "       [1, 0, 0, 0, 0, 0, 0, 0, 0, 1],\n",
       "       [1, 0, 0, 0, 0, 0, 0, 0, 0, 1],\n",
       "       [1, 0, 0, 0, 0, 0, 0, 0, 0, 1],\n",
       "       [1, 0, 0, 0, 0, 0, 0, 0, 0, 1],\n",
       "       [1, 0, 0, 0, 0, 0, 0, 0, 0, 1],\n",
       "       [1, 0, 0, 0, 0, 0, 0, 0, 0, 1],\n",
       "       [1, 0, 0, 0, 0, 0, 0, 0, 0, 1],\n",
       "       [1, 0, 0, 0, 0, 0, 0, 0, 0, 1],\n",
       "       [1, 1, 1, 1, 1, 1, 1, 1, 1, 1]])"
      ]
     },
     "execution_count": 381,
     "metadata": {},
     "output_type": "execute_result"
    }
   ],
   "source": [
    "def border(n):\n",
    "    x = np.zeros((n,n),dtype=int)\n",
    "    x[0::n-1,:] = 1\n",
    "    x[:,0::n-1] = 1\n",
    "    \n",
    "    return x\n",
    "\n",
    "    x = np.zeros((n,n),dtype=int)\n",
    "    x[1::2,::2] = -1\n",
    "    x[::2,1::2] = 1border(10)"
   ]
  },
  {
   "cell_type": "code",
   "execution_count": 405,
   "metadata": {},
   "outputs": [
    {
     "name": "stdout",
     "output_type": "stream",
     "text": [
      "[[ 0  1 -1  1 -1]\n",
      " [ 0  1 -1  1 -1]\n",
      " [ 0  1 -1  1 -1]\n",
      " [ 0  1 -1  1 -1]\n",
      " [ 0  1 -1  1 -1]]\n",
      "[False False  True False  True]\n",
      "[[-1 -1]\n",
      " [-1 -1]\n",
      " [-1 -1]\n",
      " [-1 -1]\n",
      " [-1 -1]]\n"
     ]
    },
    {
     "data": {
      "text/plain": [
       "array([[-1, -1],\n",
       "       [-1, -1],\n",
       "       [-1, -1],\n",
       "       [-1, -1],\n",
       "       [-1, -1]])"
      ]
     },
     "execution_count": 405,
     "metadata": {},
     "output_type": "execute_result"
    }
   ],
   "source": [
    "\n",
    "def negative(n):\n",
    "    x = np.zeros((n,n),dtype=int)\n",
    "    x[:,2:] = -1\n",
    "    x[::,1::2] = 1\n",
    "    y = x[:, x[0,:] < 0]\n",
    "    z = np.any(x < 0, axis=0)\n",
    "    print(x)\n",
    "    print(z)\n",
    "    print(y)\n",
    "    return x[:,z]\n",
    "    \n",
    "negative(5)"
   ]
  },
  {
   "cell_type": "code",
   "execution_count": null,
   "metadata": {},
   "outputs": [],
   "source": [
    "def negative(n):\n",
    "    x = np.zeros((n,n),dtype=int)\n",
    "    x[1::2,::2] = -1\n",
    "    x[::2,1::2] = 1\n",
    "#     y = x[ x[0,:] < 0,:]\n",
    "    z = np.any(x < 0, axis=0)\n",
    "    return x[:,z]\n",
    "negative(4)"
   ]
  },
  {
   "cell_type": "code",
   "execution_count": null,
   "metadata": {},
   "outputs": [],
   "source": []
  },
  {
   "cell_type": "code",
   "execution_count": 302,
   "metadata": {},
   "outputs": [
    {
     "data": {
      "text/plain": [
       "(-2.0, 2.0)"
      ]
     },
     "execution_count": 302,
     "metadata": {},
     "output_type": "execute_result"
    }
   ],
   "source": [
    "x = np.array([[1, 2],[3, 4]])\n",
    "y = np.array([2,2])\n",
    "x1, x2 = np.linalg.solve(x,y)\n",
    "x1, x2"
   ]
  },
  {
   "cell_type": "code",
   "execution_count": 339,
   "metadata": {},
   "outputs": [
    {
     "name": "stdout",
     "output_type": "stream",
     "text": [
      "year 2009: [[0.195]\n",
      " [0.34 ]\n",
      " [0.465]]\n",
      "year 2014: [[0.1705]\n",
      " [0.438 ]\n",
      " [0.3915]]\n"
     ]
    }
   ],
   "source": [
    "import numpy as np\n",
    "\n",
    "l = np.array([.25,.20,.55]).reshape(3,1)\n",
    "A = np.array([[.7,.1,0],[.2,.9,.2],[.1,0,.8]])\n",
    "\n",
    "l09 = A @ l\n",
    "print(f'year 2009: {l09}')\n",
    "print(f'year 2014: {A @ l09}')\n",
    "\n",
    "n04 = np.array([1,0,0]).reshape(3,1)\n",
    "\n",
    "# x1, x2, x3 = np.dot(A, x)\n",
    "\n",
    "n09 = np.dot(A,n04)\n",
    "n14 = np.dot(A,n09)"
   ]
  },
  {
   "cell_type": "code",
   "execution_count": 340,
   "metadata": {},
   "outputs": [
    {
     "data": {
      "text/plain": [
       "(array([[0.7],\n",
       "        [0.2],\n",
       "        [0.1]]),\n",
       " array([[0.51],\n",
       "        [0.34],\n",
       "        [0.15]]))"
      ]
     },
     "execution_count": 340,
     "metadata": {},
     "output_type": "execute_result"
    }
   ],
   "source": [
    "n09, n14"
   ]
  },
  {
   "cell_type": "code",
   "execution_count": 341,
   "metadata": {},
   "outputs": [
    {
     "data": {
      "text/plain": [
       "array([[1.  , 0.  , 0.  ],\n",
       "       [0.7 , 0.2 , 0.1 ],\n",
       "       [0.51, 0.34, 0.15]])"
      ]
     },
     "execution_count": 341,
     "metadata": {},
     "output_type": "execute_result"
    }
   ],
   "source": [
    "c = np.hstack((n04,n09,n14)).T\n",
    "c"
   ]
  },
  {
   "cell_type": "code",
   "execution_count": 342,
   "metadata": {},
   "outputs": [
    {
     "data": {
      "image/png": "[encoded data removed]",
      "text/plain": [
       "<Figure size 432x288 with 1 Axes>"
      ]
     },
     "metadata": {
      "needs_background": "light"
     },
     "output_type": "display_data"
    }
   ],
   "source": [
    "com = c[:,0]\n",
    "ind = c[:,1]\n",
    "res = c[:,2]\n",
    "year = ['2004','2009','2014']\n",
    "plt.plot(year,com ,label='com')\n",
    "plt.plot(year,ind, label='ind')\n",
    "plt.plot(year,res, label='res')\n",
    "plt.show()"
   ]
  },
  {
   "cell_type": "code",
   "execution_count": 343,
   "metadata": {},
   "outputs": [
    {
     "name": "stdout",
     "output_type": "stream",
     "text": [
      "the answer is [[1.15517018e-016 2.50000000e-100 0.00000000e+000]\n",
      " [1.26765060e-070 5.90253309e-006 1.26765060e-070]\n",
      " [5.50000000e-100 0.00000000e+000 1.40046223e-010]]\n"
     ]
    }
   ],
   "source": [
    "for _ in range(1, 100):\n",
    "  l = A*l\n",
    "print(f'the answer is {l}')"
   ]
  },
  {
   "cell_type": "code",
   "execution_count": null,
   "metadata": {},
   "outputs": [],
   "source": [
    "'''Here's what I did for the one we were working on: takes in an array of any dimension (m, n) & a function parameter (Euclid dist\n",
    "or cos sim for our purposes). calculates the mean and stores as 1D array.\n",
    "creates an array of length m, initialized to zero. Then the for loop goes through\n",
    "each row of the array and calclates the euclidean dis of each row from the mean,\n",
    "adding to the output array at the particular index'''\n",
    "def dist_mean(array, func):\n",
    "    mean = np.mean(array, 0)\n",
    "    shape = np.shape(array)\n",
    "    out = np.zeros(shape[0])\n",
    "    for i in range(shape[0]):\n",
    "      out[i] += func(array[i], mean)\n",
    "    return out\n",
    "\n",
    "\n",
    "''' testing statements'''\n",
    "#creates a random 10x2 array with random ints\n",
    "x = np.random.randint(0,9,(10,2))\n",
    "# prints euclidean distances from the mean as a row vector (in this case 10 entries)\n",
    "print(dist_mean(x,euclidean_dists))\n",
    "## prints cosine sums from the mean as a row vector (in this case 10 entries)\n",
    "print(dist_mean(x, cosin_sim))'''Here's what I did for the one we were working on: takes in an array of any dimension (m, n) & a function parameter (Euclid dist\n",
    "or cos sim for our purposes). calculates the mean and stores as 1D array.\n",
    "creates an array of length m, initialized to zero. Then the for loop goes through\n",
    "each row of the array and calclates the euclidean dis of each row from the mean,\n",
    "adding to the output array at the particular index'''\n",
    "def dist_mean(array, func):\n",
    "    mean = np.mean(array, 0)\n",
    "    shape = np.shape(array)\n",
    "    out = np.zeros(shape[0])\n",
    "    for i in range(shape[0]):\n",
    "      out[i] += func(array[i], mean)\n",
    "    return out\n",
    "\n",
    "\n",
    "''' testing statements'''\n",
    "#creates a random 10x2 array with random ints\n",
    "x = np.random.randint(0,9,(10,2))\n",
    "# prints euclidean distances from the mean as a row vector (in this case 10 entries)\n",
    "print(dist_mean(x,euclidean_dists))\n",
    "## prints cosine sums from the mean as a row vector (in this case 10 entries)\n",
    "print(dist_mean(x, cosin_sim))"
   ]
  },
  {
   "cell_type": "code",
   "execution_count": null,
   "metadata": {},
   "outputs": [],
   "source": [
    "def cosin_sim(vec1, vec2):\n",
    "\n",
    "    u = np.sum(np.square(vec1))\n",
    "    v = np.sum(np.square(vec2))\n",
    "    \n",
    "    y = np.dot(vec1, vec2)/((u**.5)*(v**.5))\n",
    "    \n",
    "    return y"
   ]
  },
  {
   "cell_type": "code",
   "execution_count": null,
   "metadata": {},
   "outputs": [],
   "source": []
  },
  {
   "cell_type": "code",
   "execution_count": null,
   "metadata": {},
   "outputs": [],
   "source": []
  },
  {
   "cell_type": "code",
   "execution_count": null,
   "metadata": {},
   "outputs": [],
   "source": []
  },
  {
   "cell_type": "code",
   "execution_count": null,
   "metadata": {},
   "outputs": [],
   "source": []
  },
  {
   "cell_type": "markdown",
   "metadata": {},
   "source": [
    "\n",
    "### 20200701 Warmup"
   ]
  },
  {
   "cell_type": "code",
   "execution_count": 40,
   "metadata": {},
   "outputs": [],
   "source": [
    "x = [1,2,3]\n",
    "y = [1,-1,3]"
   ]
  },
  {
   "cell_type": "code",
   "execution_count": 41,
   "metadata": {},
   "outputs": [
    {
     "data": {
      "text/plain": [
       "[2, 1, 6]"
      ]
     },
     "execution_count": 41,
     "metadata": {},
     "output_type": "execute_result"
    }
   ],
   "source": [
    "a = []\n",
    "for i, j in zip(x,y):\n",
    "    a.append(i+j)\n",
    "a"
   ]
  },
  {
   "cell_type": "code",
   "execution_count": 58,
   "metadata": {},
   "outputs": [
    {
     "ename": "TypeError",
     "evalue": "'type' object is not iterable",
     "output_type": "error",
     "traceback": [
      "\u001b[0;31m---------------------------------------------------------------------------\u001b[0m",
      "\u001b[0;31mTypeError\u001b[0m                                 Traceback (most recent call last)",
      "\u001b[0;32m<ipython-input-58-f47fcb4cc355>\u001b[0m in \u001b[0;36m<module>\u001b[0;34m\u001b[0m\n\u001b[0;32m----> 1\u001b[0;31m \u001b[0mlist\u001b[0m\u001b[0;34m(\u001b[0m\u001b[0mtype\u001b[0m\u001b[0;34m(\u001b[0m\u001b[0mzip\u001b[0m\u001b[0;34m(\u001b[0m\u001b[0mx\u001b[0m\u001b[0;34m,\u001b[0m\u001b[0my\u001b[0m\u001b[0;34m)\u001b[0m\u001b[0;34m)\u001b[0m\u001b[0;34m)\u001b[0m\u001b[0;34m\u001b[0m\u001b[0;34m\u001b[0m\u001b[0m\n\u001b[0m",
      "\u001b[0;31mTypeError\u001b[0m: 'type' object is not iterable"
     ]
    }
   ],
   "source": [
    "list(type(zip(x,y)))"
   ]
  },
  {
   "cell_type": "code",
   "execution_count": 45,
   "metadata": {},
   "outputs": [
    {
     "data": {
      "text/plain": [
       "([[2, 4, 6, 3, -3, 9], [2, 4, 6, 3, -3, 9], [2, 4, 6, 3, -3, 9]],\n",
       " [2, 4, 6],\n",
       " [3, -3, 9])"
      ]
     },
     "execution_count": 45,
     "metadata": {},
     "output_type": "execute_result"
    }
   ],
   "source": [
    "two = []\n",
    "ab = []\n",
    "ba = []\n",
    "for i in x:\n",
    "    ab.append(2*i)\n",
    "for j in y:\n",
    "    ba.append(3*j)\n",
    "for i,j in zip(ab,ba):\n",
    "    two.append(ab+ba)\n",
    "\n",
    "two,ab,ba\n",
    "\n"
   ]
  },
  {
   "cell_type": "code",
   "execution_count": 50,
   "metadata": {},
   "outputs": [
    {
     "data": {
      "text/plain": [
       "[2, 1, 6]"
      ]
     },
     "execution_count": 50,
     "metadata": {},
     "output_type": "execute_result"
    }
   ],
   "source": [
    "a3 = [i+j for i, j in zip(x,y)]\n",
    "a3"
   ]
  },
  {
   "cell_type": "code",
   "execution_count": 65,
   "metadata": {},
   "outputs": [
    {
     "data": {
      "text/plain": [
       "[2, 1, 6]"
      ]
     },
     "execution_count": 65,
     "metadata": {},
     "output_type": "execute_result"
    }
   ],
   "source": [
    "a4 = list(map(sum, zip(x,y)))\n",
    "a4"
   ]
  },
  {
   "cell_type": "code",
   "execution_count": 70,
   "metadata": {},
   "outputs": [
    {
     "data": {
      "text/plain": [
       "[<map at 0x7f93519b4e50>]"
      ]
     },
     "execution_count": 70,
     "metadata": {},
     "output_type": "execute_result"
    }
   ],
   "source": [
    "a5 = [map(sum, zip(x,y))]\n",
    "a5"
   ]
  },
  {
   "cell_type": "code",
   "execution_count": 82,
   "metadata": {},
   "outputs": [],
   "source": [
    "x = np.array([[0, 1, 2, 3, 4],[5, 6, 7, 8, 9]])"
   ]
  },
  {
   "cell_type": "code",
   "execution_count": 69,
   "metadata": {},
   "outputs": [
    {
     "data": {
      "text/plain": [
       "(10,)"
      ]
     },
     "execution_count": 69,
     "metadata": {},
     "output_type": "execute_result"
    }
   ],
   "source": [
    "x.shape"
   ]
  },
  {
   "cell_type": "code",
   "execution_count": 77,
   "metadata": {},
   "outputs": [
    {
     "data": {
      "text/plain": [
       "array([[0.61413924, 0.69629161],\n",
       "       [0.34290083, 0.24091813]])"
      ]
     },
     "execution_count": 77,
     "metadata": {},
     "output_type": "execute_result"
    }
   ],
   "source": [
    "np.empty((2,2))"
   ]
  },
  {
   "cell_type": "code",
   "execution_count": 84,
   "metadata": {},
   "outputs": [
    {
     "data": {
      "text/plain": [
       "array([[10],\n",
       "       [35]])"
      ]
     },
     "execution_count": 84,
     "metadata": {},
     "output_type": "execute_result"
    }
   ],
   "source": [
    "np.sum(x, axis=1, keepdims=True)"
   ]
  },
  {
   "cell_type": "code",
   "execution_count": 407,
   "metadata": {},
   "outputs": [
    {
     "data": {
      "text/plain": [
       "array([0.19611614, 0.19611614])"
      ]
     },
     "execution_count": 407,
     "metadata": {},
     "output_type": "execute_result"
    }
   ],
   "source": [
    "x = np.array([1,1])\n",
    "y = np.array([5,-1])\n",
    "\n",
    "z = x/ np.linalg.norm(y)\n",
    "z"
   ]
  },
  {
   "cell_type": "code",
   "execution_count": 435,
   "metadata": {},
   "outputs": [
    {
     "data": {
      "text/plain": [
       "array([0.        , 0.33069396, 0.66138793, 0.99208189, 1.32277585,\n",
       "       1.65346982, 1.98416378, 2.31485774, 2.64555171, 2.97624567,\n",
       "       3.30693964, 3.6376336 , 3.96832756, 4.29902153, 4.62971549,\n",
       "       4.96040945, 5.29110342, 5.62179738, 5.95249134, 6.28318531])"
      ]
     },
     "execution_count": 435,
     "metadata": {},
     "output_type": "execute_result"
    }
   ],
   "source": [
    "import math\n",
    "\n",
    "x1 = np.linspace(0,2*math.pi,20)\n",
    "x1"
   ]
  },
  {
   "cell_type": "code",
   "execution_count": 434,
   "metadata": {},
   "outputs": [
    {
     "data": {
      "text/plain": [
       "(0.8749999999999999, 1.0833333333333333)"
      ]
     },
     "execution_count": 434,
     "metadata": {},
     "output_type": "execute_result"
    }
   ],
   "source": [
    "x2 = np.array([[2,3],[4,-6]])\n",
    "s = np.array([5,-3])\n",
    "\n",
    "solu1, solu2 = np.linalg.solve(x2, s)\n",
    "solu1, solu2"
   ]
  },
  {
   "cell_type": "code",
   "execution_count": 440,
   "metadata": {},
   "outputs": [
    {
     "data": {
      "text/plain": [
       "(array([[17, 22],\n",
       "        [22, 29]]),\n",
       " array([[1., 0.],\n",
       "        [0., 1.]]))"
      ]
     },
     "execution_count": 440,
     "metadata": {},
     "output_type": "execute_result"
    }
   ],
   "source": [
    "xA = np.array([[1,2],[4,5]])\n",
    "xT = xA.T\n",
    "xI = np.linalg.inv(xA)\n",
    "\n",
    "\n",
    "xT @ xA, xI @ xA\n"
   ]
  },
  {
   "cell_type": "code",
   "execution_count": 442,
   "metadata": {},
   "outputs": [
    {
     "data": {
      "text/plain": [
       "0    1\n",
       "1    2\n",
       "2    3\n",
       "3    4\n",
       "4    5\n",
       "dtype: int64"
      ]
     },
     "execution_count": 442,
     "metadata": {},
     "output_type": "execute_result"
    }
   ],
   "source": [
    "#build a series\n",
    "\n",
    "series = pd.Series([1,2,3,4,5])\n",
    "series"
   ]
  },
  {
   "cell_type": "code",
   "execution_count": 443,
   "metadata": {},
   "outputs": [],
   "source": [
    "#does the .mean(), etc methods import from pandas, numpy or python\n"
   ]
  },
  {
   "cell_type": "code",
   "execution_count": null,
   "metadata": {},
   "outputs": [],
   "source": [
    "#handling dates\n",
    "\n",
    "dt_index = pd.date_range('start date', 'end date', fred='m')\n",
    "#read docstring\n",
    "\n",
    "#what does resample do??\n",
    "\n",
    "dt_series.resample\n",
    "\n",
    "randn()"
   ]
  },
  {
   "cell_type": "code",
   "execution_count": 444,
   "metadata": {},
   "outputs": [
    {
     "name": "stdout",
     "output_type": "stream",
     "text": [
      "head: path: No such file or directory\r\n"
     ]
    }
   ],
   "source": [
    "# read the data before bringing in as df\n",
    "!head 'path'"
   ]
  },
  {
   "cell_type": "code",
   "execution_count": 445,
   "metadata": {},
   "outputs": [],
   "source": [
    "#review map function for applying function over a data series/columns"
   ]
  },
  {
   "cell_type": "code",
   "execution_count": 446,
   "metadata": {},
   "outputs": [],
   "source": [
    "#review crosstab function"
   ]
  },
  {
   "cell_type": "code",
   "execution_count": 447,
   "metadata": {},
   "outputs": [],
   "source": [
    "#reshape(-1,1) -1 = allows you to explicit state \n",
    "#to create as many rows necessary to only have 1 column."
   ]
  },
  {
   "cell_type": "code",
   "execution_count": 448,
   "metadata": {},
   "outputs": [],
   "source": [
    "# linalg.norm = euclidean distance calculation"
   ]
  },
  {
   "cell_type": "code",
   "execution_count": 449,
   "metadata": {},
   "outputs": [],
   "source": [
    "#cosine -1 most unsimilar and 1 most similar\n"
   ]
  },
  {
   "cell_type": "markdown",
   "metadata": {},
   "source": [
    "### MATPLOTLIB Lecture\n"
   ]
  },
  {
   "cell_type": "code",
   "execution_count": 451,
   "metadata": {},
   "outputs": [
    {
     "data": {
      "image/png": "[encoded data removed]",
      "text/plain": [
       "<Figure size 432x288 with 1 Axes>"
      ]
     },
     "metadata": {
      "needs_background": "light"
     },
     "output_type": "display_data"
    }
   ],
   "source": [
    "fig, ax = plt.subplots()"
   ]
  },
  {
   "cell_type": "code",
   "execution_count": 453,
   "metadata": {},
   "outputs": [
    {
     "data": {
      "text/plain": [
       "<matplotlib.axes._subplots.AxesSubplot at 0x7f93541b2ad0>"
      ]
     },
     "execution_count": 453,
     "metadata": {},
     "output_type": "execute_result"
    }
   ],
   "source": [
    "ax"
   ]
  },
  {
   "cell_type": "code",
   "execution_count": 454,
   "metadata": {},
   "outputs": [],
   "source": [
    "#flatten compresses multidimensional to single dimension.\n",
    "#.multiple list to single list"
   ]
  },
  {
   "cell_type": "code",
   "execution_count": 460,
   "metadata": {},
   "outputs": [],
   "source": [
    "xnormal = np.random.normal(size=100)\n",
    "xuniform = np.random.uniform(size=100)"
   ]
  },
  {
   "cell_type": "code",
   "execution_count": null,
   "metadata": {},
   "outputs": [],
   "source": []
  },
  {
   "cell_type": "code",
   "execution_count": null,
   "metadata": {},
   "outputs": [],
   "source": []
  }
 ],
 "metadata": {
  "kernelspec": {
   "display_name": "Python 3",
   "language": "python",
   "name": "python3"
  },
  "language_info": {
   "codemirror_mode": {
    "name": "ipython",
    "version": 3
   },
   "file_extension": ".py",
   "mimetype": "text/x-python",
   "name": "python",
   "nbconvert_exporter": "python",
   "pygments_lexer": "ipython3",
   "version": "3.7.6"
  }
 },
 "nbformat": 4,
 "nbformat_minor": 4
}
