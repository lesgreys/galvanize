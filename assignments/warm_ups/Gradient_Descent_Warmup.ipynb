{
 "cells": [
  {
   "cell_type": "markdown",
   "metadata": {},
   "source": [
    "# 1D Gradient Descent Warm-up \n",
    "\n",
    "In Machine Learning, we often write down a loss or cost function (for example, residual sum of squares in regression) and minimize this function to find an ideal model to fit your data.  I refer to the process of finding the minima of a loss function as optimization.  In linear regression we found an analytical or closed form solution to the minima of the loss function by taking the derivative, setting it equal to 0 and solving for our free parameters.  However, there will not always be a closed formed solution in optimization.  \n",
    "\n",
    "Numerical optimization techniques are used to optimize loss functions when closed-form solutions do not exist, or the closed form solutions are too expensive to compute.  <b>Gradient Descent</b> is a popular method for performing numerical optimization.  This morning you will implement Gradient Descent for a simple function,  confirm that you get back the known minima, and explore a free parameter in this method $\\alpha$.  \n",
    "\n",
    "### Idea Behind Gradient Descent : follow minus the gradient (derivative)  \n",
    "![](1d_gradient_descent.png)\n",
    "\n",
    "### Pseudocode \n",
    "In gradient descent, we will just follow the direction of minus the gradient.  We will scale the gradient by a scaler $\\alpha$.\n",
    "![](pseudocode_gd.jpg)\n",
    "where J is the objective function you are optimizing and $\\theta$ are the free parameters you are finding.  Let's define convergence as $|J'(\\theta)|$ or the magnitude of the derivative. \n",
    "\n",
    "### Exercise \n",
    "\n",
    "Implement Gradient Descent for $J(\\theta) = \\theta^2$.  Set $\\alpha$= 0.5. In your gradient descent function, only allow your optimizer to take 100 steps; so if you have not converged after 100 steps, stop optimizing. After you are finding the correct analytical solution with alpha=0.1, try alpha = 0.01, 0.9,1.01 and really any values to see how it effects your trajectories!  \n",
    "\n",
    "Below are a few functions to help you get started:"
   ]
  },
  {
   "cell_type": "code",
   "execution_count": 1,
   "metadata": {},
   "outputs": [],
   "source": [
    "import numpy as np\n",
    "%matplotlib inline\n",
    "import matplotlib.pyplot as plt"
   ]
  },
  {
   "cell_type": "code",
   "execution_count": 14,
   "metadata": {},
   "outputs": [],
   "source": [
    "# functions for both J and J' \n",
    "J = lambda theta: theta *theta  # J(theta)\n",
    "Jprime = lambda theta: 2*theta   # J'(theta)\n",
    "\n",
    "# plotting function for theta v J\n",
    "thetas = np.linspace(-1.5,1.5,100)\n",
    "def plot_J():\n",
    "    plt.plot(thetas, J(thetas), linewidth = 4, color = 'black',zorder=1)\n",
    "    plt.ylim([0,3])\n",
    "    plt.xlim([-1.5,1.5])"
   ]
  },
  {
   "cell_type": "code",
   "execution_count": 12,
   "metadata": {},
   "outputs": [],
   "source": [
    "# Implement gradient descent below \n",
    "def gradient_descent(theta, alpha, maxsteps):\n",
    "    \"\"\"\n",
    "    theta: starting point for your optimization\n",
    "    alpha: scaler for the gradient \n",
    "    maxsteps:  After this number of steps you should stop the optimization process \n",
    "    \n",
    "    Have the function return a numpy array of thetas sampled \n",
    "    \"\"\"\n",
    "    pass \n",
    "\n",
    "# this function will take the theta_array returned from your function above and create both a scatter, \n",
    "# and plot of the points sampled on the trajectory. \n",
    "def plot_gd_trajectory(theta_array):\n",
    "    plt.scatter(theta_array, J(theta_array), color = 'red',zorder=2)\n",
    "    plt.plot(theta_array, J(theta_array), linewidth=2, color = 'red',zorder=2)\n",
    "    plt.ylim([0,3])\n",
    "    plt.xlim([-1.5,1.5])\n"
   ]
  },
  {
   "cell_type": "code",
   "execution_count": 13,
   "metadata": {},
   "outputs": [
    {
     "data": {
      "image/png": "[encoded data removed]",
      "text/plain": [
       "<Figure size 432x288 with 1 Axes>"
      ]
     },
     "metadata": {
      "needs_background": "light"
     },
     "output_type": "display_data"
    }
   ],
   "source": [
    "# DEMO plotting functions\n",
    "plot_J() \n",
    "plot_gd_trajectory(np.array([1,-1.1,1.2,-1.3,1.4]))"
   ]
  },
  {
   "cell_type": "code",
   "execution_count": null,
   "metadata": {},
   "outputs": [],
   "source": []
  },
  {
   "cell_type": "code",
   "execution_count": null,
   "metadata": {},
   "outputs": [],
   "source": []
  }
 ],
 "metadata": {
  "kernelspec": {
   "display_name": "Python 3",
   "language": "python",
   "name": "python3"
  },
  "language_info": {
   "codemirror_mode": {
    "name": "ipython",
    "version": 3
   },
   "file_extension": ".py",
   "mimetype": "text/x-python",
   "name": "python",
   "nbconvert_exporter": "python",
   "pygments_lexer": "ipython3",
   "version": "3.7.7"
  },
  "toc": {
   "base_numbering": 1,
   "nav_menu": {},
   "number_sections": true,
   "sideBar": true,
   "skip_h1_title": false,
   "title_cell": "Table of Contents",
   "title_sidebar": "Contents",
   "toc_cell": false,
   "toc_position": {},
   "toc_section_display": true,
   "toc_window_display": false
  }
 },
 "nbformat": 4,
 "nbformat_minor": 4
}
