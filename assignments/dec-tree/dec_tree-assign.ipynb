{
 "metadata": {
  "language_info": {
   "codemirror_mode": {
    "name": "ipython",
    "version": 3
   },
   "file_extension": ".py",
   "mimetype": "text/x-python",
   "name": "python",
   "nbconvert_exporter": "python",
   "pygments_lexer": "ipython3",
   "version": 3
  },
  "orig_nbformat": 2,
  "kernelspec": {
   "name": "python_defaultSpec_1596483039038",
   "display_name": "Python 3.7.7 64-bit ('base': conda)"
  }
 },
 "nbformat": 4,
 "nbformat_minor": 2,
 "cells": [
  {
   "cell_type": "code",
   "execution_count": 13,
   "metadata": {},
   "outputs": [
    {
     "output_type": "execute_result",
     "data": {
      "text/plain": "array([[2, 2],\n       [4, 4],\n       [3, 3],\n       [5, 5],\n       [1, 1]])"
     },
     "metadata": {},
     "execution_count": 13
    }
   ],
   "source": [
    "import numpy as np\n",
    "from numpy import random \n",
    "X = np.array([[1,1],[2,2],[3,3],[4,4],[5,5]])\n",
    "random.shuffle(x)\n",
    "x"
   ]
  },
  {
   "cell_type": "code",
   "execution_count": 6,
   "metadata": {},
   "outputs": [
    {
     "output_type": "execute_result",
     "data": {
      "text/plain": "(0.5123966942148761, 0.5123966942148761)"
     },
     "metadata": {},
     "execution_count": 6
    }
   ],
   "source": [
    "def _gini(y):\n",
    "    '''\n",
    "    INPUT:\n",
    "        - y: 1d numpy array\n",
    "    OUTPUT:\n",
    "        - float\n",
    "\n",
    "    Return the gini impurity of the array y.\n",
    "    '''\n",
    "\n",
    "    samp = y.shape[0]\n",
    "    summ = 0\n",
    "    summ2 = 0\n",
    "\n",
    "    for class_i in np.unique(y): # [1,2,3]\n",
    "        prob = sum(y == class_i) / float(samp)\n",
    "        summ += prob**2\n",
    "        summ2 += prob * (1-prob)\n",
    "    return 1 - summ, summ2\n",
    "\n",
    "_gini(x)"
   ]
  },
  {
   "cell_type": "code",
   "execution_count": 19,
   "metadata": {},
   "outputs": [
    {
     "output_type": "execute_result",
     "data": {
      "text/plain": "(array([[1, 1],\n        [2, 2],\n        [3, 3],\n        [4, 4],\n        [5, 5]]),\n array([0.67774208, 0.36044142, 0.88329015, 0.72616392, 0.52491426]),\n 5)"
     },
     "metadata": {},
     "execution_count": 19
    }
   ],
   "source": [
    "def shuffle_split_data(X):\n",
    "    arr_rand = np.random.rand(X.shape[0])\n",
    "    split = arr_rand < np.percentile(arr_rand, 70)\n",
    "\n",
    "    X_train = X[split]\n",
    "    y_train = y[split]\n",
    "    X_test =  X[~split]\n",
    "    y_test = y[~split]\n",
    "\n",
    "    print len(X_Train), len(y_Train), len(X_Test), len(y_Test)\n",
    "    return X_train, y_train, X_test, y_test\n",
    "    return X, arr_rand, X.shape[0]\n",
    "shuffle_split_data(X)"
   ]
  },
  {
   "cell_type": "code",
   "execution_count": 28,
   "metadata": {},
   "outputs": [
    {
     "output_type": "execute_result",
     "data": {
      "text/plain": "0.7603928001983322"
     },
     "metadata": {},
     "execution_count": 28
    }
   ],
   "source": [
    "np.percentile(np.random.rand(5),70)"
   ]
  },
  {
   "cell_type": "code",
   "execution_count": null,
   "metadata": {},
   "outputs": [],
   "source": []
  }
 ]
}