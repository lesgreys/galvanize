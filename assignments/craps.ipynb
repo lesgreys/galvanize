{
 "metadata": {
  "language_info": {
   "codemirror_mode": {
    "name": "ipython",
    "version": 3
   },
   "file_extension": ".py",
   "mimetype": "text/x-python",
   "name": "python",
   "nbconvert_exporter": "python",
   "pygments_lexer": "ipython3",
   "version": 3
  },
  "orig_nbformat": 2,
  "kernelspec": {
   "name": "python_defaultSpec_1595943195203",
   "display_name": "Python 3.7.7 64-bit ('base': conda)"
  }
 },
 "nbformat": 4,
 "nbformat_minor": 2,
 "cells": [
  {
   "cell_type": "code",
   "execution_count": 3,
   "metadata": {},
   "outputs": [],
   "source": [
    "'''Morning Warmup:\n",
    "Create a function to simulate the probability of winning given number of games of craps.\n",
    "The Rules:\n",
    "You roll two 6-sided dice.\n",
    "If the roll adds up to 2, 3, or 12, the player loses that game.\n",
    "If the roll adds up to 7 or 11, the player wins.\n",
    "If the roll adds up to any other number, the player re-rolls until either:\n",
    "  1) The first roll amount is rolled again, which is a win\n",
    "  2) A 7 is rolled, which is a loss\n",
    "The function will take a number of games to simulate and return the win percentage.''' ;"
   ]
  },
  {
   "cell_type": "code",
   "execution_count": 20,
   "metadata": {},
   "outputs": [],
   "source": [
    "import random\n",
    "\n",
    "def craps(num_games):\n",
    "    winrate = 0\n",
    "    gamesplayed = 0\n",
    "\n",
    "    die1 = random.randint(1,7)\n",
    "    die2 = random.randint(1,7)\n",
    "    initialroll = die1 + die2\n",
    "    \n",
    "    for i in range(1, num_games+1):\n",
    "        \n",
    "\n",
    "        if sumroll == 2 or sumroll == 3 or sumroll == 12:\n",
    "            gamesplayed += 1\n",
    "        if sumroll == 7 or sumroll == 11:\n",
    "            gamesplayed += 1\n",
    "            winrate += 1\n",
    "        else:\n",
    "\n",
    "        \n",
    "        print(winrate)\n",
    "        print(gamesplayed)\n",
    "    return winrate/gamesplayed"
   ]
  },
  {
   "cell_type": "code",
   "execution_count": 26,
   "metadata": {
    "tags": []
   },
   "outputs": [
    {
     "output_type": "execute_result",
     "data": {
      "text/plain": "[1, 2, 3, 4, 5, 6, 7, 8, 9, 10]"
     },
     "metadata": {},
     "execution_count": 26
    }
   ],
   "source": [
    "a = [i for i in range(1, 10+1)]\n",
    "a"
   ]
  },
  {
   "cell_type": "code",
   "execution_count": 15,
   "metadata": {},
   "outputs": [],
   "source": [
    "face = random.randint(1,7)"
   ]
  },
  {
   "cell_type": "code",
   "execution_count": 14,
   "metadata": {},
   "outputs": [
    {
     "output_type": "execute_result",
     "data": {
      "text/plain": "7"
     },
     "metadata": {},
     "execution_count": 14
    }
   ],
   "source": [
    "face"
   ]
  },
  {
   "cell_type": "code",
   "execution_count": null,
   "metadata": {},
   "outputs": [],
   "source": []
  }
 ]
}