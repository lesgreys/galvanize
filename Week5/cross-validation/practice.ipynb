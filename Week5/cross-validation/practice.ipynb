{
 "metadata": {
  "language_info": {
   "codemirror_mode": {
    "name": "ipython",
    "version": 3
   },
   "file_extension": ".py",
   "mimetype": "text/x-python",
   "name": "python",
   "nbconvert_exporter": "python",
   "pygments_lexer": "ipython3",
   "version": 3
  },
  "orig_nbformat": 2,
  "kernelspec": {
   "name": "python_defaultSpec_1595878909558",
   "display_name": "Python 3.7.7 64-bit ('base': conda)"
  }
 },
 "nbformat": 4,
 "nbformat_minor": 2,
 "cells": [
  {
   "cell_type": "code",
   "execution_count": 93,
   "metadata": {},
   "outputs": [],
   "source": [
    "from sklearn.neighbors import KNeighborsRegressor\n",
    "from sklearn.model_selection import KFold\n",
    "from sklearn.model_selection import train_test_split\n",
    "from sklearn.model_selection import cross_val_score\n",
    "from sklearn.metrics import mean_squared_error\n",
    "import numpy as np\n",
    "from sklearn.datasets import load_boston\n",
    "import matplotlib.pyplot as plt\n",
    "\n",
    "\n"
   ]
  },
  {
   "cell_type": "code",
   "execution_count": 4,
   "metadata": {},
   "outputs": [],
   "source": [
    "boston = load_boston()"
   ]
  },
  {
   "cell_type": "code",
   "execution_count": 6,
   "metadata": {},
   "outputs": [],
   "source": [
    "X = boston.data\n",
    "y = boston.target"
   ]
  },
  {
   "cell_type": "code",
   "execution_count": 8,
   "metadata": {},
   "outputs": [
    {
     "output_type": "execute_result",
     "data": {
      "text/plain": "(506, 13)"
     },
     "metadata": {},
     "execution_count": 8
    }
   ],
   "source": [
    "X.shape"
   ]
  },
  {
   "cell_type": "code",
   "execution_count": 9,
   "metadata": {},
   "outputs": [],
   "source": [
    "X_train, X_test, y_train, y_test = train_test_split(X, y, test_size=0.25)"
   ]
  },
  {
   "cell_type": "code",
   "execution_count": 130,
   "metadata": {},
   "outputs": [],
   "source": [
    "def rmse_calculation(y_test, y_pred):\n",
    "\n",
    "    rmse1 = np.sum(((y_test-y_pred)**2)/len(y_test))\n",
    "\n",
    "    skrmse = mean_squared_error(y_test, y_pred,)\n",
    "    return (rmse1, skrmse)"
   ]
  },
  {
   "cell_type": "code",
   "execution_count": 79,
   "metadata": {},
   "outputs": [
    {
     "output_type": "execute_result",
     "data": {
      "text/plain": "KNeighborsRegressor()"
     },
     "metadata": {},
     "execution_count": 79
    }
   ],
   "source": [
    "knn = KNeighborsRegressor()\n",
    "knn.fit(X_train, y_train)"
   ]
  },
  {
   "cell_type": "code",
   "execution_count": 80,
   "metadata": {},
   "outputs": [],
   "source": [
    "y_pred_train = knn.predict(X_train)\n",
    "y_pred_test = knn.predict(X_test)"
   ]
  },
  {
   "cell_type": "code",
   "execution_count": 81,
   "metadata": {
    "tags": []
   },
   "outputs": [
    {
     "output_type": "stream",
     "name": "stdout",
     "text": "(24.745184168865435, 24.745184168865435)\n(51.28430866141733, 51.284308661417334)\n"
    }
   ],
   "source": [
    "print(rmse_calculation(y_train, y_pred_train))\n",
    "\n",
    "print(rmse_calculation(y_test, y_pred_test))\n"
   ]
  },
  {
   "cell_type": "code",
   "execution_count": 51,
   "metadata": {},
   "outputs": [],
   "source": [
    "def skrmse_fun(y_test, y_pred):\n",
    "\n",
    "    for i, j in zip(y_test,y_pred):\n",
    "        skrmse = mean_squared_error(i, j)\n",
    "    return skrmse\n",
    "\n"
   ]
  },
  {
   "cell_type": "code",
   "execution_count": 54,
   "metadata": {},
   "outputs": [
    {
     "output_type": "execute_result",
     "data": {
      "text/plain": "379"
     },
     "metadata": {},
     "execution_count": 54
    }
   ],
   "source": [
    "len(y_pred_train)"
   ]
  },
  {
   "cell_type": "code",
   "execution_count": 109,
   "metadata": {
    "tags": []
   },
   "outputs": [
    {
     "output_type": "execute_result",
     "data": {
      "text/plain": "(38.47091476491228,\n [33.720078947368414,\n  35.756052631578946,\n  31.341926315789475,\n  61.3037052631579,\n  30.232810666666666])"
     },
     "metadata": {},
     "execution_count": 109
    }
   ],
   "source": [
    "def crossVal(X_train, y_train, k):\n",
    "    kf = KFold(k, shuffle=True, random_state=None)\n",
    "    mse_lst = []\n",
    "    for train_index, test_index in kf.split(X_train):\n",
    "        #print(\"TRAIN:\", train_index, \"TEST:\", test_index)\n",
    "        X_train_k, X_test_k = X_train[train_index], X_train[test_index]\n",
    "        y_train_k, y_test_k = y_train[train_index], y_train[test_index]\n",
    "        knn.fit(X_train_k, y_train_k)\n",
    "        y_train_pred_k = knn.predict(X_train_k)\n",
    "        y_test_pred_k = knn.predict(X_test_k)\n",
    "        mse = mean_squared_error(y_test_k, y_test_pred_k)\n",
    "        mse_lst.append(mse)\n",
    "\n",
    "\n",
    "    return (sum(mse_lst)/len(mse_lst), mse_lst)\n",
    "\n",
    "crossVal(X_train, y_train, 5)"
   ]
  },
  {
   "cell_type": "code",
   "execution_count": 113,
   "metadata": {},
   "outputs": [
    {
     "output_type": "execute_result",
     "data": {
      "text/plain": "array([-47.99426316, -46.15041579, -31.12515789, -35.46231053,\n       -36.15708267])"
     },
     "metadata": {},
     "execution_count": 113
    }
   ],
   "source": [
    "cross_val_score(knn, X_train, y_train, cv=None, scoring='neg_mean_squared_error')"
   ]
  },
  {
   "cell_type": "code",
   "execution_count": 128,
   "metadata": {
    "tags": []
   },
   "outputs": [
    {
     "output_type": "stream",
     "name": "stdout",
     "text": "[(40.550694505494505, [46.47335384615385, 44.71116043956044, 34.646742857142854, 52.44939780219778, 24.47281758241759]), (46.429313987654325, [83.93817777777777, 39.12729382716049, 29.664493827160495, 47.492439506172836, 31.924165000000006]), (47.695226704225355, [31.152985915492945, 60.71031549295777, 56.1609014084507, 38.94085070422536, 51.51108000000001]), (43.32453040437158, [42.044872131147535, 55.172950819672124, 32.93065573770492, 52.27171333333334, 34.20246]), (35.80841248627451, [34.71867450980391, 40.19756862745099, 29.369435294117647, 51.541679999999985, 23.214704]), (66.35394297560977, [38.182292682926835, 70.46871219512194, 37.76939, 46.651469999999996, 138.69785000000002]), (56.18644903225807, [55.65704516129033, 70.44388, 46.71058666666667, 38.91288, 69.20785333333335]), (51.021012571428585, [25.977142857142855, 23.665439999999997, 90.82134000000003, 75.20338000000002, 39.43775999999999]), (70.53976800000001, [68.74212, 21.11912000000001, 36.36559999999998, 100.06703999999999, 126.40496000000003])]\n"
    }
   ],
   "source": [
    "test_size_lst = np.arange(.1,1,.1)\n",
    "avg_rmse_lst = []\n",
    "for test_size2 in test_size_lst:\n",
    "    X_train, X_test, y_train, y_test = train_test_split(X, y, test_size=test_size2)\n",
    "    avg_rmse = crossVal(X_train, y_train, 5)\n",
    "    avg_rmse_lst.append(avg_rmse)\n",
    "\n",
    "print(avg_rmse_lst)"
   ]
  },
  {
   "cell_type": "code",
   "execution_count": 129,
   "metadata": {},
   "outputs": [
    {
     "output_type": "error",
     "ename": "TypeError",
     "evalue": "'AxesSubplot' object is not subscriptable",
     "traceback": [
      "\u001b[0;31m---------------------------------------------------------------------------\u001b[0m",
      "\u001b[0;31mTypeError\u001b[0m                                 Traceback (most recent call last)",
      "\u001b[0;32m<ipython-input-129-41f8cab5f6cc>\u001b[0m in \u001b[0;36m<module>\u001b[0;34m\u001b[0m\n\u001b[1;32m      2\u001b[0m \u001b[0;34m\u001b[0m\u001b[0m\n\u001b[1;32m      3\u001b[0m \u001b[0;32mfor\u001b[0m \u001b[0mi\u001b[0m\u001b[0;34m,\u001b[0m \u001b[0mtest_size\u001b[0m \u001b[0;32min\u001b[0m \u001b[0menumerate\u001b[0m\u001b[0;34m(\u001b[0m\u001b[0mtest_size_lst\u001b[0m\u001b[0;34m)\u001b[0m\u001b[0;34m:\u001b[0m\u001b[0;34m\u001b[0m\u001b[0;34m\u001b[0m\u001b[0m\n\u001b[0;32m----> 4\u001b[0;31m     \u001b[0max\u001b[0m\u001b[0;34m[\u001b[0m\u001b[0mi\u001b[0m\u001b[0;34m]\u001b[0m\u001b[0;34m.\u001b[0m\u001b[0mplot\u001b[0m\u001b[0;34m(\u001b[0m\u001b[0mtest_size\u001b[0m\u001b[0;34m,\u001b[0m \u001b[0mcross_val_score\u001b[0m\u001b[0;34m(\u001b[0m\u001b[0mknn\u001b[0m\u001b[0;34m,\u001b[0m \u001b[0mX_train\u001b[0m\u001b[0;34m,\u001b[0m \u001b[0my_train\u001b[0m\u001b[0;34m,\u001b[0m \u001b[0mcv\u001b[0m\u001b[0;34m=\u001b[0m\u001b[0;32mNone\u001b[0m\u001b[0;34m,\u001b[0m \u001b[0mscoring\u001b[0m\u001b[0;34m=\u001b[0m\u001b[0;34m'neg_mean_squared_error'\u001b[0m\u001b[0;34m)\u001b[0m\u001b[0;34m)\u001b[0m\u001b[0;34m\u001b[0m\u001b[0;34m\u001b[0m\u001b[0m\n\u001b[0m\u001b[1;32m      5\u001b[0m     \u001b[0mplt\u001b[0m\u001b[0;34m.\u001b[0m\u001b[0mshow\u001b[0m\u001b[0;34m(\u001b[0m\u001b[0;34m)\u001b[0m\u001b[0;34m\u001b[0m\u001b[0;34m\u001b[0m\u001b[0m\n",
      "\u001b[0;31mTypeError\u001b[0m: 'AxesSubplot' object is not subscriptable"
     ]
    }
   ],
   "source": [
    "fig, ax = plt.subplots(figsize=(10,8))\n",
    "\n",
    "for i, test_size in enumerate(test_size_lst):\n",
    "    ax[i].plot(test_size, cross_val_score(knn, X_train, y_train, cv=None, scoring='neg_mean_squared_error'))\n",
    "    plt.show()"
   ]
  },
  {
   "cell_type": "code",
   "execution_count": null,
   "metadata": {},
   "outputs": [],
   "source": [
    " "
   ]
  }
 ]
}