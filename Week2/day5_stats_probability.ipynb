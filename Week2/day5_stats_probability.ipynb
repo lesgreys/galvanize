{
 "cells": [
  {
   "cell_type": "code",
   "execution_count": 1,
   "metadata": {},
   "outputs": [],
   "source": [
    "%matplotlib inline\n",
    "\n",
    "import math\n",
    "import numpy as np\n",
    "import scipy as sp\n",
    "import scipy.stats as stats\n",
    "import matplotlib.pyplot as plt\n",
    "\n",
    "plt.style.use('ggplot')"
   ]
  },
  {
   "cell_type": "code",
   "execution_count": 63,
   "metadata": {},
   "outputs": [],
   "source": [
    "rv = stats.randint(0,2) #random uniform distribution "
   ]
  },
  {
   "cell_type": "code",
   "execution_count": 64,
   "metadata": {},
   "outputs": [
    {
     "data": {
      "text/plain": [
       "0.5"
      ]
     },
     "execution_count": 64,
     "metadata": {},
     "output_type": "execute_result"
    }
   ],
   "source": [
    "rv.pmf(0)"
   ]
  },
  {
   "cell_type": "code",
   "execution_count": 65,
   "metadata": {},
   "outputs": [
    {
     "data": {
      "text/plain": [
       "0.5"
      ]
     },
     "execution_count": 65,
     "metadata": {},
     "output_type": "execute_result"
    }
   ],
   "source": [
    "rv.cdf(0)"
   ]
  },
  {
   "cell_type": "code",
   "execution_count": 67,
   "metadata": {},
   "outputs": [],
   "source": [
    "def generate_label(param_names, param_values):\n",
    "    '''Generate parameter labels for the legend'''\n",
    "    params = [\"{}={}\".format(name,value) for name, value in zip(param_names, param_values)\n",
    "              if name is not None]\n",
    "    return \", \".join(params)\n",
    "\n",
    "def draw_pmf(ax, dist, param_names, param_values, xpts):\n",
    "    '''draw a pmf as part of a set of pmfs'''\n",
    "    label = generate_label(param_names, param_values)\n",
    "    ax.bar(xpts, \n",
    "           [dist(*param_values).pmf(x) for x in xpts], \n",
    "           label=label, \n",
    "           align='center',\n",
    "           color='grey')\n",
    "    \n",
    "def draw_pmf_grid(dist, param_names, param_values, xpts, height=2):\n",
    "    '''draw several pmfs for for various parameter values for a given distribution'''\n",
    "    figsize = (12, height * len(param_values))\n",
    "    fig = plt.figure(figsize=figsize)\n",
    "    for i, pv in enumerate(param_values, start=1):\n",
    "        if i == 1:\n",
    "            ax = ax1 = fig.add_subplot(len(param_values), 1, i)\n",
    "        else:\n",
    "            ax = fig.add_subplot(len(param_values), 1, i, sharey=ax1)\n",
    "        draw_pmf(ax, dist, param_names, pv, xpts)\n",
    "        ax.set_ylabel('p')\n",
    "        ax.set_ylim(bottom=0)\n",
    "        ax.set_xlim(left=min(xpts) - 0.5, right=max(xpts) + 0.5)\n",
    "        ax.legend()\n",
    "        plt.xticks(np.arange(min(xpts), np.ceil(max(xpts))+1)) ## force integer ticks\n",
    "    plt.show()"
   ]
  },
  {
   "cell_type": "markdown",
   "metadata": {},
   "source": [
    "## AM: Breakout\n",
    "________"
   ]
  },
  {
   "cell_type": "markdown",
   "metadata": {},
   "source": [
    "## Basic\n",
    "______"
   ]
  },
  {
   "cell_type": "markdown",
   "metadata": {},
   "source": [
    "#### Part 1: Identifying Distributions\n",
    "\n",
    "1. A typist makes on average 2 mistakes per page. What is the probability of a particular page having no errors on it?"
   ]
  },
  {
   "cell_type": "code",
   "execution_count": 5,
   "metadata": {},
   "outputs": [
    {
     "data": {
      "text/plain": [
       "0.1353352832366127"
      ]
     },
     "execution_count": 5,
     "metadata": {},
     "output_type": "execute_result"
    }
   ],
   "source": [
    "#we want to use poisson distribution because we are looking at rate\n",
    "\n",
    "# looking for P(X = 0)\n",
    "# rate = 2\n",
    "#poisson distribution only needs rate variable. to calculate pmf,\n",
    "#you need X\n",
    "\n",
    "\n",
    "\n",
    "stats.poisson.pmf(0, 2)"
   ]
  },
  {
   "cell_type": "markdown",
   "metadata": {},
   "source": [
    "2. Components are packed in boxes of 20. The probability of any individual component being defective is 0.1. What is the probability of a box containing exactly 2 defective components?"
   ]
  },
  {
   "cell_type": "code",
   "execution_count": 71,
   "metadata": {},
   "outputs": [
    {
     "data": {
      "text/plain": [
       "0.28517980706429813"
      ]
     },
     "execution_count": 71,
     "metadata": {},
     "output_type": "execute_result"
    }
   ],
   "source": [
    "#using binomial since we're looking at success/failure scenario\n",
    "#X ~ Binomial(n, p) ----> Binomial(20, .1)\n",
    "#P(X = 2)\n",
    "#looking for exact point, use PMF\n",
    "\n",
    "stats.binom.pmf(k=2,n=20,p=.1,)"
   ]
  },
  {
   "cell_type": "markdown",
   "metadata": {},
   "source": [
    "3. Components are packed in boxes of 20. The probability of any individual component being defective is 0.1. What is the probability of a box containing AT MOST 2 defective components?"
   ]
  },
  {
   "cell_type": "code",
   "execution_count": 74,
   "metadata": {},
   "outputs": [
    {
     "data": {
      "text/plain": [
       "0.6769268051894661"
      ]
     },
     "execution_count": 74,
     "metadata": {},
     "output_type": "execute_result"
    }
   ],
   "source": [
    "#P(X <= 2)\n",
    "#use CDF inclusive of 2\n",
    "\n",
    "#CDF = PMF(0) + PMF(1) + PMF(2)\n",
    "\n",
    "\n",
    "stats.binom.cdf(k=2, n=20, p=.1)"
   ]
  },
  {
   "cell_type": "markdown",
   "metadata": {},
   "source": [
    "4. Patrons arrive at a local bar at a rate of 30 per hour. What is the probability that the bouncer can take a three minute bathroom break without missing the next patron?"
   ]
  },
  {
   "cell_type": "code",
   "execution_count": 20,
   "metadata": {},
   "outputs": [
    {
     "data": {
      "text/plain": [
       "0.2231301601484298"
      ]
     },
     "execution_count": 20,
     "metadata": {},
     "output_type": "execute_result"
    }
   ],
   "source": [
    "#poisson since we are using rate, 30/hour, need to model to minutes\n",
    "#30/60mins ---> .5 per minutes\n",
    "#X ~ Poisson(.5)per minute OR X ~ Poisson(1.5) for all 3minutes\n",
    "#P(X <= 3) OR P(X = 0)\n",
    "\n",
    "#DON'T FULLY UNDERSTAND THIS ONE\n",
    "\n",
    "1 - stats.expon.cdf(3, scale=1/.5)"
   ]
  },
  {
   "cell_type": "markdown",
   "metadata": {},
   "source": [
    "5. You need to find a tall person, at least 6 feet tall, to help you reach a cookie jar. 8% of the population is 6 feet or taller, and people pass by on average twice per minute. If you wait on the sidewalk, what is the probability that you will have to wait longer than ten minutes to get some cookies?"
   ]
  },
  {
   "cell_type": "code",
   "execution_count": 21,
   "metadata": {},
   "outputs": [
    {
     "data": {
      "text/plain": [
       "0.20189651799465536"
      ]
     },
     "execution_count": 21,
     "metadata": {},
     "output_type": "execute_result"
    }
   ],
   "source": [
    "#has rate variable 2/minute, \n",
    "#probability of encountering person > 6' = .08\n",
    "# pop_taller_than_6 = .08\n",
    "# rate = 2\n",
    "# P(X > 10)\n",
    "\n",
    "#we multiply rate by probability of encountering that rate 2*.08,\n",
    "#gives us the rate to use\n",
    "\n",
    "#use cdf to model \n",
    "\n",
    "1 - stats.expon.cdf(10,scale=1/(2*.08))\n"
   ]
  },
  {
   "cell_type": "markdown",
   "metadata": {},
   "source": [
    "6. A harried passenger will be several minutes late for a scheduled 10 A.M. flight to NYC. Nevertheless, he might still make the flight, since boarding is always allowed until 10:10 A.M., and boarding is sometimes permitted up to 10:30 AM.\n",
    "\n",
    "Assuming the end time of the boarding interval is uniformly distributed over the above limits, find the probability that the passenger will make his flight, assuming he arrives at the boarding gate at 10:25."
   ]
  },
  {
   "cell_type": "code",
   "execution_count": 22,
   "metadata": {},
   "outputs": [
    {
     "data": {
      "text/plain": [
       "0.25"
      ]
     },
     "execution_count": 22,
     "metadata": {},
     "output_type": "execute_result"
    }
   ],
   "source": [
    "#end boarding time is uniformly distributed\n",
    "# 10:30 - 10:10 is a 20min interval, that has uniform proability\n",
    "# passenger arrives at 10:25 --> 15mins after allowed boarding\n",
    "#P(X > 15) you can board greater than 15mins\n",
    "\n",
    "1 - stats.uniform.cdf(15, scale=1/.05)\n",
    "\n",
    "\n",
    "#answer arrived at the same answer differently.\n"
   ]
  },
  {
   "cell_type": "markdown",
   "metadata": {},
   "source": [
    "7. Your cat starts to beg for dinner at 3:30 every day, and you suspect that it meows at a fixed rate. You've observed that about one fifth of the time your cat will not meow until 3:40, giving you 10 unexpected minutes of quiet. What is the probability your cat leaves you alone for 30 minutes?\n"
   ]
  },
  {
   "cell_type": "code",
   "execution_count": 25,
   "metadata": {},
   "outputs": [
    {
     "data": {
      "text/plain": [
       "1.6094379124341003"
      ]
     },
     "execution_count": 25,
     "metadata": {},
     "output_type": "execute_result"
    }
   ],
   "source": [
    "#1/5 - not meow until 15:40\n",
    "#4/5 - meow at 15:30\n",
    "\n",
    "#P(X = 10) = .20\n",
    "\n",
    "#P(X = 30)\n",
    "#lambda which is the rate is unknown.\n",
    "#e is given\n",
    "#k = .20\n",
    "-np.log(.2) #takes log of k to find the rate"
   ]
  },
  {
   "cell_type": "markdown",
   "metadata": {},
   "source": [
    "8. Somehow you ended up with two types of forks. There are the good forks, which are big and fit a healthy bite, but there are also these small, thin ones that you don't really understand what they are for, you should probably just get rid of them. You need two forks for you and your partner, and grab a fistful of 5. If there are 14 forks in the drawer, of which half are the good kind, what is the probability you have at least your two required good forks?"
   ]
  },
  {
   "cell_type": "code",
   "execution_count": 37,
   "metadata": {},
   "outputs": [
    {
     "data": {
      "text/plain": [
       "0.867132867132867"
      ]
     },
     "execution_count": 37,
     "metadata": {},
     "output_type": "execute_result"
    }
   ],
   "source": [
    "#need 2 forks, because there is no replacement, use hypo to model\n",
    "#grabbed 5 of 14 in drawer, .5 probability, half are good kind\n",
    "#X ~ Binomial(14, .5)\n",
    "#P(X >= 2) we can find P(X < 2) and subtract from 1\n",
    "\n",
    "1 - stats.hypergeom(M=14, N=5, n=7).cdf(1)"
   ]
  },
  {
   "cell_type": "markdown",
   "metadata": {},
   "source": []
  },
  {
   "cell_type": "markdown",
   "metadata": {},
   "source": [
    "Part 2: Binomial Hypothesis Tests\n",
    "\n",
    "In each of the following situations, a decision can be made by using a hypothesis test based on the binomial distribution. For each scenario:\n",
    "\n",
    "* State the null and alternate hypothesis.\n",
    "* State the distribution of the count under the null hypothesis (which, in every scenario, is a binomial distribution).<br>\n",
    "* Plot the null binomial distribution, and shade the region to the right of the count you actually observed.<br>\n",
    "* Calculate the p-value associated with the stated null and alternate hypothesis.<br>\n",
    "* Decide whether to reject the null hypothesis.\n",
    "\n",
    "\n",
    "1. Muriel still insists she can tell if you poured milk into tea before or after the hot water. To prove her point, she goes to goodwill and purchases ALL of their mugs, 137 in total. It take all day, but you manage to randomly make cups of tea milk or water first in all the mugs, without telling her how many there are of each, and test her on all of them. She gets 72 correct. Do you believe her now?\n",
    "\n",
    "2. You are working on your heelflips (a skateboarding trick). Your goal is to land them more than 50% of the time (as in, the true rate you land them is over one half. Of course, in any given sample, you may learn more or less than that ideal). You attempt 122 heelflips in a day, and land 72 of them. Do you believe you are as good as you want to be?\n",
    "\n",
    "3. Buses are seemingly always late, like 90% of them. Thoroughly dismayed with the state of public transportation, you spend all day collecting data and being just generally upset. Out of 53 total bus arrivals in a given day at your local bus stop, 49 of them were late. Is the situation really that bad, 90% of them?\n",
    "\n",
    "4. You'd like to think that you are improving at programming, but most of your programs don't run at first. Your instructors insist that this is normal, but it's discouraging, so you would like to have some measure of improvement. At the beginning, none of your programs ran the first time, but this week you wrote 6 programs, and one of them ran the first time! Can you confidently clam that more than 5% of your programs run the first time, you'd feel pretty good about that."
   ]
  },
  {
   "cell_type": "code",
   "execution_count": 108,
   "metadata": {},
   "outputs": [
    {
     "data": {
      "text/plain": [
       "0.5255474452554745"
      ]
     },
     "execution_count": 108,
     "metadata": {},
     "output_type": "execute_result"
    }
   ],
   "source": [
    "n = 137\n",
    "k = 72\n",
    "\n",
    "p = 72/137\n",
    "p"
   ]
  },
  {
   "cell_type": "markdown",
   "metadata": {},
   "source": [
    "#what is the null hypothesis\n",
    "\n",
    "Hnull = she can't tell which is poured\n",
    "Halt = \n",
    "\n",
    "stats.binom.pmf()"
   ]
  },
  {
   "cell_type": "code",
   "execution_count": null,
   "metadata": {},
   "outputs": [],
   "source": [
    "def draw_pdf(ax, dist, param_names, param_values, xpts):\n",
    "    '''draw a pdf of a given distribution for given parameters'''\n",
    "    label = generate_label(param_names, param_values)\n",
    "    ax.plot(xpts, [dist(*param_values).pdf(x) for x in xpts], label=label, linewidth=2)\n",
    "    \n",
    "def draw_cdf(ax, dist, param_names, param_values, xpts):\n",
    "    label = generate_label(param_names, param_values)\n",
    "    ax.plot(xpts, [dist(*param_values).cdf(x) for x in xpts], label=label, linewidth=2)  \n",
    "\n",
    "def draw_continuous_distributions(dist, param_names, param_values, xmin, xmax, figsize=(8,6)):\n",
    "    '''draw several pdfs for for various parameter values for a given distribution'''   \n",
    "    fig, axs = plt.subplots(1, 2, figsize=(12, 4))\n",
    "    xpts = np.linspace(xmin, xmax, 200)\n",
    "    for pv in param_values:\n",
    "        draw_cdf(axs[0], dist, param_names, pv, xpts)\n",
    "        draw_pdf(axs[1], dist, param_names, pv, xpts)\n",
    "    axs[0].set_ylabel('Probability')\n",
    "    axs[1].set_ylabel('Probability Density')\n",
    "    axs[0].legend()\n",
    "    axs[1].legend()"
   ]
  },
  {
   "cell_type": "code",
   "execution_count": 114,
   "metadata": {},
   "outputs": [
    {
     "ename": "IndentationError",
     "evalue": "unexpected indent (<ipython-input-114-f21772da6d94>, line 5)",
     "output_type": "error",
     "traceback": [
      "\u001b[0;36m  File \u001b[0;32m\"<ipython-input-114-f21772da6d94>\"\u001b[0;36m, line \u001b[0;32m5\u001b[0m\n\u001b[0;31m    for i in range(84, 101):\u001b[0m\n\u001b[0m    ^\u001b[0m\n\u001b[0;31mIndentationError\u001b[0m\u001b[0;31m:\u001b[0m unexpected indent\n"
     ]
    }
   ],
   "source": [
    "b = stats.binom(137,.5)\n",
    "fig, ax = plt.subplots(1, figsize=(16, 4))\n",
    "bars = ax.bar(range(101), [b.pmf(i) for i in range(101)], color=\"grey\", align=\"center\")\n",
    "ax.set_xlim(0, 101)\n",
    "    for i in range(84, 101):\n",
    "        bars[i].set_color('red')"
   ]
  },
  {
   "cell_type": "code",
   "execution_count": 124,
   "metadata": {},
   "outputs": [
    {
     "data": {
      "image/png": "[encoded data removed]",
      "text/plain": [
       "<Figure size 1152x288 with 1 Axes>"
      ]
     },
     "metadata": {},
     "output_type": "display_data"
    }
   ],
   "source": [
    "b = stats.binom(137,.5)\n",
    "fig, ax = plt.subplots(1, figsize=(16, 4))\n",
    "bars = ax.bar(range(138), [b.pmf(i) for i in range(138)], color=\"grey\", align=\"center\")\n",
    "ax.set_xlim(0, 101)\n",
    "\n",
    "for i in range(72, 138):\n",
    "    bars[i].set_color('#8Ae019')"
   ]
  },
  {
   "cell_type": "code",
   "execution_count": 125,
   "metadata": {},
   "outputs": [],
   "source": [
    "#decided failed to recject because p-value > rejection threshold(alpha)"
   ]
  },
  {
   "cell_type": "code",
   "execution_count": 149,
   "metadata": {},
   "outputs": [
    {
     "data": {
      "text/plain": [
       "0.03277382812500007"
      ]
     },
     "execution_count": 149,
     "metadata": {},
     "output_type": "execute_result"
    },
    {
     "data": {
      "image/png": "[encoded data removed]",
      "text/plain": [
       "<Figure size 1152x288 with 1 Axes>"
      ]
     },
     "metadata": {},
     "output_type": "display_data"
    }
   ],
   "source": [
    "\n",
    "def bino_graph(n, n_correct, p):\n",
    "    b = stats.binom(n,p)\n",
    "    fig, ax = plt.subplots(1, figsize=(16, 4))\n",
    "    bars = ax.bar(range(n+1), [b.pmf(i) for i in range(n+1)], color=\"grey\", align=\"center\")\n",
    "    ax.set_xlim(0, n+1)\n",
    "    for i in range(n_correct, n+1):\n",
    "        bars[i].set_color('blue')\n",
    "        \n",
    "    return 1 - stats.binom(n,p).cdf(n_correct)\n",
    "    \n",
    "bino_graph(6,1,.05)"
   ]
  },
  {
   "cell_type": "code",
   "execution_count": 150,
   "metadata": {},
   "outputs": [
    {
     "data": {
      "text/plain": [
       "0.2472212262165674"
      ]
     },
     "execution_count": 150,
     "metadata": {},
     "output_type": "execute_result"
    },
    {
     "data": {
      "image/png": "[encoded data removed]",
      "text/plain": [
       "<Figure size 1152x288 with 1 Axes>"
      ]
     },
     "metadata": {},
     "output_type": "display_data"
    }
   ],
   "source": [
    "bino_graph(137,72,.5)"
   ]
  },
  {
   "cell_type": "code",
   "execution_count": null,
   "metadata": {},
   "outputs": [],
   "source": [
    "\n",
    "bino_graph(137,72,.5)"
   ]
  }
 ],
 "metadata": {
  "kernelspec": {
   "display_name": "Python 3",
   "language": "python",
   "name": "python3"
  },
  "language_info": {
   "codemirror_mode": {
    "name": "ipython",
    "version": 3
   },
   "file_extension": ".py",
   "mimetype": "text/x-python",
   "name": "python",
   "nbconvert_exporter": "python",
   "pygments_lexer": "ipython3",
   "version": "3.7.6"
  }
 },
 "nbformat": 4,
 "nbformat_minor": 4
}
