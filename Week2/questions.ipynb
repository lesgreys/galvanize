{
 "cells": [
  {
   "cell_type": "markdown",
   "metadata": {},
   "source": [
    "### QUESTIONS\n",
    "_____"
   ]
  },
  {
   "cell_type": "code",
   "execution_count": 3,
   "metadata": {},
   "outputs": [
    {
     "data": {
      "text/plain": [
       "array([[[  4, 999,   6,   7],\n",
       "        [  4, 999,   6,   7],\n",
       "        [999,   1,   2,   3],\n",
       "        [  4, 999,   6,   7]],\n",
       "\n",
       "       [[999,   1,   2,   3],\n",
       "        [  4, 999,   6,   7],\n",
       "        [999,   1,   2,   3],\n",
       "        [  4, 999,   6,   7]],\n",
       "\n",
       "       [[999,   1,   2,   3],\n",
       "        [  4, 999,   6,   7],\n",
       "        [  4, 999,   6,   7],\n",
       "        [  4, 999,   6,   7]],\n",
       "\n",
       "       [[999,   1,   2,   3],\n",
       "        [  4, 999,   6,   7],\n",
       "        [999,   1,   2,   3],\n",
       "        [  4, 999,   6,   7]]])"
      ]
     },
     "execution_count": 3,
     "metadata": {},
     "output_type": "execute_result"
    }
   ],
   "source": [
    "import numpy as np\n",
    "x = np.arange(16).reshape((4, 4))\n",
    "x[[0, 1, 2, 3], [0, 1, 2, 3]] = 999\n",
    "x[x%2]\n",
    "\n",
    "#why does this spit out 4 new 4x4 arrays?"
   ]
  },
  {
   "cell_type": "code",
   "execution_count": null,
   "metadata": {},
   "outputs": [],
   "source": [
    "#struggling to understand the application of normalizing a vector? \n",
    "#I can understand it's process but in what uses does it apply?"
   ]
  },
  {
   "cell_type": "code",
   "execution_count": null,
   "metadata": {},
   "outputs": [],
   "source": [
    "#for Kristen: assesstment format questions to practice coding \n",
    "#within the same domaints\n"
   ]
  },
  {
   "cell_type": "code",
   "execution_count": 1,
   "metadata": {},
   "outputs": [],
   "source": [
    "#what's going on with EDA Case study?\n",
    "## will be moved to BIG DATA week as case study. "
   ]
  },
  {
   "cell_type": "code",
   "execution_count": 36,
   "metadata": {},
   "outputs": [],
   "source": [
    "mat = [[1, 2, 3, 4], [5, 6, 7, 8], [9, 10, 11, 12]]\n",
    "get_diag = []\n",
    "\n",
    "x = len(mat[0])\n",
    "for i in range(x-1):\n",
    "    y = mat[i][i]\n",
    "    get_diag.append(y)"
   ]
  },
  {
   "cell_type": "code",
   "execution_count": 37,
   "metadata": {},
   "outputs": [
    {
     "data": {
      "text/plain": [
       "[1, 6, 11]"
      ]
     },
     "execution_count": 37,
     "metadata": {},
     "output_type": "execute_result"
    }
   ],
   "source": [
    "get_diag"
   ]
  },
  {
   "cell_type": "code",
   "execution_count": 60,
   "metadata": {},
   "outputs": [
    {
     "data": {
      "text/plain": [
       "{'a': 3, 'b': 2}"
      ]
     },
     "execution_count": 60,
     "metadata": {},
     "output_type": "execute_result"
    }
   ],
   "source": [
    "def merge_dictionaries(d1, d2):\n",
    "    '''Returns a new dictionary containing all the keys from d1 and d2 with\n",
    "    their associated values. If a key is in both dictionaries, the new value is\n",
    "    the sum of the two values from d1 and d2.\n",
    "\n",
    "    Parameters\n",
    "    ----------\n",
    "    d1, d2: dictionary, dictionary\n",
    "\n",
    "    Returns\n",
    "    -------\n",
    "    dictionary\n",
    "    '''\n",
    "    \n",
    "   \n",
    "    return {k: d1.get(k,0) + d2.get(k,0) for k in set(d1) | set(d2)}\n",
    "        \n",
    "merge_dictionaries({'a': 5,'b':2, 'a':2},{'a':1})"
   ]
  },
  {
   "cell_type": "code",
   "execution_count": null,
   "metadata": {},
   "outputs": [],
   "source": []
  }
 ],
 "metadata": {
  "kernelspec": {
   "display_name": "Python 3",
   "language": "python",
   "name": "python3"
  },
  "language_info": {
   "codemirror_mode": {
    "name": "ipython",
    "version": 3
   },
   "file_extension": ".py",
   "mimetype": "text/x-python",
   "name": "python",
   "nbconvert_exporter": "python",
   "pygments_lexer": "ipython3",
   "version": "3.7.6"
  }
 },
 "nbformat": 4,
 "nbformat_minor": 4
}
