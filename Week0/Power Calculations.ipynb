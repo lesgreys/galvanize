{
 "cells": [
  {
   "cell_type": "markdown",
   "metadata": {},
   "source": [
    "# Power Calculations\n",
    "### Lets make the idea of power concrete with a worked example.\n",
    "### The Student's t test is a statistical hypothesis test for comparing the means from two samples of guassian variables. The null hypothesis of the test is that the sample populations have the same mean, eg that there is no difference between the samples or that the samples are drawn from the same population."
   ]
  },
  {
   "cell_type": "markdown",
   "metadata": {},
   "source": [
    "The test will calculate a p-value that can be interpreted as to whether the samples are the same (fail to reject the null hypothesis), or there is a statistially significant difference between the samples (reject the null hypothesis). A common significance level for interpreting the p-value is 0.05.\n",
    "### Significance level (alpha) = 0.05"
   ]
  },
  {
   "cell_type": "markdown",
   "metadata": {},
   "source": [
    "The size of the effect of comparing two groups can be quantified with an effect size measure. A common measure for comparing the difference in the mean from two groups is the Cohen's d measure. It calculated a standard score that describes the difference in terms of the number of standard deviations that the means are different. A large effect size for Cohen's d is .08 or higher, as is commonly accepted when using this measure\n",
    "### Effect Size: Cohen's d of at least 0.8"
   ]
  },
  {
   "cell_type": "markdown",
   "metadata": {},
   "source": [
    "We can use the default and assume a minimum statistical power of 0.8\n",
    "### Statistical Power: 0.8"
   ]
  },
  {
   "cell_type": "markdown",
   "metadata": {},
   "source": [
    "## With an experiment with these parameters, here is how we would calculate the minimum sample size"
   ]
  },
  {
   "cell_type": "code",
   "execution_count": null,
   "metadata": {},
   "outputs": [],
   "source": [
    "from statsmodels.stats.power import TTestIndPower\n",
    "# parameters for power analysis\n",
    "effect = 0.8\n",
    "alpha = 0.05\n",
    "power = 0.8\n",
    "# perform power analysis\n",
    "analysis = TTestIndPower()\n",
    "result = analysis.solve_power(effect, power=power, nobs1=None, ratio=1.0, alpha=alpha)\n",
    "print(f'Sample Size: {result}')"
   ]
  },
  {
   "cell_type": "markdown",
   "metadata": {},
   "source": []
  },
  {
   "cell_type": "code",
   "execution_count": 26,
   "metadata": {},
   "outputs": [
    {
     "name": "stdout",
     "output_type": "stream",
     "text": [
      "3\n"
     ]
    },
    {
     "data": {
      "text/plain": [
       "False"
      ]
     },
     "execution_count": 26,
     "metadata": {},
     "output_type": "execute_result"
    }
   ],
   "source": [
    "import math\n",
    "\n",
    "def is_prime(x):\n",
    "    isprime = False\n",
    "    n = int(math.sqrt(x))\n",
    "    \n",
    "    if x == 0 or x == 1:\n",
    "        isprime = True\n",
    "    if x % 2 == 0:\n",
    "        isprime = False\n",
    "    if x > 100:    \n",
    "        \n",
    "        else:\n",
    "            for i in range(3,n,2):\n",
    "                if x % i == 0:\n",
    "                    isprime = False\n",
    "                else:\n",
    "                    isprime = True\n",
    "        return isprime\n",
    "    else: \n",
    "        \n",
    "is_prime(13)"
   ]
  },
  {
   "cell_type": "code",
   "execution_count": 24,
   "metadata": {},
   "outputs": [
    {
     "data": {
      "text/plain": [
       "10.816653826391969"
      ]
     },
     "execution_count": 24,
     "metadata": {},
     "output_type": "execute_result"
    }
   ],
   "source": [
    "math.sqrt(117)"
   ]
  },
  {
   "cell_type": "code",
   "execution_count": null,
   "metadata": {},
   "outputs": [],
   "source": []
  }
 ],
 "metadata": {
  "kernelspec": {
   "display_name": "Python 3",
   "language": "python",
   "name": "python3"
  },
  "language_info": {
   "codemirror_mode": {
    "name": "ipython",
    "version": 3
   },
   "file_extension": ".py",
   "mimetype": "text/x-python",
   "name": "python",
   "nbconvert_exporter": "python",
   "pygments_lexer": "ipython3",
   "version": "3.7.6"
  }
 },
 "nbformat": 4,
 "nbformat_minor": 2
}
